{
  "nbformat": 4,
  "nbformat_minor": 0,
  "metadata": {
    "colab": {
      "provenance": [],
      "authorship_tag": "ABX9TyOneS8yGZQf5QVwi0F/UOFo",
      "include_colab_link": true
    },
    "kernelspec": {
      "name": "python3",
      "display_name": "Python 3"
    },
    "language_info": {
      "name": "python"
    }
  },
  "cells": [
    {
      "cell_type": "markdown",
      "metadata": {
        "id": "view-in-github",
        "colab_type": "text"
      },
      "source": [
        "<a href=\"https://colab.research.google.com/github/yamini542/AppliedAI_Assignments/blob/main/Untitled9.ipynb\" target=\"_parent\"><img src=\"https://colab.research.google.com/assets/colab-badge.svg\" alt=\"Open In Colab\"/></a>"
      ]
    },
    {
      "cell_type": "code",
      "execution_count": 1,
      "metadata": {
        "id": "lcmOxaUYJaD0"
      },
      "outputs": [],
      "source": [
        "import pandas as pd\n",
        "from sklearn.model_selection import train_test_split\n",
        "from sklearn.neural_network import MLPClassifier\n"
      ]
    },
    {
      "cell_type": "code",
      "source": [
        "df = pd.read_csv('https://raw.githubusercontent.com/yamini542/AppliedAI_Assignments/main/Assessment_4/Data/train.csv')\n",
        "# load the training data from train.csv file\n"
      ],
      "metadata": {
        "id": "j2TxtVOkKJQa"
      },
      "execution_count": 2,
      "outputs": []
    },
    {
      "cell_type": "code",
      "source": [
        "df.shape"
      ],
      "metadata": {
        "colab": {
          "base_uri": "https://localhost:8080/"
        },
        "id": "a30SMIns2FmZ",
        "outputId": "8947c9da-b83d-4617-89f2-ee9a549a9516"
      },
      "execution_count": 3,
      "outputs": [
        {
          "output_type": "execute_result",
          "data": {
            "text/plain": [
              "(668, 10)"
            ]
          },
          "metadata": {},
          "execution_count": 3
        }
      ]
    },
    {
      "cell_type": "code",
      "source": [
        "df.isnull().sum()"
      ],
      "metadata": {
        "colab": {
          "base_uri": "https://localhost:8080/"
        },
        "id": "duqTo5fai7wY",
        "outputId": "a19d902f-d8d7-46e5-a2b8-1ccf6973294d"
      },
      "execution_count": 9,
      "outputs": [
        {
          "output_type": "execute_result",
          "data": {
            "text/plain": [
              "id       0\n",
              "A1       0\n",
              "A2       0\n",
              "A3       0\n",
              "A4       0\n",
              "A5       0\n",
              "A6       0\n",
              "A7       0\n",
              "A8       0\n",
              "class    0\n",
              "dtype: int64"
            ]
          },
          "metadata": {},
          "execution_count": 9
        }
      ]
    },
    {
      "cell_type": "code",
      "source": [],
      "metadata": {
        "id": "VDRgkuFFjqm_"
      },
      "execution_count": null,
      "outputs": []
    },
    {
      "cell_type": "code",
      "source": [
        "import numpy as np\n",
        "\n",
        "# Calculate the z-scores for each feature\n",
        "z_scores = np.abs((df - df.mean()) / df.std())\n",
        "\n",
        "# Define a threshold for outliers (e.g. z-score > 3)\n",
        "outlier_threshold = 3\n",
        "\n",
        "# Identify outliers for each feature\n",
        "outliers = z_scores > outlier_threshold\n",
        "\n",
        "# Print the number of outliers for each feature\n",
        "print(outliers.sum())\n"
      ],
      "metadata": {
        "colab": {
          "base_uri": "https://localhost:8080/"
        },
        "id": "QJVx1fbjjllC",
        "outputId": "61642eee-7f2f-4b8c-d056-e02b9a9ff74e"
      },
      "execution_count": 10,
      "outputs": [
        {
          "output_type": "stream",
          "name": "stdout",
          "text": [
            "id        0\n",
            "A1        4\n",
            "A2        5\n",
            "A3       32\n",
            "A4        1\n",
            "A5       16\n",
            "A6       11\n",
            "A7       10\n",
            "A8        4\n",
            "class     0\n",
            "dtype: int64\n"
          ]
        }
      ]
    },
    {
      "cell_type": "code",
      "source": [
        "print(df['A3'].max())\n",
        "print(df['A3'].min())"
      ],
      "metadata": {
        "colab": {
          "base_uri": "https://localhost:8080/"
        },
        "id": "7ZjtmfK5m4yt",
        "outputId": "2a13d783-2c35-437c-fd6d-c59d8bdfd68b"
      },
      "execution_count": 12,
      "outputs": [
        {
          "output_type": "stream",
          "name": "stdout",
          "text": [
            "122\n",
            "0\n"
          ]
        }
      ]
    },
    {
      "cell_type": "code",
      "source": [
        "import pandas as pd\n",
        "\n",
        "# Load your data into a pandas DataFrame called df\n",
        "\n",
        "# Get the minimum and maximum values for each column\n",
        "for col in df.columns:\n",
        "    print(col, \"min:\", df[col].min(), \"max:\", df[col].max())\n"
      ],
      "metadata": {
        "colab": {
          "base_uri": "https://localhost:8080/"
        },
        "id": "FbAYqoaUneJE",
        "outputId": "604d7197-deb9-449c-effc-3aa32bbf26ef"
      },
      "execution_count": 13,
      "outputs": [
        {
          "output_type": "stream",
          "name": "stdout",
          "text": [
            "id min: 1 max: 668\n",
            "A1 min: 0 max: 17\n",
            "A2 min: 0 max: 199\n",
            "A3 min: 0 max: 122\n",
            "A4 min: 0 max: 99\n",
            "A5 min: 0 max: 846\n",
            "A6 min: 0.0 max: 67.1\n",
            "A7 min: 0.078 max: 2.42\n",
            "A8 min: 21 max: 81\n",
            "class min: 0 max: 1\n"
          ]
        }
      ]
    },
    {
      "cell_type": "markdown",
      "source": [
        "A1 - Number of times pregnant\n",
        "• A2 - Plasma glucose concentration a 2 hours in an oral glucose tolerance test\n",
        "• A3 - Diastolic blood pressure (mm Hg)\n",
        "• A4 - Triceps skin fold thickness (mm)\n",
        "• A5 - 2-Hour serum insulin (mu U/ml)\n",
        "• A6 - Body mass index (weight in kg/(height in m)^2)\n",
        "• A7 - Diabetes pedigree function\n",
        "• A8 - Age (years)\n"
      ],
      "metadata": {
        "id": "MgR-Lsnoniag"
      }
    },
    {
      "cell_type": "markdown",
      "source": [
        "checking for the outlier in A1 column1-\n",
        "\n",
        "A1 - Number of times pregnant\n",
        "\n"
      ],
      "metadata": {
        "id": "4YWbsjmVoRdS"
      }
    },
    {
      "cell_type": "code",
      "source": [
        "# Group the data by the \"A1\" column and calculate the mean \"class\" value for each group\n",
        "pregnancies_vs_diabetes = df.groupby('A1')['class'].mean()\n",
        "\n",
        "# Print the results\n",
        "print(pregnancies_vs_diabetes)\n"
      ],
      "metadata": {
        "colab": {
          "base_uri": "https://localhost:8080/"
        },
        "id": "rA7WjYRyoQRm",
        "outputId": "ad4a183a-f422-4460-c014-6999fda90ec6"
      },
      "execution_count": 14,
      "outputs": [
        {
          "output_type": "stream",
          "name": "stdout",
          "text": [
            "A1\n",
            "0     0.343137\n",
            "1     0.189655\n",
            "2     0.197674\n",
            "3     0.343750\n",
            "4     0.350000\n",
            "5     0.384615\n",
            "6     0.279070\n",
            "7     0.536585\n",
            "8     0.606061\n",
            "9     0.636364\n",
            "10    0.421053\n",
            "11    0.600000\n",
            "12    0.500000\n",
            "13    0.500000\n",
            "14    1.000000\n",
            "15    1.000000\n",
            "17    1.000000\n",
            "Name: class, dtype: float64\n"
          ]
        }
      ]
    },
    {
      "cell_type": "code",
      "source": [
        "duplicates = df[df.duplicated(subset=['id'], keep=False)]\n",
        "print(duplicates)\n",
        "#there are no duplicates in the data frame"
      ],
      "metadata": {
        "colab": {
          "base_uri": "https://localhost:8080/"
        },
        "id": "VAprDUWmo4CO",
        "outputId": "43add554-efb7-431c-b0fd-d9dd97e0af4b"
      },
      "execution_count": 15,
      "outputs": [
        {
          "output_type": "stream",
          "name": "stdout",
          "text": [
            "Empty DataFrame\n",
            "Columns: [id, A1, A2, A3, A4, A5, A6, A7, A8, class]\n",
            "Index: []\n"
          ]
        }
      ]
    },
    {
      "cell_type": "code",
      "source": [
        "\n",
        "# extract features and labels from the training data\n",
        "X = df.iloc[:, 1:9]\n",
        "y = df['class']\n",
        "\n",
        "# split the data into training and validation sets\n",
        "X_train, X_val, y_train, y_val = train_test_split(X, y, test_size=0.3, random_state=100)\n"
      ],
      "metadata": {
        "id": "mCUYK7ZxKNxX"
      },
      "execution_count": 18,
      "outputs": []
    },
    {
      "cell_type": "code",
      "source": [],
      "metadata": {
        "id": "pgQNqiCei6dI"
      },
      "execution_count": null,
      "outputs": []
    },
    {
      "cell_type": "code",
      "source": [
        "# define the neural network model\n",
        "model = MLPClassifier(hidden_layer_sizes=(8, 4),activation='relu', solver='adam', max_iter=1000, random_state=100)\n"
      ],
      "metadata": {
        "id": "u1hOokthKhs7"
      },
      "execution_count": 5,
      "outputs": []
    },
    {
      "cell_type": "code",
      "source": [
        "# train the model on the training data\n",
        "model.fit(X_train, y_train)\n"
      ],
      "metadata": {
        "colab": {
          "base_uri": "https://localhost:8080/"
        },
        "id": "tqAUkwH_KlrY",
        "outputId": "69856630-c58b-4de4-e9c0-4aeada98cfd8"
      },
      "execution_count": null,
      "outputs": [
        {
          "output_type": "execute_result",
          "data": {
            "text/plain": [
              "MLPClassifier(hidden_layer_sizes=(8, 4), max_iter=1000, random_state=100)"
            ]
          },
          "metadata": {},
          "execution_count": 5
        }
      ]
    },
    {
      "cell_type": "code",
      "source": [
        "# evaluate the performance of the model on the validation set\n",
        "accuracy = model.score(X_val, y_val)\n",
        "print('Validation set accuracy: {:.2f}%'.format(accuracy * 100))\n"
      ],
      "metadata": {
        "colab": {
          "base_uri": "https://localhost:8080/"
        },
        "id": "UWZKeB2fKu3K",
        "outputId": "bd7ca949-964a-477a-ada8-4d41771c22f0"
      },
      "execution_count": null,
      "outputs": [
        {
          "output_type": "stream",
          "name": "stdout",
          "text": [
            "Validation set accuracy: 71.64%\n"
          ]
        }
      ]
    },
    {
      "cell_type": "code",
      "source": [
        "final_loss = model.loss_\n",
        "print(\"Final loss value: \", final_loss)"
      ],
      "metadata": {
        "colab": {
          "base_uri": "https://localhost:8080/"
        },
        "id": "FF8NutIzNY60",
        "outputId": "e48c23e9-84b6-4b91-e3a6-fd909dc9dd8a"
      },
      "execution_count": null,
      "outputs": [
        {
          "output_type": "stream",
          "name": "stdout",
          "text": [
            "Final loss value:  0.5261563560356196\n"
          ]
        }
      ]
    },
    {
      "cell_type": "code",
      "source": [
        "# load the test data from test.csv file\n",
        "df_test = pd.read_csv('https://raw.githubusercontent.com/yamini542/AppliedAI_Assignments/main/Assessment_4/Data/test.csv')\n",
        "df_test.head(5)\n",
        "\n"
      ],
      "metadata": {
        "colab": {
          "base_uri": "https://localhost:8080/",
          "height": 206
        },
        "id": "XTAhcZ6pLmtP",
        "outputId": "6a505864-df08-40e9-d099-11ab1b2fe328"
      },
      "execution_count": null,
      "outputs": [
        {
          "output_type": "execute_result",
          "data": {
            "text/plain": [
              "   id  A1   A2   A3  A4   A5    A6     A7  A8\n",
              "0   1   6   98   58  33  190  34.0  0.430  43\n",
              "1   2   9  154   78  30  100  30.9  0.164  45\n",
              "2   3   6  165   68  26  168  33.6  0.631  49\n",
              "3   4   1   99   58  10    0  25.4  0.551  21\n",
              "4   5  10   68  106  23   49  35.5  0.285  47"
            ],
            "text/html": [
              "\n",
              "  <div id=\"df-9ab8ae57-888d-4981-9def-be7e38bbdd37\">\n",
              "    <div class=\"colab-df-container\">\n",
              "      <div>\n",
              "<style scoped>\n",
              "    .dataframe tbody tr th:only-of-type {\n",
              "        vertical-align: middle;\n",
              "    }\n",
              "\n",
              "    .dataframe tbody tr th {\n",
              "        vertical-align: top;\n",
              "    }\n",
              "\n",
              "    .dataframe thead th {\n",
              "        text-align: right;\n",
              "    }\n",
              "</style>\n",
              "<table border=\"1\" class=\"dataframe\">\n",
              "  <thead>\n",
              "    <tr style=\"text-align: right;\">\n",
              "      <th></th>\n",
              "      <th>id</th>\n",
              "      <th>A1</th>\n",
              "      <th>A2</th>\n",
              "      <th>A3</th>\n",
              "      <th>A4</th>\n",
              "      <th>A5</th>\n",
              "      <th>A6</th>\n",
              "      <th>A7</th>\n",
              "      <th>A8</th>\n",
              "    </tr>\n",
              "  </thead>\n",
              "  <tbody>\n",
              "    <tr>\n",
              "      <th>0</th>\n",
              "      <td>1</td>\n",
              "      <td>6</td>\n",
              "      <td>98</td>\n",
              "      <td>58</td>\n",
              "      <td>33</td>\n",
              "      <td>190</td>\n",
              "      <td>34.0</td>\n",
              "      <td>0.430</td>\n",
              "      <td>43</td>\n",
              "    </tr>\n",
              "    <tr>\n",
              "      <th>1</th>\n",
              "      <td>2</td>\n",
              "      <td>9</td>\n",
              "      <td>154</td>\n",
              "      <td>78</td>\n",
              "      <td>30</td>\n",
              "      <td>100</td>\n",
              "      <td>30.9</td>\n",
              "      <td>0.164</td>\n",
              "      <td>45</td>\n",
              "    </tr>\n",
              "    <tr>\n",
              "      <th>2</th>\n",
              "      <td>3</td>\n",
              "      <td>6</td>\n",
              "      <td>165</td>\n",
              "      <td>68</td>\n",
              "      <td>26</td>\n",
              "      <td>168</td>\n",
              "      <td>33.6</td>\n",
              "      <td>0.631</td>\n",
              "      <td>49</td>\n",
              "    </tr>\n",
              "    <tr>\n",
              "      <th>3</th>\n",
              "      <td>4</td>\n",
              "      <td>1</td>\n",
              "      <td>99</td>\n",
              "      <td>58</td>\n",
              "      <td>10</td>\n",
              "      <td>0</td>\n",
              "      <td>25.4</td>\n",
              "      <td>0.551</td>\n",
              "      <td>21</td>\n",
              "    </tr>\n",
              "    <tr>\n",
              "      <th>4</th>\n",
              "      <td>5</td>\n",
              "      <td>10</td>\n",
              "      <td>68</td>\n",
              "      <td>106</td>\n",
              "      <td>23</td>\n",
              "      <td>49</td>\n",
              "      <td>35.5</td>\n",
              "      <td>0.285</td>\n",
              "      <td>47</td>\n",
              "    </tr>\n",
              "  </tbody>\n",
              "</table>\n",
              "</div>\n",
              "      <button class=\"colab-df-convert\" onclick=\"convertToInteractive('df-9ab8ae57-888d-4981-9def-be7e38bbdd37')\"\n",
              "              title=\"Convert this dataframe to an interactive table.\"\n",
              "              style=\"display:none;\">\n",
              "        \n",
              "  <svg xmlns=\"http://www.w3.org/2000/svg\" height=\"24px\"viewBox=\"0 0 24 24\"\n",
              "       width=\"24px\">\n",
              "    <path d=\"M0 0h24v24H0V0z\" fill=\"none\"/>\n",
              "    <path d=\"M18.56 5.44l.94 2.06.94-2.06 2.06-.94-2.06-.94-.94-2.06-.94 2.06-2.06.94zm-11 1L8.5 8.5l.94-2.06 2.06-.94-2.06-.94L8.5 2.5l-.94 2.06-2.06.94zm10 10l.94 2.06.94-2.06 2.06-.94-2.06-.94-.94-2.06-.94 2.06-2.06.94z\"/><path d=\"M17.41 7.96l-1.37-1.37c-.4-.4-.92-.59-1.43-.59-.52 0-1.04.2-1.43.59L10.3 9.45l-7.72 7.72c-.78.78-.78 2.05 0 2.83L4 21.41c.39.39.9.59 1.41.59.51 0 1.02-.2 1.41-.59l7.78-7.78 2.81-2.81c.8-.78.8-2.07 0-2.86zM5.41 20L4 18.59l7.72-7.72 1.47 1.35L5.41 20z\"/>\n",
              "  </svg>\n",
              "      </button>\n",
              "      \n",
              "  <style>\n",
              "    .colab-df-container {\n",
              "      display:flex;\n",
              "      flex-wrap:wrap;\n",
              "      gap: 12px;\n",
              "    }\n",
              "\n",
              "    .colab-df-convert {\n",
              "      background-color: #E8F0FE;\n",
              "      border: none;\n",
              "      border-radius: 50%;\n",
              "      cursor: pointer;\n",
              "      display: none;\n",
              "      fill: #1967D2;\n",
              "      height: 32px;\n",
              "      padding: 0 0 0 0;\n",
              "      width: 32px;\n",
              "    }\n",
              "\n",
              "    .colab-df-convert:hover {\n",
              "      background-color: #E2EBFA;\n",
              "      box-shadow: 0px 1px 2px rgba(60, 64, 67, 0.3), 0px 1px 3px 1px rgba(60, 64, 67, 0.15);\n",
              "      fill: #174EA6;\n",
              "    }\n",
              "\n",
              "    [theme=dark] .colab-df-convert {\n",
              "      background-color: #3B4455;\n",
              "      fill: #D2E3FC;\n",
              "    }\n",
              "\n",
              "    [theme=dark] .colab-df-convert:hover {\n",
              "      background-color: #434B5C;\n",
              "      box-shadow: 0px 1px 3px 1px rgba(0, 0, 0, 0.15);\n",
              "      filter: drop-shadow(0px 1px 2px rgba(0, 0, 0, 0.3));\n",
              "      fill: #FFFFFF;\n",
              "    }\n",
              "  </style>\n",
              "\n",
              "      <script>\n",
              "        const buttonEl =\n",
              "          document.querySelector('#df-9ab8ae57-888d-4981-9def-be7e38bbdd37 button.colab-df-convert');\n",
              "        buttonEl.style.display =\n",
              "          google.colab.kernel.accessAllowed ? 'block' : 'none';\n",
              "\n",
              "        async function convertToInteractive(key) {\n",
              "          const element = document.querySelector('#df-9ab8ae57-888d-4981-9def-be7e38bbdd37');\n",
              "          const dataTable =\n",
              "            await google.colab.kernel.invokeFunction('convertToInteractive',\n",
              "                                                     [key], {});\n",
              "          if (!dataTable) return;\n",
              "\n",
              "          const docLinkHtml = 'Like what you see? Visit the ' +\n",
              "            '<a target=\"_blank\" href=https://colab.research.google.com/notebooks/data_table.ipynb>data table notebook</a>'\n",
              "            + ' to learn more about interactive tables.';\n",
              "          element.innerHTML = '';\n",
              "          dataTable['output_type'] = 'display_data';\n",
              "          await google.colab.output.renderOutput(dataTable, element);\n",
              "          const docLink = document.createElement('div');\n",
              "          docLink.innerHTML = docLinkHtml;\n",
              "          element.appendChild(docLink);\n",
              "        }\n",
              "      </script>\n",
              "    </div>\n",
              "  </div>\n",
              "  "
            ]
          },
          "metadata": {},
          "execution_count": 8
        }
      ]
    },
    {
      "cell_type": "code",
      "source": [
        "# make predictions on test dataset\n",
        "X_test = df_test.drop('id', axis=1)\n",
        "y_pred = model.predict(X_test)\n",
        "\n",
        "# print the predicted class values\n",
        "print(y_pred)"
      ],
      "metadata": {
        "colab": {
          "base_uri": "https://localhost:8080/"
        },
        "id": "mLteFjOkLueW",
        "outputId": "124cd201-a7ec-420c-8666-66883460b5e1"
      },
      "execution_count": null,
      "outputs": [
        {
          "output_type": "stream",
          "name": "stdout",
          "text": [
            "[1 0 1 0 0 0 0 1 1 0 0 1 0 0 0 0 0 1 0 0 0 1 0 0 0 1 0 1 1 1 0 0 1 0 0 0 0\n",
            " 0 0 1 1 1 0 0 0 0 0 1 1 0 1 0 0 1 0 0 0 0 1 0 1 0 0 0 0 1 0 0 0 0 0 0 0 0\n",
            " 0 0 0 0 0 0 1 1 0 0 0 1 1 0 0 0 0 1 0 1 0 1 0 0 0 0]\n"
          ]
        }
      ]
    },
    {
      "cell_type": "code",
      "source": [],
      "metadata": {
        "id": "1UW7lcZ7MRXN"
      },
      "execution_count": null,
      "outputs": []
    },
    {
      "cell_type": "markdown",
      "source": [
        "#model_1 mlp more layers"
      ],
      "metadata": {
        "id": "hi122iz6NvB6"
      }
    },
    {
      "cell_type": "code",
      "source": [
        "model_1 = MLPClassifier(hidden_layer_sizes=(64,64),activation='relu', solver='adam', max_iter=1000, random_state=100)\n"
      ],
      "metadata": {
        "id": "xJ46vD8QMjNS"
      },
      "execution_count": null,
      "outputs": []
    },
    {
      "cell_type": "code",
      "source": [],
      "metadata": {
        "id": "8fnII-56UqGF"
      },
      "execution_count": null,
      "outputs": []
    },
    {
      "cell_type": "markdown",
      "source": [],
      "metadata": {
        "id": "DKWukJNkUpra"
      }
    },
    {
      "cell_type": "code",
      "source": [
        "# train the model on the training data\n",
        "model_1.fit(X_train, y_train)\n",
        "# evaluate the performance of the model on the validation set\n",
        "accuracy_model1 = model_1.score(X_val, y_val)\n",
        "print('Validation set accuracy: {:.2f}%'.format(accuracy * 100))\n",
        "final_loss_model1 = model_1.loss_\n",
        "print(\"Final loss value: \", final_loss_model1)"
      ],
      "metadata": {
        "colab": {
          "base_uri": "https://localhost:8080/"
        },
        "id": "CwpdR49bMjPs",
        "outputId": "20b8e7d5-5885-4702-e242-4789f97c1d72"
      },
      "execution_count": null,
      "outputs": [
        {
          "output_type": "stream",
          "name": "stdout",
          "text": [
            "Validation set accuracy: 71.64%\n",
            "Final loss value:  0.5295326995543577\n"
          ]
        }
      ]
    },
    {
      "cell_type": "code",
      "source": [
        "model_1a = MLPClassifier(hidden_layer_sizes=(24,24,24),activation='relu', solver='adam', max_iter=1000, random_state=100)\n",
        "# train the model on the training data\n",
        "model_1a.fit(X_train, y_train)\n",
        "# evaluate the performance of the model on the validation set\n",
        "accuracy_model1a = model_1a.score(X_val, y_val)\n",
        "print('Validation set accuracy: {:.2f}%'.format(accuracy * 100))\n",
        "final_loss_model1a = model_1a.loss_\n",
        "print(\"Final loss value: \", final_loss_model1a)"
      ],
      "metadata": {
        "colab": {
          "base_uri": "https://localhost:8080/"
        },
        "id": "7oCygwyyUsth",
        "outputId": "362aab14-b2d9-4e37-e6bc-051c5fe911b1"
      },
      "execution_count": null,
      "outputs": [
        {
          "output_type": "stream",
          "name": "stdout",
          "text": [
            "Validation set accuracy: 71.64%\n",
            "Final loss value:  0.4965530885545119\n"
          ]
        }
      ]
    },
    {
      "cell_type": "code",
      "source": [
        "model_1b = MLPClassifier(hidden_layer_sizes=(8,4,2),activation='relu', solver='adam', max_iter=50, random_state=100)\n",
        "# train the model on the training data\n",
        "model_1b.fit(X_train, y_train)\n",
        "# evaluate the performance of the model on the validation set\n",
        "accuracy_model1b = model_1a.score(X_val, y_val)\n",
        "print('Validation set accuracy: {:.2f}%'.format(accuracy * 100))\n",
        "final_loss_model1b = model_1b.loss_\n",
        "print(\"Final loss value: \", final_loss_model1a)"
      ],
      "metadata": {
        "colab": {
          "base_uri": "https://localhost:8080/"
        },
        "id": "arDQQK8aU4gq",
        "outputId": "9e80e7d2-5291-4e71-b695-cf7a76e78ad4"
      },
      "execution_count": null,
      "outputs": [
        {
          "output_type": "stream",
          "name": "stdout",
          "text": [
            "Validation set accuracy: 71.64%\n",
            "Final loss value:  0.4965530885545119\n"
          ]
        },
        {
          "output_type": "stream",
          "name": "stderr",
          "text": [
            "/usr/local/lib/python3.8/dist-packages/sklearn/neural_network/_multilayer_perceptron.py:692: ConvergenceWarning: Stochastic Optimizer: Maximum iterations (50) reached and the optimization hasn't converged yet.\n",
            "  warnings.warn(\n"
          ]
        }
      ]
    },
    {
      "cell_type": "code",
      "source": [],
      "metadata": {
        "id": "RgQQwzlJXm5g"
      },
      "execution_count": null,
      "outputs": []
    },
    {
      "cell_type": "code",
      "source": [
        "model_1c = MLPClassifier(hidden_layer_sizes=(16,8,4),activation='relu', solver='adam', max_iter=60, random_state=100)\n",
        "# train the model on the training data\n",
        "model_1c.fit(X_train, y_train)\n",
        "# evaluate the performance of the model on the validation set\n",
        "accuracy_model1c = model_1c.score(X_val, y_val)\n",
        "print('Validation set accuracy: {:.2f}%'.format(accuracy * 100))\n",
        "final_loss_model1c = model_1c.loss_\n",
        "print(\"Final loss value: \", final_loss_model1c)"
      ],
      "metadata": {
        "colab": {
          "base_uri": "https://localhost:8080/"
        },
        "id": "d1YLDr96Wtxz",
        "outputId": "8dc027e4-9cb3-460a-8560-65a8c9febd4e"
      },
      "execution_count": null,
      "outputs": [
        {
          "output_type": "stream",
          "name": "stdout",
          "text": [
            "Validation set accuracy: 71.64%\n",
            "Final loss value:  0.6877275762493897\n"
          ]
        },
        {
          "output_type": "stream",
          "name": "stderr",
          "text": [
            "/usr/local/lib/python3.8/dist-packages/sklearn/neural_network/_multilayer_perceptron.py:692: ConvergenceWarning: Stochastic Optimizer: Maximum iterations (60) reached and the optimization hasn't converged yet.\n",
            "  warnings.warn(\n"
          ]
        }
      ]
    },
    {
      "cell_type": "code",
      "source": [
        "model_1d = MLPClassifier(hidden_layer_sizes=(1024,128,16),activation='tanh', solver='adam', max_iter=500, random_state=100)\n",
        "# train the model on the training data\n",
        "model_1d.fit(X_train, y_train)\n",
        "# evaluate the performance of the model on the validation set\n",
        "accuracy_model1d = model_1d.score(X_val, y_val)\n",
        "print('Validation set accuracy: {:.2f}%'.format(accuracy * 100))\n",
        "final_loss_model1d = model_1d.loss_\n",
        "print(\"Final loss value: \", final_loss_model1d)"
      ],
      "metadata": {
        "colab": {
          "base_uri": "https://localhost:8080/"
        },
        "id": "56IbMycNXY-P",
        "outputId": "72ce8fa4-9a65-4f44-cbf3-e734b5a9f8d6"
      },
      "execution_count": null,
      "outputs": [
        {
          "output_type": "stream",
          "name": "stdout",
          "text": [
            "Validation set accuracy: 71.64%\n",
            "Final loss value:  0.3131040382696714\n"
          ]
        }
      ]
    },
    {
      "cell_type": "code",
      "source": [
        "model_1e = MLPClassifier(hidden_layer_sizes=(30,30,30),activation='relu', solver='adam', max_iter=500, random_state=42)\n",
        "# train the model on the training data\n",
        "model_1e.fit(X_train, y_train)\n",
        "# evaluate the performance of the model on the validation set\n",
        "accuracy_model1e = model_1d.score(X_val, y_val)\n",
        "print('Validation set accuracy: {:.2f}%'.format(accuracy * 100))\n",
        "final_loss_model1e = model_1d.loss_\n",
        "print(\"Final loss value: \", final_loss_model1e)"
      ],
      "metadata": {
        "colab": {
          "base_uri": "https://localhost:8080/"
        },
        "id": "cLwDjx9WieFx",
        "outputId": "cfaca3f1-feca-406c-dd68-b5fee08e3c9e"
      },
      "execution_count": null,
      "outputs": [
        {
          "output_type": "stream",
          "name": "stdout",
          "text": [
            "Validation set accuracy: 71.64%\n",
            "Final loss value:  0.3131040382696714\n"
          ]
        }
      ]
    },
    {
      "cell_type": "code",
      "source": [
        "from sklearn.neural_network import MLPClassifier\n",
        "from sklearn.model_selection import GridSearchCV\n",
        "\n",
        "# Define the hyperparameters to test\n",
        "hyperparameters = {\n",
        "    'hidden_layer_sizes': [(8,), (16,), (32,), (64,), (128,), (256,), (512,), (1024,), (2048,)],\n",
        "    'activation': ['relu', 'tanh', 'logistic'], # try sigmoid\n",
        "    'solver': ['sgd', 'adam'],\n",
        "    'max_iter': [100, 500, 1000],\n",
        "}\n",
        "\n",
        "# Create the model\n",
        "model_1e = MLPClassifier(random_state=100)\n",
        "\n",
        "# Use GridSearchCV to find the best hyperparameters\n",
        "grid = GridSearchCV(model_1e, hyperparameters, cv=5, n_jobs=-1)\n",
        "grid.fit(X_train, y_train)\n",
        "\n",
        "# Print the best hyperparameters and the accuracy on the test set\n",
        "print('Best hyperparameters:', grid.best_params_)\n",
        "print('Test set accuracy:', grid.score(X_val,y_val))\n"
      ],
      "metadata": {
        "colab": {
          "base_uri": "https://localhost:8080/"
        },
        "id": "7rvU4xMOZe_i",
        "outputId": "8c1e577a-3791-412d-f60e-6a11c045eae5"
      },
      "execution_count": null,
      "outputs": [
        {
          "output_type": "stream",
          "name": "stdout",
          "text": [
            "Best hyperparameters: {'activation': 'logistic', 'hidden_layer_sizes': (1024,), 'max_iter': 500, 'solver': 'adam'}\n",
            "Test set accuracy: 0.7711442786069652\n"
          ]
        }
      ]
    },
    {
      "cell_type": "code",
      "source": [
        "from sklearn.model_selection import RandomizedSearchCV\n",
        "from sklearn.neural_network import MLPClassifier\n",
        "from scipy.stats import randint\n",
        "\n",
        "# Define the hyperparameter space\n",
        "param_dist = {\n",
        "    'hidden_layer_sizes': [(16,), (32,), (64,), (128,), (256,)],\n",
        "    'activation': ['relu', 'tanh', 'logistic'],\n",
        "    'solver': ['adam', 'lbfgs'],\n",
        "    'alpha': [0.0001, 0.001, 0.01],\n",
        "    'max_iter': [100, 200, 500,1000]\n",
        "}\n",
        "\n",
        "# Create the MLPClassifier model\n",
        "mlp = MLPClassifier()\n",
        "\n",
        "# Randomized search\n",
        "random_search = RandomizedSearchCV(\n",
        "    mlp, param_distributions=param_dist, n_iter=50, cv=5, n_jobs=-1\n",
        ")\n",
        "\n",
        "# Fit the model to the training data\n",
        "random_search.fit(X_train, y_train)\n",
        "\n",
        "# Print the best hyperparameters\n",
        "print(random_search.best_params_)\n"
      ],
      "metadata": {
        "colab": {
          "base_uri": "https://localhost:8080/"
        },
        "id": "RDWhguLXWOWY",
        "outputId": "701a8974-8eac-439e-dfc5-dcf7bdf9a1e1"
      },
      "execution_count": null,
      "outputs": [
        {
          "output_type": "stream",
          "name": "stdout",
          "text": [
            "{'solver': 'adam', 'max_iter': 500, 'hidden_layer_sizes': (128,), 'alpha': 0.001, 'activation': 'relu'}\n"
          ]
        }
      ]
    },
    {
      "cell_type": "code",
      "source": [
        "model_1f = MLPClassifier(hidden_layer_sizes=(15,7,7,1),activation='relu', solver='adam', max_iter=1000, random_state=100)\n"
      ],
      "metadata": {
        "id": "w62ZPm8CxbL_"
      },
      "execution_count": null,
      "outputs": []
    },
    {
      "cell_type": "code",
      "source": [
        "# train the model on the training data\n",
        "model_1f.fit(X_train, y_train)\n",
        "# evaluate the performance of the model on the validation set\n",
        "accuracy_model1d = model_1f.score(X_val, y_val)\n",
        "print('Validation set accuracy: {:.2f}%'.format(accuracy * 100))\n",
        "final_loss_model1f = model_1f.loss_\n",
        "print(\"Final loss value: \", final_loss_model1f)"
      ],
      "metadata": {
        "colab": {
          "base_uri": "https://localhost:8080/"
        },
        "id": "q1pGctTjxsN8",
        "outputId": "e156fa9c-ea57-4be9-80d9-cea313f13012"
      },
      "execution_count": null,
      "outputs": [
        {
          "output_type": "stream",
          "name": "stdout",
          "text": [
            "Validation set accuracy: 71.64%\n",
            "Final loss value:  0.653687325355747\n"
          ]
        }
      ]
    },
    {
      "cell_type": "markdown",
      "source": [
        "#model_2 with the keras"
      ],
      "metadata": {
        "id": "UET8PuC9MkIL"
      }
    },
    {
      "cell_type": "code",
      "source": [
        "from tensorflow import keras\n",
        "from tensorflow.keras import layers\n",
        "# Define the neural network architecture\n",
        "model_2 = keras.Sequential([\n",
        "    layers.Dense(1024, activation='relu', input_shape=[X_train.shape[1]]),\n",
        "    layers.Dense(64, activation='relu'),\n",
        "    layers.Dense(1, activation='sigmoid'),\n",
        "])\n",
        "\n",
        "# Compile the model\n",
        "model_2.compile(optimizer='adam', loss='binary_crossentropy', metrics=['accuracy'])\n",
        "\n",
        "# Train the model\n",
        "history = model_2.fit(X_train, y_train, validation_data=(X_val, y_val), epochs=100, batch_size=32)\n",
        "\n",
        "# Evaluate the model on the validation set\n",
        "results = model_2.evaluate(X_val, y_val, batch_size=128)\n",
        "print(\"Validation accuracy: \", results[1])\n",
        "print(\"Validation loss: \", results[0])"
      ],
      "metadata": {
        "colab": {
          "base_uri": "https://localhost:8080/"
        },
        "id": "VAFIi0zaMjTK",
        "outputId": "ad4f5172-61f3-4e20-9642-2b4adb5da0e5"
      },
      "execution_count": null,
      "outputs": [
        {
          "output_type": "stream",
          "name": "stdout",
          "text": [
            "Epoch 1/100\n",
            "15/15 [==============================] - 2s 27ms/step - loss: 1.3110 - accuracy: 0.6060 - val_loss: 0.7173 - val_accuracy: 0.6617\n",
            "Epoch 2/100\n",
            "15/15 [==============================] - 0s 15ms/step - loss: 1.0199 - accuracy: 0.6317 - val_loss: 0.6925 - val_accuracy: 0.6766\n",
            "Epoch 3/100\n",
            "15/15 [==============================] - 0s 12ms/step - loss: 0.7926 - accuracy: 0.6381 - val_loss: 0.6550 - val_accuracy: 0.6617\n",
            "Epoch 4/100\n",
            "15/15 [==============================] - 0s 5ms/step - loss: 0.6228 - accuracy: 0.7281 - val_loss: 0.6033 - val_accuracy: 0.6915\n",
            "Epoch 5/100\n",
            "15/15 [==============================] - 0s 5ms/step - loss: 0.8551 - accuracy: 0.6809 - val_loss: 0.8853 - val_accuracy: 0.6567\n",
            "Epoch 6/100\n",
            "15/15 [==============================] - 0s 6ms/step - loss: 1.0858 - accuracy: 0.6274 - val_loss: 1.2913 - val_accuracy: 0.4428\n",
            "Epoch 7/100\n",
            "15/15 [==============================] - 0s 5ms/step - loss: 1.0887 - accuracy: 0.6188 - val_loss: 1.1296 - val_accuracy: 0.5075\n",
            "Epoch 8/100\n",
            "15/15 [==============================] - 0s 5ms/step - loss: 0.8718 - accuracy: 0.6167 - val_loss: 0.9375 - val_accuracy: 0.5871\n",
            "Epoch 9/100\n",
            "15/15 [==============================] - 0s 4ms/step - loss: 0.7643 - accuracy: 0.6831 - val_loss: 1.2142 - val_accuracy: 0.5871\n",
            "Epoch 10/100\n",
            "15/15 [==============================] - 0s 4ms/step - loss: 0.9992 - accuracy: 0.6317 - val_loss: 0.6708 - val_accuracy: 0.6965\n",
            "Epoch 11/100\n",
            "15/15 [==============================] - 0s 5ms/step - loss: 0.6612 - accuracy: 0.6681 - val_loss: 0.8470 - val_accuracy: 0.6567\n",
            "Epoch 12/100\n",
            "15/15 [==============================] - 0s 5ms/step - loss: 0.7209 - accuracy: 0.6702 - val_loss: 0.8797 - val_accuracy: 0.6866\n",
            "Epoch 13/100\n",
            "15/15 [==============================] - 0s 5ms/step - loss: 0.7010 - accuracy: 0.6981 - val_loss: 0.6589 - val_accuracy: 0.7114\n",
            "Epoch 14/100\n",
            "15/15 [==============================] - 0s 5ms/step - loss: 0.6612 - accuracy: 0.6809 - val_loss: 0.6210 - val_accuracy: 0.7164\n",
            "Epoch 15/100\n",
            "15/15 [==============================] - 0s 5ms/step - loss: 0.6783 - accuracy: 0.6981 - val_loss: 0.7754 - val_accuracy: 0.6318\n",
            "Epoch 16/100\n",
            "15/15 [==============================] - 0s 5ms/step - loss: 0.5749 - accuracy: 0.7195 - val_loss: 0.6989 - val_accuracy: 0.6617\n",
            "Epoch 17/100\n",
            "15/15 [==============================] - 0s 6ms/step - loss: 0.6642 - accuracy: 0.7045 - val_loss: 0.6009 - val_accuracy: 0.7214\n",
            "Epoch 18/100\n",
            "15/15 [==============================] - 0s 5ms/step - loss: 0.7261 - accuracy: 0.6660 - val_loss: 0.5988 - val_accuracy: 0.7015\n",
            "Epoch 19/100\n",
            "15/15 [==============================] - 0s 7ms/step - loss: 0.7217 - accuracy: 0.6724 - val_loss: 1.1982 - val_accuracy: 0.6219\n",
            "Epoch 20/100\n",
            "15/15 [==============================] - 0s 6ms/step - loss: 0.8233 - accuracy: 0.6916 - val_loss: 0.9590 - val_accuracy: 0.6119\n",
            "Epoch 21/100\n",
            "15/15 [==============================] - 0s 6ms/step - loss: 0.5871 - accuracy: 0.7088 - val_loss: 0.5543 - val_accuracy: 0.7214\n",
            "Epoch 22/100\n",
            "15/15 [==============================] - 0s 5ms/step - loss: 0.6879 - accuracy: 0.6916 - val_loss: 0.6400 - val_accuracy: 0.7214\n",
            "Epoch 23/100\n",
            "15/15 [==============================] - 0s 5ms/step - loss: 0.6034 - accuracy: 0.6938 - val_loss: 0.6002 - val_accuracy: 0.7015\n",
            "Epoch 24/100\n",
            "15/15 [==============================] - 0s 5ms/step - loss: 0.5990 - accuracy: 0.7002 - val_loss: 0.6959 - val_accuracy: 0.6318\n",
            "Epoch 25/100\n",
            "15/15 [==============================] - 0s 6ms/step - loss: 0.6342 - accuracy: 0.7024 - val_loss: 0.6068 - val_accuracy: 0.7164\n",
            "Epoch 26/100\n",
            "15/15 [==============================] - 0s 5ms/step - loss: 0.5639 - accuracy: 0.7238 - val_loss: 0.7199 - val_accuracy: 0.6517\n",
            "Epoch 27/100\n",
            "15/15 [==============================] - 0s 5ms/step - loss: 0.7722 - accuracy: 0.6981 - val_loss: 0.9094 - val_accuracy: 0.6866\n",
            "Epoch 28/100\n",
            "15/15 [==============================] - 0s 5ms/step - loss: 0.6719 - accuracy: 0.7024 - val_loss: 0.7171 - val_accuracy: 0.6915\n",
            "Epoch 29/100\n",
            "15/15 [==============================] - 0s 5ms/step - loss: 0.7236 - accuracy: 0.6831 - val_loss: 0.5937 - val_accuracy: 0.7065\n",
            "Epoch 30/100\n",
            "15/15 [==============================] - 0s 5ms/step - loss: 0.6392 - accuracy: 0.7045 - val_loss: 0.6211 - val_accuracy: 0.7164\n",
            "Epoch 31/100\n",
            "15/15 [==============================] - 0s 7ms/step - loss: 0.6248 - accuracy: 0.6938 - val_loss: 0.7536 - val_accuracy: 0.6219\n",
            "Epoch 32/100\n",
            "15/15 [==============================] - 0s 6ms/step - loss: 0.8337 - accuracy: 0.6702 - val_loss: 0.9821 - val_accuracy: 0.6070\n",
            "Epoch 33/100\n",
            "15/15 [==============================] - 0s 5ms/step - loss: 0.9093 - accuracy: 0.6445 - val_loss: 0.6079 - val_accuracy: 0.7015\n",
            "Epoch 34/100\n",
            "15/15 [==============================] - 0s 5ms/step - loss: 0.6074 - accuracy: 0.7216 - val_loss: 0.5932 - val_accuracy: 0.7065\n",
            "Epoch 35/100\n",
            "15/15 [==============================] - 0s 5ms/step - loss: 0.6137 - accuracy: 0.7195 - val_loss: 0.5686 - val_accuracy: 0.7313\n",
            "Epoch 36/100\n",
            "15/15 [==============================] - 0s 6ms/step - loss: 0.5250 - accuracy: 0.7388 - val_loss: 0.5843 - val_accuracy: 0.7065\n",
            "Epoch 37/100\n",
            "15/15 [==============================] - 0s 5ms/step - loss: 0.5326 - accuracy: 0.7281 - val_loss: 0.5616 - val_accuracy: 0.7264\n",
            "Epoch 38/100\n",
            "15/15 [==============================] - 0s 6ms/step - loss: 0.5461 - accuracy: 0.7409 - val_loss: 0.6610 - val_accuracy: 0.6716\n",
            "Epoch 39/100\n",
            "15/15 [==============================] - 0s 4ms/step - loss: 0.5587 - accuracy: 0.7216 - val_loss: 0.6270 - val_accuracy: 0.7164\n",
            "Epoch 40/100\n",
            "15/15 [==============================] - 0s 4ms/step - loss: 0.4960 - accuracy: 0.7516 - val_loss: 0.5766 - val_accuracy: 0.7413\n",
            "Epoch 41/100\n",
            "15/15 [==============================] - 0s 4ms/step - loss: 0.5111 - accuracy: 0.7559 - val_loss: 0.5612 - val_accuracy: 0.7114\n",
            "Epoch 42/100\n",
            "15/15 [==============================] - 0s 6ms/step - loss: 0.4933 - accuracy: 0.7345 - val_loss: 0.5868 - val_accuracy: 0.7264\n",
            "Epoch 43/100\n",
            "15/15 [==============================] - 0s 4ms/step - loss: 0.5316 - accuracy: 0.7430 - val_loss: 0.5835 - val_accuracy: 0.7015\n",
            "Epoch 44/100\n",
            "15/15 [==============================] - 0s 5ms/step - loss: 0.5885 - accuracy: 0.6895 - val_loss: 0.5741 - val_accuracy: 0.7015\n",
            "Epoch 45/100\n",
            "15/15 [==============================] - 0s 5ms/step - loss: 0.5297 - accuracy: 0.7537 - val_loss: 0.5951 - val_accuracy: 0.6915\n",
            "Epoch 46/100\n",
            "15/15 [==============================] - 0s 5ms/step - loss: 0.5923 - accuracy: 0.7323 - val_loss: 0.6257 - val_accuracy: 0.7065\n",
            "Epoch 47/100\n",
            "15/15 [==============================] - 0s 5ms/step - loss: 0.5825 - accuracy: 0.7302 - val_loss: 0.5576 - val_accuracy: 0.7313\n",
            "Epoch 48/100\n",
            "15/15 [==============================] - 0s 6ms/step - loss: 0.5296 - accuracy: 0.7345 - val_loss: 0.5860 - val_accuracy: 0.7065\n",
            "Epoch 49/100\n",
            "15/15 [==============================] - 0s 5ms/step - loss: 0.5052 - accuracy: 0.7580 - val_loss: 0.5813 - val_accuracy: 0.7214\n",
            "Epoch 50/100\n",
            "15/15 [==============================] - 0s 5ms/step - loss: 0.5083 - accuracy: 0.7409 - val_loss: 0.6270 - val_accuracy: 0.7264\n",
            "Epoch 51/100\n",
            "15/15 [==============================] - 0s 6ms/step - loss: 0.5305 - accuracy: 0.7345 - val_loss: 0.5703 - val_accuracy: 0.7413\n",
            "Epoch 52/100\n",
            "15/15 [==============================] - 0s 4ms/step - loss: 0.6154 - accuracy: 0.7152 - val_loss: 0.7047 - val_accuracy: 0.6816\n",
            "Epoch 53/100\n",
            "15/15 [==============================] - 0s 4ms/step - loss: 0.5572 - accuracy: 0.7131 - val_loss: 0.6843 - val_accuracy: 0.6766\n",
            "Epoch 54/100\n",
            "15/15 [==============================] - 0s 5ms/step - loss: 0.5298 - accuracy: 0.7345 - val_loss: 0.6047 - val_accuracy: 0.7164\n",
            "Epoch 55/100\n",
            "15/15 [==============================] - 0s 6ms/step - loss: 0.5053 - accuracy: 0.7495 - val_loss: 0.6770 - val_accuracy: 0.6816\n",
            "Epoch 56/100\n",
            "15/15 [==============================] - 0s 5ms/step - loss: 0.5878 - accuracy: 0.7109 - val_loss: 0.9471 - val_accuracy: 0.6766\n",
            "Epoch 57/100\n",
            "15/15 [==============================] - 0s 6ms/step - loss: 0.7958 - accuracy: 0.6595 - val_loss: 0.9106 - val_accuracy: 0.6119\n",
            "Epoch 58/100\n",
            "15/15 [==============================] - 0s 5ms/step - loss: 0.5002 - accuracy: 0.7473 - val_loss: 0.6495 - val_accuracy: 0.7114\n",
            "Epoch 59/100\n",
            "15/15 [==============================] - 0s 5ms/step - loss: 0.5941 - accuracy: 0.7002 - val_loss: 0.5903 - val_accuracy: 0.7214\n",
            "Epoch 60/100\n",
            "15/15 [==============================] - 0s 5ms/step - loss: 0.5446 - accuracy: 0.7495 - val_loss: 0.6656 - val_accuracy: 0.6816\n",
            "Epoch 61/100\n",
            "15/15 [==============================] - 0s 6ms/step - loss: 0.5408 - accuracy: 0.7409 - val_loss: 0.5764 - val_accuracy: 0.7363\n",
            "Epoch 62/100\n",
            "15/15 [==============================] - 0s 5ms/step - loss: 0.4926 - accuracy: 0.7388 - val_loss: 0.6637 - val_accuracy: 0.6766\n",
            "Epoch 63/100\n",
            "15/15 [==============================] - 0s 6ms/step - loss: 0.5590 - accuracy: 0.7302 - val_loss: 0.6472 - val_accuracy: 0.7065\n",
            "Epoch 64/100\n",
            "15/15 [==============================] - 0s 4ms/step - loss: 0.5439 - accuracy: 0.7045 - val_loss: 0.7598 - val_accuracy: 0.6169\n",
            "Epoch 65/100\n",
            "15/15 [==============================] - 0s 5ms/step - loss: 0.5067 - accuracy: 0.7537 - val_loss: 0.5645 - val_accuracy: 0.7114\n",
            "Epoch 66/100\n",
            "15/15 [==============================] - 0s 5ms/step - loss: 0.5085 - accuracy: 0.7580 - val_loss: 0.6132 - val_accuracy: 0.7363\n",
            "Epoch 67/100\n",
            "15/15 [==============================] - 0s 6ms/step - loss: 0.5241 - accuracy: 0.7216 - val_loss: 0.6266 - val_accuracy: 0.7313\n",
            "Epoch 68/100\n",
            "15/15 [==============================] - 0s 6ms/step - loss: 0.4852 - accuracy: 0.7687 - val_loss: 0.8813 - val_accuracy: 0.6020\n",
            "Epoch 69/100\n",
            "15/15 [==============================] - 0s 5ms/step - loss: 0.6622 - accuracy: 0.6809 - val_loss: 0.7718 - val_accuracy: 0.6965\n",
            "Epoch 70/100\n",
            "15/15 [==============================] - 0s 5ms/step - loss: 0.6824 - accuracy: 0.7024 - val_loss: 1.0107 - val_accuracy: 0.5174\n",
            "Epoch 71/100\n",
            "15/15 [==============================] - 0s 5ms/step - loss: 0.6390 - accuracy: 0.7131 - val_loss: 0.6012 - val_accuracy: 0.7164\n",
            "Epoch 72/100\n",
            "15/15 [==============================] - 0s 6ms/step - loss: 0.6448 - accuracy: 0.7002 - val_loss: 0.7132 - val_accuracy: 0.7065\n",
            "Epoch 73/100\n",
            "15/15 [==============================] - 0s 6ms/step - loss: 0.5396 - accuracy: 0.7452 - val_loss: 0.7159 - val_accuracy: 0.6716\n",
            "Epoch 74/100\n",
            "15/15 [==============================] - 0s 5ms/step - loss: 0.5822 - accuracy: 0.7195 - val_loss: 0.6120 - val_accuracy: 0.6965\n",
            "Epoch 75/100\n",
            "15/15 [==============================] - 0s 5ms/step - loss: 0.5981 - accuracy: 0.7131 - val_loss: 0.6403 - val_accuracy: 0.7065\n",
            "Epoch 76/100\n",
            "15/15 [==============================] - 0s 4ms/step - loss: 0.4919 - accuracy: 0.7473 - val_loss: 0.5819 - val_accuracy: 0.7264\n",
            "Epoch 77/100\n",
            "15/15 [==============================] - 0s 4ms/step - loss: 0.4728 - accuracy: 0.7880 - val_loss: 0.6344 - val_accuracy: 0.7114\n",
            "Epoch 78/100\n",
            "15/15 [==============================] - 0s 4ms/step - loss: 0.4687 - accuracy: 0.7944 - val_loss: 0.5775 - val_accuracy: 0.7413\n",
            "Epoch 79/100\n",
            "15/15 [==============================] - 0s 5ms/step - loss: 0.5144 - accuracy: 0.7409 - val_loss: 0.7807 - val_accuracy: 0.6418\n",
            "Epoch 80/100\n",
            "15/15 [==============================] - 0s 5ms/step - loss: 0.5678 - accuracy: 0.7088 - val_loss: 0.5858 - val_accuracy: 0.7065\n",
            "Epoch 81/100\n",
            "15/15 [==============================] - 0s 5ms/step - loss: 0.4783 - accuracy: 0.7623 - val_loss: 0.6749 - val_accuracy: 0.7164\n",
            "Epoch 82/100\n",
            "15/15 [==============================] - 0s 5ms/step - loss: 0.4865 - accuracy: 0.7495 - val_loss: 0.6815 - val_accuracy: 0.6816\n",
            "Epoch 83/100\n",
            "15/15 [==============================] - 0s 6ms/step - loss: 0.4929 - accuracy: 0.7730 - val_loss: 0.5922 - val_accuracy: 0.7512\n",
            "Epoch 84/100\n",
            "15/15 [==============================] - 0s 5ms/step - loss: 0.4596 - accuracy: 0.7709 - val_loss: 0.6273 - val_accuracy: 0.7214\n",
            "Epoch 85/100\n",
            "15/15 [==============================] - 0s 5ms/step - loss: 0.4783 - accuracy: 0.7752 - val_loss: 0.6237 - val_accuracy: 0.7015\n",
            "Epoch 86/100\n",
            "15/15 [==============================] - 0s 5ms/step - loss: 0.4637 - accuracy: 0.7773 - val_loss: 0.6203 - val_accuracy: 0.7214\n",
            "Epoch 87/100\n",
            "15/15 [==============================] - 0s 5ms/step - loss: 0.4547 - accuracy: 0.7559 - val_loss: 0.6093 - val_accuracy: 0.7463\n",
            "Epoch 88/100\n",
            "15/15 [==============================] - 0s 6ms/step - loss: 0.4474 - accuracy: 0.7794 - val_loss: 0.6239 - val_accuracy: 0.7214\n",
            "Epoch 89/100\n",
            "15/15 [==============================] - 0s 5ms/step - loss: 0.4826 - accuracy: 0.7752 - val_loss: 0.6472 - val_accuracy: 0.7413\n",
            "Epoch 90/100\n",
            "15/15 [==============================] - 0s 6ms/step - loss: 0.4523 - accuracy: 0.7816 - val_loss: 0.6484 - val_accuracy: 0.7065\n",
            "Epoch 91/100\n",
            "15/15 [==============================] - 0s 6ms/step - loss: 0.5512 - accuracy: 0.7302 - val_loss: 0.6487 - val_accuracy: 0.7214\n",
            "Epoch 92/100\n",
            "15/15 [==============================] - 0s 5ms/step - loss: 0.4787 - accuracy: 0.7645 - val_loss: 0.6293 - val_accuracy: 0.7463\n",
            "Epoch 93/100\n",
            "15/15 [==============================] - 0s 8ms/step - loss: 0.4492 - accuracy: 0.7666 - val_loss: 0.6023 - val_accuracy: 0.7612\n",
            "Epoch 94/100\n",
            "15/15 [==============================] - 0s 8ms/step - loss: 0.4935 - accuracy: 0.7687 - val_loss: 0.7131 - val_accuracy: 0.7015\n",
            "Epoch 95/100\n",
            "15/15 [==============================] - 0s 7ms/step - loss: 0.5174 - accuracy: 0.7495 - val_loss: 0.6606 - val_accuracy: 0.7015\n",
            "Epoch 96/100\n",
            "15/15 [==============================] - 0s 8ms/step - loss: 0.5221 - accuracy: 0.7430 - val_loss: 0.8010 - val_accuracy: 0.6567\n",
            "Epoch 97/100\n",
            "15/15 [==============================] - 0s 7ms/step - loss: 0.5683 - accuracy: 0.7473 - val_loss: 0.6615 - val_accuracy: 0.7214\n",
            "Epoch 98/100\n",
            "15/15 [==============================] - 0s 6ms/step - loss: 0.4969 - accuracy: 0.7623 - val_loss: 0.6475 - val_accuracy: 0.7264\n",
            "Epoch 99/100\n",
            "15/15 [==============================] - 0s 7ms/step - loss: 0.4608 - accuracy: 0.7516 - val_loss: 0.6139 - val_accuracy: 0.7214\n",
            "Epoch 100/100\n",
            "15/15 [==============================] - 0s 6ms/step - loss: 0.4790 - accuracy: 0.7537 - val_loss: 0.6458 - val_accuracy: 0.7363\n",
            "2/2 [==============================] - 0s 10ms/step - loss: 0.6458 - accuracy: 0.7363\n",
            "Validation accuracy:  0.7363184094429016\n",
            "Validation loss:  0.6457528471946716\n"
          ]
        }
      ]
    },
    {
      "cell_type": "code",
      "source": [
        "from tensorflow import keras\n",
        "from tensorflow.keras import layers\n",
        "# Define the neural network architecture\n",
        "model_2 = keras.Sequential([\n",
        "    layers.Dense(15, activation='relu', input_shape=[X_train.shape[1]]),\n",
        "    layers.Dense(7, activation='relu'),\n",
        "    layers.Dense(1, activation='sigmoid'),\n",
        "])\n",
        "\n",
        "# Compile the model\n",
        "model_2.compile(optimizer='adam', loss='binary_crossentropy', metrics=['accuracy'])\n",
        "\n",
        "# Train the model\n",
        "history = model_2.fit(X_train, y_train, validation_data=(X_val, y_val), epochs=100, batch_size=32)\n",
        "\n",
        "# Evaluate the model on the validation set\n",
        "results = model_2.evaluate(X_val, y_val, batch_size=128)\n",
        "print(\"Validation accuracy: \", results[1])\n",
        "print(\"Validation loss: \", results[0])"
      ],
      "metadata": {
        "colab": {
          "base_uri": "https://localhost:8080/"
        },
        "id": "iOnoQkJDygpr",
        "outputId": "39813896-0a45-4696-ede3-ec2ba3a16a3a"
      },
      "execution_count": null,
      "outputs": [
        {
          "output_type": "stream",
          "name": "stdout",
          "text": [
            "Epoch 1/100\n",
            "15/15 [==============================] - 2s 25ms/step - loss: 21.5138 - accuracy: 0.3469 - val_loss: 14.9291 - val_accuracy: 0.3433\n",
            "Epoch 2/100\n",
            "15/15 [==============================] - 0s 5ms/step - loss: 11.8220 - accuracy: 0.3512 - val_loss: 6.5319 - val_accuracy: 0.3483\n",
            "Epoch 3/100\n",
            "15/15 [==============================] - 0s 6ms/step - loss: 5.4239 - accuracy: 0.3876 - val_loss: 2.6835 - val_accuracy: 0.5075\n",
            "Epoch 4/100\n",
            "15/15 [==============================] - 0s 6ms/step - loss: 2.4473 - accuracy: 0.4668 - val_loss: 1.3901 - val_accuracy: 0.5423\n",
            "Epoch 5/100\n",
            "15/15 [==============================] - 0s 7ms/step - loss: 1.4170 - accuracy: 0.4925 - val_loss: 0.9286 - val_accuracy: 0.5373\n",
            "Epoch 6/100\n",
            "15/15 [==============================] - 0s 6ms/step - loss: 1.0300 - accuracy: 0.5824 - val_loss: 0.8009 - val_accuracy: 0.6119\n",
            "Epoch 7/100\n",
            "15/15 [==============================] - 0s 6ms/step - loss: 0.9183 - accuracy: 0.6210 - val_loss: 0.7775 - val_accuracy: 0.6418\n",
            "Epoch 8/100\n",
            "15/15 [==============================] - 0s 6ms/step - loss: 0.8819 - accuracy: 0.6253 - val_loss: 0.7637 - val_accuracy: 0.6418\n",
            "Epoch 9/100\n",
            "15/15 [==============================] - 0s 6ms/step - loss: 0.8502 - accuracy: 0.6338 - val_loss: 0.7555 - val_accuracy: 0.6418\n",
            "Epoch 10/100\n",
            "15/15 [==============================] - 0s 6ms/step - loss: 0.8301 - accuracy: 0.6360 - val_loss: 0.7493 - val_accuracy: 0.6468\n",
            "Epoch 11/100\n",
            "15/15 [==============================] - 0s 7ms/step - loss: 0.8182 - accuracy: 0.6360 - val_loss: 0.7428 - val_accuracy: 0.6468\n",
            "Epoch 12/100\n",
            "15/15 [==============================] - 0s 7ms/step - loss: 0.7976 - accuracy: 0.6360 - val_loss: 0.7387 - val_accuracy: 0.6418\n",
            "Epoch 13/100\n",
            "15/15 [==============================] - 0s 5ms/step - loss: 0.7852 - accuracy: 0.6360 - val_loss: 0.7333 - val_accuracy: 0.6468\n",
            "Epoch 14/100\n",
            "15/15 [==============================] - 0s 6ms/step - loss: 0.7692 - accuracy: 0.6360 - val_loss: 0.7324 - val_accuracy: 0.6468\n",
            "Epoch 15/100\n",
            "15/15 [==============================] - 0s 6ms/step - loss: 0.7538 - accuracy: 0.6424 - val_loss: 0.7310 - val_accuracy: 0.6468\n",
            "Epoch 16/100\n",
            "15/15 [==============================] - 0s 6ms/step - loss: 0.7470 - accuracy: 0.6424 - val_loss: 0.7288 - val_accuracy: 0.6468\n",
            "Epoch 17/100\n",
            "15/15 [==============================] - 0s 6ms/step - loss: 0.7365 - accuracy: 0.6424 - val_loss: 0.7270 - val_accuracy: 0.6368\n",
            "Epoch 18/100\n",
            "15/15 [==============================] - 0s 6ms/step - loss: 0.7292 - accuracy: 0.6445 - val_loss: 0.7241 - val_accuracy: 0.6418\n",
            "Epoch 19/100\n",
            "15/15 [==============================] - 0s 6ms/step - loss: 0.7224 - accuracy: 0.6445 - val_loss: 0.7220 - val_accuracy: 0.6468\n",
            "Epoch 20/100\n",
            "15/15 [==============================] - 0s 5ms/step - loss: 0.7154 - accuracy: 0.6445 - val_loss: 0.7206 - val_accuracy: 0.6468\n",
            "Epoch 21/100\n",
            "15/15 [==============================] - 0s 7ms/step - loss: 0.7106 - accuracy: 0.6424 - val_loss: 0.7190 - val_accuracy: 0.6468\n",
            "Epoch 22/100\n",
            "15/15 [==============================] - 0s 8ms/step - loss: 0.7049 - accuracy: 0.6403 - val_loss: 0.7165 - val_accuracy: 0.6418\n",
            "Epoch 23/100\n",
            "15/15 [==============================] - 0s 6ms/step - loss: 0.6970 - accuracy: 0.6445 - val_loss: 0.7224 - val_accuracy: 0.6468\n",
            "Epoch 24/100\n",
            "15/15 [==============================] - 0s 5ms/step - loss: 0.6845 - accuracy: 0.6445 - val_loss: 0.7283 - val_accuracy: 0.6368\n",
            "Epoch 25/100\n",
            "15/15 [==============================] - 0s 6ms/step - loss: 0.6743 - accuracy: 0.6424 - val_loss: 0.7214 - val_accuracy: 0.6368\n",
            "Epoch 26/100\n",
            "15/15 [==============================] - 0s 6ms/step - loss: 0.6688 - accuracy: 0.6445 - val_loss: 0.7255 - val_accuracy: 0.6368\n",
            "Epoch 27/100\n",
            "15/15 [==============================] - 0s 5ms/step - loss: 0.6655 - accuracy: 0.6445 - val_loss: 0.7174 - val_accuracy: 0.6368\n",
            "Epoch 28/100\n",
            "15/15 [==============================] - 0s 5ms/step - loss: 0.6608 - accuracy: 0.6445 - val_loss: 0.7169 - val_accuracy: 0.6368\n",
            "Epoch 29/100\n",
            "15/15 [==============================] - 0s 6ms/step - loss: 0.6536 - accuracy: 0.6445 - val_loss: 0.7113 - val_accuracy: 0.6368\n",
            "Epoch 30/100\n",
            "15/15 [==============================] - 0s 6ms/step - loss: 0.6493 - accuracy: 0.6445 - val_loss: 0.7122 - val_accuracy: 0.6368\n",
            "Epoch 31/100\n",
            "15/15 [==============================] - 0s 6ms/step - loss: 0.6496 - accuracy: 0.6424 - val_loss: 0.7130 - val_accuracy: 0.6368\n",
            "Epoch 32/100\n",
            "15/15 [==============================] - 0s 9ms/step - loss: 0.6431 - accuracy: 0.6445 - val_loss: 0.7019 - val_accuracy: 0.6368\n",
            "Epoch 33/100\n",
            "15/15 [==============================] - 0s 9ms/step - loss: 0.6423 - accuracy: 0.6424 - val_loss: 0.7053 - val_accuracy: 0.6368\n",
            "Epoch 34/100\n",
            "15/15 [==============================] - 0s 12ms/step - loss: 0.6339 - accuracy: 0.6445 - val_loss: 0.7068 - val_accuracy: 0.6418\n",
            "Epoch 35/100\n",
            "15/15 [==============================] - 0s 9ms/step - loss: 0.6327 - accuracy: 0.6467 - val_loss: 0.7010 - val_accuracy: 0.6418\n",
            "Epoch 36/100\n",
            "15/15 [==============================] - 0s 12ms/step - loss: 0.6281 - accuracy: 0.6467 - val_loss: 0.7049 - val_accuracy: 0.6418\n",
            "Epoch 37/100\n",
            "15/15 [==============================] - 0s 12ms/step - loss: 0.6240 - accuracy: 0.6467 - val_loss: 0.7012 - val_accuracy: 0.6418\n",
            "Epoch 38/100\n",
            "15/15 [==============================] - 0s 14ms/step - loss: 0.6229 - accuracy: 0.6488 - val_loss: 0.6967 - val_accuracy: 0.6418\n",
            "Epoch 39/100\n",
            "15/15 [==============================] - 0s 10ms/step - loss: 0.6156 - accuracy: 0.6510 - val_loss: 0.7068 - val_accuracy: 0.6418\n",
            "Epoch 40/100\n",
            "15/15 [==============================] - 0s 10ms/step - loss: 0.6238 - accuracy: 0.6531 - val_loss: 0.7003 - val_accuracy: 0.6418\n",
            "Epoch 41/100\n",
            "15/15 [==============================] - 0s 9ms/step - loss: 0.6161 - accuracy: 0.6531 - val_loss: 0.6954 - val_accuracy: 0.6418\n",
            "Epoch 42/100\n",
            "15/15 [==============================] - 0s 8ms/step - loss: 0.6123 - accuracy: 0.6531 - val_loss: 0.6993 - val_accuracy: 0.6418\n",
            "Epoch 43/100\n",
            "15/15 [==============================] - 0s 9ms/step - loss: 0.6135 - accuracy: 0.6531 - val_loss: 0.7006 - val_accuracy: 0.6418\n",
            "Epoch 44/100\n",
            "15/15 [==============================] - 0s 9ms/step - loss: 0.6092 - accuracy: 0.6552 - val_loss: 0.6938 - val_accuracy: 0.6418\n",
            "Epoch 45/100\n",
            "15/15 [==============================] - 0s 10ms/step - loss: 0.6089 - accuracy: 0.6552 - val_loss: 0.6960 - val_accuracy: 0.6418\n",
            "Epoch 46/100\n",
            "15/15 [==============================] - 0s 10ms/step - loss: 0.6140 - accuracy: 0.6552 - val_loss: 0.7001 - val_accuracy: 0.6418\n",
            "Epoch 47/100\n",
            "15/15 [==============================] - 0s 10ms/step - loss: 0.6029 - accuracy: 0.6552 - val_loss: 0.7025 - val_accuracy: 0.6418\n",
            "Epoch 48/100\n",
            "15/15 [==============================] - 0s 9ms/step - loss: 0.6069 - accuracy: 0.6552 - val_loss: 0.6997 - val_accuracy: 0.6418\n",
            "Epoch 49/100\n",
            "15/15 [==============================] - 0s 8ms/step - loss: 0.6164 - accuracy: 0.6552 - val_loss: 0.6909 - val_accuracy: 0.6418\n",
            "Epoch 50/100\n",
            "15/15 [==============================] - 0s 9ms/step - loss: 0.5998 - accuracy: 0.6552 - val_loss: 0.6975 - val_accuracy: 0.6418\n",
            "Epoch 51/100\n",
            "15/15 [==============================] - 0s 12ms/step - loss: 0.6076 - accuracy: 0.6552 - val_loss: 0.6946 - val_accuracy: 0.6418\n",
            "Epoch 52/100\n",
            "15/15 [==============================] - 0s 6ms/step - loss: 0.6169 - accuracy: 0.6552 - val_loss: 0.7041 - val_accuracy: 0.6418\n",
            "Epoch 53/100\n",
            "15/15 [==============================] - 0s 6ms/step - loss: 0.6038 - accuracy: 0.6552 - val_loss: 0.7026 - val_accuracy: 0.6418\n",
            "Epoch 54/100\n",
            "15/15 [==============================] - 0s 7ms/step - loss: 0.5985 - accuracy: 0.6574 - val_loss: 0.6969 - val_accuracy: 0.6418\n",
            "Epoch 55/100\n",
            "15/15 [==============================] - 0s 6ms/step - loss: 0.5959 - accuracy: 0.6552 - val_loss: 0.6981 - val_accuracy: 0.6418\n",
            "Epoch 56/100\n",
            "15/15 [==============================] - 0s 6ms/step - loss: 0.5961 - accuracy: 0.6552 - val_loss: 0.7011 - val_accuracy: 0.6418\n",
            "Epoch 57/100\n",
            "15/15 [==============================] - 0s 5ms/step - loss: 0.5948 - accuracy: 0.6552 - val_loss: 0.6962 - val_accuracy: 0.6418\n",
            "Epoch 58/100\n",
            "15/15 [==============================] - 0s 6ms/step - loss: 0.5969 - accuracy: 0.6574 - val_loss: 0.6942 - val_accuracy: 0.6418\n",
            "Epoch 59/100\n",
            "15/15 [==============================] - 0s 6ms/step - loss: 0.5954 - accuracy: 0.6574 - val_loss: 0.6976 - val_accuracy: 0.6418\n",
            "Epoch 60/100\n",
            "15/15 [==============================] - 0s 6ms/step - loss: 0.5951 - accuracy: 0.6552 - val_loss: 0.6961 - val_accuracy: 0.6418\n",
            "Epoch 61/100\n",
            "15/15 [==============================] - 0s 6ms/step - loss: 0.5892 - accuracy: 0.6574 - val_loss: 0.7018 - val_accuracy: 0.6418\n",
            "Epoch 62/100\n",
            "15/15 [==============================] - 0s 7ms/step - loss: 0.5949 - accuracy: 0.6574 - val_loss: 0.6950 - val_accuracy: 0.6418\n",
            "Epoch 63/100\n",
            "15/15 [==============================] - 0s 6ms/step - loss: 0.5934 - accuracy: 0.6574 - val_loss: 0.6934 - val_accuracy: 0.6418\n",
            "Epoch 64/100\n",
            "15/15 [==============================] - 0s 5ms/step - loss: 0.5929 - accuracy: 0.6595 - val_loss: 0.6975 - val_accuracy: 0.6418\n",
            "Epoch 65/100\n",
            "15/15 [==============================] - 0s 5ms/step - loss: 0.5895 - accuracy: 0.6617 - val_loss: 0.6988 - val_accuracy: 0.6418\n",
            "Epoch 66/100\n",
            "15/15 [==============================] - 0s 6ms/step - loss: 0.5900 - accuracy: 0.6617 - val_loss: 0.6953 - val_accuracy: 0.6418\n",
            "Epoch 67/100\n",
            "15/15 [==============================] - 0s 5ms/step - loss: 0.5872 - accuracy: 0.6595 - val_loss: 0.6981 - val_accuracy: 0.6418\n",
            "Epoch 68/100\n",
            "15/15 [==============================] - 0s 6ms/step - loss: 0.5870 - accuracy: 0.6617 - val_loss: 0.6991 - val_accuracy: 0.6418\n",
            "Epoch 69/100\n",
            "15/15 [==============================] - 0s 7ms/step - loss: 0.5869 - accuracy: 0.6617 - val_loss: 0.6984 - val_accuracy: 0.6418\n",
            "Epoch 70/100\n",
            "15/15 [==============================] - 0s 5ms/step - loss: 0.5883 - accuracy: 0.6617 - val_loss: 0.6973 - val_accuracy: 0.6418\n",
            "Epoch 71/100\n",
            "15/15 [==============================] - 0s 7ms/step - loss: 0.5878 - accuracy: 0.6617 - val_loss: 0.7017 - val_accuracy: 0.6468\n",
            "Epoch 72/100\n",
            "15/15 [==============================] - 0s 6ms/step - loss: 0.5862 - accuracy: 0.6617 - val_loss: 0.6958 - val_accuracy: 0.6468\n",
            "Epoch 73/100\n",
            "15/15 [==============================] - 0s 6ms/step - loss: 0.5890 - accuracy: 0.6617 - val_loss: 0.7031 - val_accuracy: 0.6468\n",
            "Epoch 74/100\n",
            "15/15 [==============================] - 0s 7ms/step - loss: 0.5888 - accuracy: 0.6617 - val_loss: 0.7012 - val_accuracy: 0.6468\n",
            "Epoch 75/100\n",
            "15/15 [==============================] - 0s 5ms/step - loss: 0.5868 - accuracy: 0.6617 - val_loss: 0.6990 - val_accuracy: 0.6468\n",
            "Epoch 76/100\n",
            "15/15 [==============================] - 0s 6ms/step - loss: 0.5839 - accuracy: 0.6617 - val_loss: 0.7015 - val_accuracy: 0.6468\n",
            "Epoch 77/100\n",
            "15/15 [==============================] - 0s 6ms/step - loss: 0.5836 - accuracy: 0.6617 - val_loss: 0.6995 - val_accuracy: 0.6468\n",
            "Epoch 78/100\n",
            "15/15 [==============================] - 0s 5ms/step - loss: 0.5843 - accuracy: 0.6617 - val_loss: 0.7044 - val_accuracy: 0.6468\n",
            "Epoch 79/100\n",
            "15/15 [==============================] - 0s 5ms/step - loss: 0.5847 - accuracy: 0.6617 - val_loss: 0.6988 - val_accuracy: 0.6468\n",
            "Epoch 80/100\n",
            "15/15 [==============================] - 0s 7ms/step - loss: 0.5831 - accuracy: 0.6617 - val_loss: 0.7022 - val_accuracy: 0.6468\n",
            "Epoch 81/100\n",
            "15/15 [==============================] - 0s 6ms/step - loss: 0.5822 - accuracy: 0.6617 - val_loss: 0.7002 - val_accuracy: 0.6468\n",
            "Epoch 82/100\n",
            "15/15 [==============================] - 0s 6ms/step - loss: 0.5825 - accuracy: 0.6617 - val_loss: 0.6993 - val_accuracy: 0.6468\n",
            "Epoch 83/100\n",
            "15/15 [==============================] - 0s 6ms/step - loss: 0.5848 - accuracy: 0.6638 - val_loss: 0.7025 - val_accuracy: 0.6468\n",
            "Epoch 84/100\n",
            "15/15 [==============================] - 0s 6ms/step - loss: 0.5848 - accuracy: 0.6595 - val_loss: 0.6901 - val_accuracy: 0.6468\n",
            "Epoch 85/100\n",
            "15/15 [==============================] - 0s 6ms/step - loss: 0.5828 - accuracy: 0.6617 - val_loss: 0.7010 - val_accuracy: 0.6468\n",
            "Epoch 86/100\n",
            "15/15 [==============================] - 0s 6ms/step - loss: 0.5805 - accuracy: 0.6660 - val_loss: 0.7031 - val_accuracy: 0.6468\n",
            "Epoch 87/100\n",
            "15/15 [==============================] - 0s 5ms/step - loss: 0.5800 - accuracy: 0.6638 - val_loss: 0.7010 - val_accuracy: 0.6468\n",
            "Epoch 88/100\n",
            "15/15 [==============================] - 0s 6ms/step - loss: 0.5784 - accuracy: 0.6681 - val_loss: 0.6994 - val_accuracy: 0.6468\n",
            "Epoch 89/100\n",
            "15/15 [==============================] - 0s 6ms/step - loss: 0.5770 - accuracy: 0.6702 - val_loss: 0.7022 - val_accuracy: 0.6468\n",
            "Epoch 90/100\n",
            "15/15 [==============================] - 0s 6ms/step - loss: 0.5785 - accuracy: 0.6702 - val_loss: 0.7029 - val_accuracy: 0.6468\n",
            "Epoch 91/100\n",
            "15/15 [==============================] - 0s 6ms/step - loss: 0.5760 - accuracy: 0.6681 - val_loss: 0.7046 - val_accuracy: 0.6468\n",
            "Epoch 92/100\n",
            "15/15 [==============================] - 0s 7ms/step - loss: 0.5823 - accuracy: 0.6681 - val_loss: 0.7101 - val_accuracy: 0.6468\n",
            "Epoch 93/100\n",
            "15/15 [==============================] - 0s 7ms/step - loss: 0.5782 - accuracy: 0.6702 - val_loss: 0.7012 - val_accuracy: 0.6468\n",
            "Epoch 94/100\n",
            "15/15 [==============================] - 0s 6ms/step - loss: 0.5773 - accuracy: 0.6724 - val_loss: 0.7048 - val_accuracy: 0.6517\n",
            "Epoch 95/100\n",
            "15/15 [==============================] - 0s 7ms/step - loss: 0.5784 - accuracy: 0.6724 - val_loss: 0.7046 - val_accuracy: 0.6517\n",
            "Epoch 96/100\n",
            "15/15 [==============================] - 0s 6ms/step - loss: 0.5747 - accuracy: 0.6702 - val_loss: 0.7003 - val_accuracy: 0.6567\n",
            "Epoch 97/100\n",
            "15/15 [==============================] - 0s 6ms/step - loss: 0.5726 - accuracy: 0.6724 - val_loss: 0.7054 - val_accuracy: 0.6517\n",
            "Epoch 98/100\n",
            "15/15 [==============================] - 0s 6ms/step - loss: 0.5743 - accuracy: 0.6702 - val_loss: 0.6999 - val_accuracy: 0.6567\n",
            "Epoch 99/100\n",
            "15/15 [==============================] - 0s 7ms/step - loss: 0.5734 - accuracy: 0.6724 - val_loss: 0.7077 - val_accuracy: 0.6517\n",
            "Epoch 100/100\n",
            "15/15 [==============================] - 0s 6ms/step - loss: 0.5711 - accuracy: 0.6724 - val_loss: 0.7073 - val_accuracy: 0.6567\n",
            "2/2 [==============================] - 0s 8ms/step - loss: 0.7073 - accuracy: 0.6567\n",
            "Validation accuracy:  0.6567164063453674\n",
            "Validation loss:  0.7072933912277222\n"
          ]
        }
      ]
    },
    {
      "cell_type": "code",
      "source": [
        "\n",
        "\n",
        "# Define the model\n",
        "model_2a = keras.Sequential([\n",
        "    layers.Dense(30, activation='relu', input_shape=[8]),\n",
        "    layers.Dense(30, activation='relu'),\n",
        "    layers.Dense(30, activation='relu'),\n",
        "    layers.Dense(1, activation='sigmoid')\n",
        "])\n",
        "\n",
        "# Compile the model\n",
        "model_2a.compile(optimizer='adam', loss='binary_crossentropy', metrics=['accuracy'])\n",
        "\n",
        "# Train the model\n",
        "history = model_2a.fit(X_train, y_train, epochs=100, validation_data=(X_val, y_val))\n",
        "\n",
        "# Evaluate the model\n",
        "test_loss, test_accuracy = model_2a.evaluate(X_val, y_val)\n",
        "print('Test accuracy:', test_accuracy)\n"
      ],
      "metadata": {
        "colab": {
          "base_uri": "https://localhost:8080/"
        },
        "id": "kU2hneWRjfRp",
        "outputId": "64809484-4c56-46c2-c5c8-2f65ceb8c3fb"
      },
      "execution_count": null,
      "outputs": [
        {
          "output_type": "stream",
          "name": "stdout",
          "text": [
            "Epoch 1/100\n",
            "17/17 [==============================] - 1s 11ms/step - loss: 2.2405 - accuracy: 0.6573 - val_loss: 1.8043 - val_accuracy: 0.6194\n",
            "Epoch 2/100\n",
            "17/17 [==============================] - 0s 3ms/step - loss: 1.0231 - accuracy: 0.6180 - val_loss: 1.0905 - val_accuracy: 0.5970\n",
            "Epoch 3/100\n",
            "17/17 [==============================] - 0s 4ms/step - loss: 0.7840 - accuracy: 0.6386 - val_loss: 0.8587 - val_accuracy: 0.5672\n",
            "Epoch 4/100\n",
            "17/17 [==============================] - 0s 3ms/step - loss: 0.6779 - accuracy: 0.6723 - val_loss: 0.7606 - val_accuracy: 0.5672\n",
            "Epoch 5/100\n",
            "17/17 [==============================] - 0s 3ms/step - loss: 0.6496 - accuracy: 0.6648 - val_loss: 0.7331 - val_accuracy: 0.5896\n",
            "Epoch 6/100\n",
            "17/17 [==============================] - 0s 3ms/step - loss: 0.6510 - accuracy: 0.6873 - val_loss: 0.7633 - val_accuracy: 0.5746\n",
            "Epoch 7/100\n",
            "17/17 [==============================] - 0s 4ms/step - loss: 0.6266 - accuracy: 0.6610 - val_loss: 0.7323 - val_accuracy: 0.5597\n",
            "Epoch 8/100\n",
            "17/17 [==============================] - 0s 3ms/step - loss: 0.6388 - accuracy: 0.6854 - val_loss: 0.7514 - val_accuracy: 0.5746\n",
            "Epoch 9/100\n",
            "17/17 [==============================] - 0s 3ms/step - loss: 0.6356 - accuracy: 0.6798 - val_loss: 0.8724 - val_accuracy: 0.6045\n",
            "Epoch 10/100\n",
            "17/17 [==============================] - 0s 3ms/step - loss: 0.6537 - accuracy: 0.6742 - val_loss: 0.7464 - val_accuracy: 0.6194\n",
            "Epoch 11/100\n",
            "17/17 [==============================] - 0s 4ms/step - loss: 0.5854 - accuracy: 0.6723 - val_loss: 0.7640 - val_accuracy: 0.6269\n",
            "Epoch 12/100\n",
            "17/17 [==============================] - 0s 3ms/step - loss: 0.5889 - accuracy: 0.7116 - val_loss: 0.6840 - val_accuracy: 0.6343\n",
            "Epoch 13/100\n",
            "17/17 [==============================] - 0s 3ms/step - loss: 0.5777 - accuracy: 0.7004 - val_loss: 0.7084 - val_accuracy: 0.5896\n",
            "Epoch 14/100\n",
            "17/17 [==============================] - 0s 3ms/step - loss: 0.6076 - accuracy: 0.7041 - val_loss: 0.6960 - val_accuracy: 0.6119\n",
            "Epoch 15/100\n",
            "17/17 [==============================] - 0s 4ms/step - loss: 0.5717 - accuracy: 0.7285 - val_loss: 0.7292 - val_accuracy: 0.6418\n",
            "Epoch 16/100\n",
            "17/17 [==============================] - 0s 4ms/step - loss: 0.6261 - accuracy: 0.7022 - val_loss: 0.6983 - val_accuracy: 0.6343\n",
            "Epoch 17/100\n",
            "17/17 [==============================] - 0s 3ms/step - loss: 0.6894 - accuracy: 0.6779 - val_loss: 0.7816 - val_accuracy: 0.6045\n",
            "Epoch 18/100\n",
            "17/17 [==============================] - 0s 3ms/step - loss: 0.5589 - accuracy: 0.7341 - val_loss: 0.7891 - val_accuracy: 0.6045\n",
            "Epoch 19/100\n",
            "17/17 [==============================] - 0s 3ms/step - loss: 0.5917 - accuracy: 0.7191 - val_loss: 0.7369 - val_accuracy: 0.6119\n",
            "Epoch 20/100\n",
            "17/17 [==============================] - 0s 3ms/step - loss: 0.5445 - accuracy: 0.7285 - val_loss: 0.6776 - val_accuracy: 0.6269\n",
            "Epoch 21/100\n",
            "17/17 [==============================] - 0s 3ms/step - loss: 0.5488 - accuracy: 0.7285 - val_loss: 0.6577 - val_accuracy: 0.6940\n",
            "Epoch 22/100\n",
            "17/17 [==============================] - 0s 4ms/step - loss: 0.5515 - accuracy: 0.7041 - val_loss: 0.7506 - val_accuracy: 0.6493\n",
            "Epoch 23/100\n",
            "17/17 [==============================] - 0s 3ms/step - loss: 0.6025 - accuracy: 0.7154 - val_loss: 0.7798 - val_accuracy: 0.5970\n",
            "Epoch 24/100\n",
            "17/17 [==============================] - 0s 4ms/step - loss: 0.5510 - accuracy: 0.7416 - val_loss: 0.9610 - val_accuracy: 0.5970\n",
            "Epoch 25/100\n",
            "17/17 [==============================] - 0s 3ms/step - loss: 0.5999 - accuracy: 0.7191 - val_loss: 0.7709 - val_accuracy: 0.6045\n",
            "Epoch 26/100\n",
            "17/17 [==============================] - 0s 3ms/step - loss: 0.5355 - accuracy: 0.7360 - val_loss: 0.6758 - val_accuracy: 0.6493\n",
            "Epoch 27/100\n",
            "17/17 [==============================] - 0s 4ms/step - loss: 0.5792 - accuracy: 0.7022 - val_loss: 0.7525 - val_accuracy: 0.6418\n",
            "Epoch 28/100\n",
            "17/17 [==============================] - 0s 4ms/step - loss: 0.6742 - accuracy: 0.7022 - val_loss: 0.7701 - val_accuracy: 0.6269\n",
            "Epoch 29/100\n",
            "17/17 [==============================] - 0s 4ms/step - loss: 0.6902 - accuracy: 0.7022 - val_loss: 0.7552 - val_accuracy: 0.6119\n",
            "Epoch 30/100\n",
            "17/17 [==============================] - 0s 4ms/step - loss: 0.6679 - accuracy: 0.6835 - val_loss: 0.7180 - val_accuracy: 0.6343\n",
            "Epoch 31/100\n",
            "17/17 [==============================] - 0s 3ms/step - loss: 0.6101 - accuracy: 0.7378 - val_loss: 0.6755 - val_accuracy: 0.6642\n",
            "Epoch 32/100\n",
            "17/17 [==============================] - 0s 3ms/step - loss: 0.5235 - accuracy: 0.7266 - val_loss: 0.6558 - val_accuracy: 0.6642\n",
            "Epoch 33/100\n",
            "17/17 [==============================] - 0s 3ms/step - loss: 0.5392 - accuracy: 0.7509 - val_loss: 0.6432 - val_accuracy: 0.7090\n",
            "Epoch 34/100\n",
            "17/17 [==============================] - 0s 5ms/step - loss: 0.5474 - accuracy: 0.7509 - val_loss: 0.8829 - val_accuracy: 0.6045\n",
            "Epoch 35/100\n",
            "17/17 [==============================] - 0s 5ms/step - loss: 0.6369 - accuracy: 0.7079 - val_loss: 0.8124 - val_accuracy: 0.6269\n",
            "Epoch 36/100\n",
            "17/17 [==============================] - 0s 5ms/step - loss: 0.5656 - accuracy: 0.7453 - val_loss: 0.9925 - val_accuracy: 0.5896\n",
            "Epoch 37/100\n",
            "17/17 [==============================] - 0s 4ms/step - loss: 0.5677 - accuracy: 0.7547 - val_loss: 0.7415 - val_accuracy: 0.6194\n",
            "Epoch 38/100\n",
            "17/17 [==============================] - 0s 4ms/step - loss: 0.5205 - accuracy: 0.7509 - val_loss: 0.6474 - val_accuracy: 0.7015\n",
            "Epoch 39/100\n",
            "17/17 [==============================] - 0s 5ms/step - loss: 0.5175 - accuracy: 0.7303 - val_loss: 0.7608 - val_accuracy: 0.6343\n",
            "Epoch 40/100\n",
            "17/17 [==============================] - 0s 6ms/step - loss: 0.6389 - accuracy: 0.7191 - val_loss: 1.0890 - val_accuracy: 0.5970\n",
            "Epoch 41/100\n",
            "17/17 [==============================] - 0s 4ms/step - loss: 0.6240 - accuracy: 0.7022 - val_loss: 0.8034 - val_accuracy: 0.6343\n",
            "Epoch 42/100\n",
            "17/17 [==============================] - 0s 4ms/step - loss: 0.5389 - accuracy: 0.7453 - val_loss: 0.6886 - val_accuracy: 0.6493\n",
            "Epoch 43/100\n",
            "17/17 [==============================] - 0s 4ms/step - loss: 0.5380 - accuracy: 0.7434 - val_loss: 0.6966 - val_accuracy: 0.6716\n",
            "Epoch 44/100\n",
            "17/17 [==============================] - 0s 5ms/step - loss: 0.5379 - accuracy: 0.7303 - val_loss: 0.6403 - val_accuracy: 0.6791\n",
            "Epoch 45/100\n",
            "17/17 [==============================] - 0s 5ms/step - loss: 0.5220 - accuracy: 0.7434 - val_loss: 0.6975 - val_accuracy: 0.6343\n",
            "Epoch 46/100\n",
            "17/17 [==============================] - 0s 4ms/step - loss: 0.5192 - accuracy: 0.7397 - val_loss: 0.7034 - val_accuracy: 0.6418\n",
            "Epoch 47/100\n",
            "17/17 [==============================] - 0s 4ms/step - loss: 0.5429 - accuracy: 0.7172 - val_loss: 0.6998 - val_accuracy: 0.6418\n",
            "Epoch 48/100\n",
            "17/17 [==============================] - 0s 4ms/step - loss: 0.5107 - accuracy: 0.7622 - val_loss: 0.6880 - val_accuracy: 0.6493\n",
            "Epoch 49/100\n",
            "17/17 [==============================] - 0s 4ms/step - loss: 0.5196 - accuracy: 0.7453 - val_loss: 0.6536 - val_accuracy: 0.6791\n",
            "Epoch 50/100\n",
            "17/17 [==============================] - 0s 5ms/step - loss: 0.5535 - accuracy: 0.7228 - val_loss: 0.6331 - val_accuracy: 0.7164\n",
            "Epoch 51/100\n",
            "17/17 [==============================] - 0s 4ms/step - loss: 0.5909 - accuracy: 0.7360 - val_loss: 0.6744 - val_accuracy: 0.6642\n",
            "Epoch 52/100\n",
            "17/17 [==============================] - 0s 7ms/step - loss: 0.5052 - accuracy: 0.7416 - val_loss: 0.7397 - val_accuracy: 0.6791\n",
            "Epoch 53/100\n",
            "17/17 [==============================] - 0s 4ms/step - loss: 0.5137 - accuracy: 0.7678 - val_loss: 0.7612 - val_accuracy: 0.6194\n",
            "Epoch 54/100\n",
            "17/17 [==============================] - 0s 5ms/step - loss: 0.5394 - accuracy: 0.7341 - val_loss: 0.8100 - val_accuracy: 0.6045\n",
            "Epoch 55/100\n",
            "17/17 [==============================] - 0s 5ms/step - loss: 0.5058 - accuracy: 0.7472 - val_loss: 0.6464 - val_accuracy: 0.6866\n",
            "Epoch 56/100\n",
            "17/17 [==============================] - 0s 3ms/step - loss: 0.5008 - accuracy: 0.7697 - val_loss: 0.6580 - val_accuracy: 0.6791\n",
            "Epoch 57/100\n",
            "17/17 [==============================] - 0s 4ms/step - loss: 0.4773 - accuracy: 0.7809 - val_loss: 0.6953 - val_accuracy: 0.6343\n",
            "Epoch 58/100\n",
            "17/17 [==============================] - 0s 3ms/step - loss: 0.4701 - accuracy: 0.7622 - val_loss: 0.6315 - val_accuracy: 0.6940\n",
            "Epoch 59/100\n",
            "17/17 [==============================] - 0s 4ms/step - loss: 0.4847 - accuracy: 0.7584 - val_loss: 0.7056 - val_accuracy: 0.6567\n",
            "Epoch 60/100\n",
            "17/17 [==============================] - 0s 3ms/step - loss: 0.5523 - accuracy: 0.7434 - val_loss: 0.8005 - val_accuracy: 0.6269\n",
            "Epoch 61/100\n",
            "17/17 [==============================] - 0s 4ms/step - loss: 0.5117 - accuracy: 0.7528 - val_loss: 0.7149 - val_accuracy: 0.6493\n",
            "Epoch 62/100\n",
            "17/17 [==============================] - 0s 3ms/step - loss: 0.5125 - accuracy: 0.7790 - val_loss: 0.7945 - val_accuracy: 0.6194\n",
            "Epoch 63/100\n",
            "17/17 [==============================] - 0s 3ms/step - loss: 0.5306 - accuracy: 0.7172 - val_loss: 0.8184 - val_accuracy: 0.6567\n",
            "Epoch 64/100\n",
            "17/17 [==============================] - 0s 4ms/step - loss: 0.5208 - accuracy: 0.7603 - val_loss: 0.7402 - val_accuracy: 0.6194\n",
            "Epoch 65/100\n",
            "17/17 [==============================] - 0s 4ms/step - loss: 0.4746 - accuracy: 0.7509 - val_loss: 0.6740 - val_accuracy: 0.6642\n",
            "Epoch 66/100\n",
            "17/17 [==============================] - 0s 4ms/step - loss: 0.4725 - accuracy: 0.7734 - val_loss: 0.6596 - val_accuracy: 0.6642\n",
            "Epoch 67/100\n",
            "17/17 [==============================] - 0s 4ms/step - loss: 0.4859 - accuracy: 0.7734 - val_loss: 0.9550 - val_accuracy: 0.5970\n",
            "Epoch 68/100\n",
            "17/17 [==============================] - 0s 3ms/step - loss: 0.5759 - accuracy: 0.7191 - val_loss: 0.8023 - val_accuracy: 0.6194\n",
            "Epoch 69/100\n",
            "17/17 [==============================] - 0s 4ms/step - loss: 0.4884 - accuracy: 0.7584 - val_loss: 0.6844 - val_accuracy: 0.6493\n",
            "Epoch 70/100\n",
            "17/17 [==============================] - 0s 3ms/step - loss: 0.4940 - accuracy: 0.7603 - val_loss: 0.6982 - val_accuracy: 0.6567\n",
            "Epoch 71/100\n",
            "17/17 [==============================] - 0s 3ms/step - loss: 0.4812 - accuracy: 0.7453 - val_loss: 0.6819 - val_accuracy: 0.6716\n",
            "Epoch 72/100\n",
            "17/17 [==============================] - 0s 4ms/step - loss: 0.4640 - accuracy: 0.7734 - val_loss: 0.7093 - val_accuracy: 0.6493\n",
            "Epoch 73/100\n",
            "17/17 [==============================] - 0s 4ms/step - loss: 0.4596 - accuracy: 0.7772 - val_loss: 0.6251 - val_accuracy: 0.7164\n",
            "Epoch 74/100\n",
            "17/17 [==============================] - 0s 4ms/step - loss: 0.4864 - accuracy: 0.7715 - val_loss: 0.8366 - val_accuracy: 0.6343\n",
            "Epoch 75/100\n",
            "17/17 [==============================] - 0s 3ms/step - loss: 0.5930 - accuracy: 0.7060 - val_loss: 0.7667 - val_accuracy: 0.6716\n",
            "Epoch 76/100\n",
            "17/17 [==============================] - 0s 3ms/step - loss: 0.5284 - accuracy: 0.7416 - val_loss: 0.6513 - val_accuracy: 0.6791\n",
            "Epoch 77/100\n",
            "17/17 [==============================] - 0s 4ms/step - loss: 0.4707 - accuracy: 0.7753 - val_loss: 0.6646 - val_accuracy: 0.6567\n",
            "Epoch 78/100\n",
            "17/17 [==============================] - 0s 3ms/step - loss: 0.5259 - accuracy: 0.7416 - val_loss: 0.8261 - val_accuracy: 0.6269\n",
            "Epoch 79/100\n",
            "17/17 [==============================] - 0s 4ms/step - loss: 0.5729 - accuracy: 0.7228 - val_loss: 0.7618 - val_accuracy: 0.6493\n",
            "Epoch 80/100\n",
            "17/17 [==============================] - 0s 4ms/step - loss: 0.4939 - accuracy: 0.7603 - val_loss: 0.7241 - val_accuracy: 0.6194\n",
            "Epoch 81/100\n",
            "17/17 [==============================] - 0s 3ms/step - loss: 0.4579 - accuracy: 0.7790 - val_loss: 0.6497 - val_accuracy: 0.6791\n",
            "Epoch 82/100\n",
            "17/17 [==============================] - 0s 3ms/step - loss: 0.4628 - accuracy: 0.7772 - val_loss: 0.6143 - val_accuracy: 0.7239\n",
            "Epoch 83/100\n",
            "17/17 [==============================] - 0s 4ms/step - loss: 0.5160 - accuracy: 0.7378 - val_loss: 0.7268 - val_accuracy: 0.6418\n",
            "Epoch 84/100\n",
            "17/17 [==============================] - 0s 3ms/step - loss: 0.4808 - accuracy: 0.7790 - val_loss: 0.6417 - val_accuracy: 0.7164\n",
            "Epoch 85/100\n",
            "17/17 [==============================] - 0s 3ms/step - loss: 0.4619 - accuracy: 0.7772 - val_loss: 0.6133 - val_accuracy: 0.7090\n",
            "Epoch 86/100\n",
            "17/17 [==============================] - 0s 3ms/step - loss: 0.4693 - accuracy: 0.7734 - val_loss: 0.6291 - val_accuracy: 0.6940\n",
            "Epoch 87/100\n",
            "17/17 [==============================] - 0s 5ms/step - loss: 0.5083 - accuracy: 0.7603 - val_loss: 0.6537 - val_accuracy: 0.7164\n",
            "Epoch 88/100\n",
            "17/17 [==============================] - 0s 3ms/step - loss: 0.4946 - accuracy: 0.7528 - val_loss: 0.6820 - val_accuracy: 0.6716\n",
            "Epoch 89/100\n",
            "17/17 [==============================] - 0s 4ms/step - loss: 0.4729 - accuracy: 0.7790 - val_loss: 0.6859 - val_accuracy: 0.6866\n",
            "Epoch 90/100\n",
            "17/17 [==============================] - 0s 4ms/step - loss: 0.4806 - accuracy: 0.7772 - val_loss: 0.6217 - val_accuracy: 0.6866\n",
            "Epoch 91/100\n",
            "17/17 [==============================] - 0s 3ms/step - loss: 0.4878 - accuracy: 0.7772 - val_loss: 0.7337 - val_accuracy: 0.6567\n",
            "Epoch 92/100\n",
            "17/17 [==============================] - 0s 3ms/step - loss: 0.4824 - accuracy: 0.7528 - val_loss: 0.6522 - val_accuracy: 0.6791\n",
            "Epoch 93/100\n",
            "17/17 [==============================] - 0s 3ms/step - loss: 0.4788 - accuracy: 0.7734 - val_loss: 0.8365 - val_accuracy: 0.6343\n",
            "Epoch 94/100\n",
            "17/17 [==============================] - 0s 4ms/step - loss: 0.4838 - accuracy: 0.7640 - val_loss: 0.6803 - val_accuracy: 0.6791\n",
            "Epoch 95/100\n",
            "17/17 [==============================] - 0s 4ms/step - loss: 0.4547 - accuracy: 0.7697 - val_loss: 0.6147 - val_accuracy: 0.7015\n",
            "Epoch 96/100\n",
            "17/17 [==============================] - 0s 4ms/step - loss: 0.4640 - accuracy: 0.7697 - val_loss: 0.8436 - val_accuracy: 0.5821\n",
            "Epoch 97/100\n",
            "17/17 [==============================] - 0s 3ms/step - loss: 0.4838 - accuracy: 0.7734 - val_loss: 0.6377 - val_accuracy: 0.6866\n",
            "Epoch 98/100\n",
            "17/17 [==============================] - 0s 4ms/step - loss: 0.5106 - accuracy: 0.7397 - val_loss: 0.7939 - val_accuracy: 0.6493\n",
            "Epoch 99/100\n",
            "17/17 [==============================] - 0s 4ms/step - loss: 0.4714 - accuracy: 0.7715 - val_loss: 0.6787 - val_accuracy: 0.7015\n",
            "Epoch 100/100\n",
            "17/17 [==============================] - 0s 4ms/step - loss: 0.4409 - accuracy: 0.7790 - val_loss: 0.6186 - val_accuracy: 0.6940\n",
            "5/5 [==============================] - 0s 2ms/step - loss: 0.6186 - accuracy: 0.6940\n",
            "Test accuracy: 0.6940298676490784\n"
          ]
        }
      ]
    },
    {
      "cell_type": "code",
      "source": [],
      "metadata": {
        "id": "Z_E45blPNDZb"
      },
      "execution_count": null,
      "outputs": []
    },
    {
      "cell_type": "markdown",
      "source": [
        "#model_3 Recurrent Neural Network"
      ],
      "metadata": {
        "id": "j47-Cl0xf2La"
      }
    },
    {
      "cell_type": "markdown",
      "source": [],
      "metadata": {
        "id": "-nfHK4bzrGel"
      }
    },
    {
      "cell_type": "markdown",
      "source": [],
      "metadata": {
        "id": "2MNoNJkzrGh6"
      }
    },
    {
      "cell_type": "code",
      "source": [
        "from tensorflow import keras\n",
        "from tensorflow.keras import layers\n",
        "\n",
        "\n",
        "\n",
        "# Preprocess the data\n",
        "#X_train1 = keras.preprocessing.sequence.pad_sequences(X, padding=\"post\")\n",
        "#X_val1 = keras.preprocessing.sequence.pad_sequences(y, padding=\"post\")\n",
        "\n",
        "# Define the RNN architecture\n",
        "model = keras.Sequential([\n",
        "    layers.Embedding(input_dim=1000, output_dim=64),\n",
        "    layers.SimpleRNN(units=64),\n",
        "    layers.Dense(units=1, activation=\"sigmoid\")\n",
        "])\n",
        "\n",
        "# Compile the model\n",
        "model.compile(optimizer=\"rmsprop\", loss=\"binary_crossentropy\", metrics=[\"accuracy\"])\n",
        "\n",
        "# Train the model\n",
        "history = model.fit(X_train, y_train, epochs=10, batch_size=32, validation_split=0.2)\n",
        "\n",
        "# Evaluate the model on the test set\n",
        "results = model.evaluate(X_val, y_val, batch_size=128)\n",
        "print(\"Test accuracy:\", results[1])\n"
      ],
      "metadata": {
        "id": "ISbedUdTndpT",
        "colab": {
          "base_uri": "https://localhost:8080/"
        },
        "outputId": "3b6dbe80-9370-4be5-d805-f3f866a5e6db"
      },
      "execution_count": 19,
      "outputs": [
        {
          "output_type": "stream",
          "name": "stdout",
          "text": [
            "Epoch 1/10\n",
            "12/12 [==============================] - 2s 40ms/step - loss: 0.6379 - accuracy: 0.6461 - val_loss: 0.6492 - val_accuracy: 0.6277\n",
            "Epoch 2/10\n",
            "12/12 [==============================] - 0s 9ms/step - loss: 0.5472 - accuracy: 0.7212 - val_loss: 0.6481 - val_accuracy: 0.6383\n",
            "Epoch 3/10\n",
            "12/12 [==============================] - 0s 11ms/step - loss: 0.4527 - accuracy: 0.7748 - val_loss: 0.6468 - val_accuracy: 0.6596\n",
            "Epoch 4/10\n",
            "12/12 [==============================] - 0s 9ms/step - loss: 0.3701 - accuracy: 0.8365 - val_loss: 0.7722 - val_accuracy: 0.6277\n",
            "Epoch 5/10\n",
            "12/12 [==============================] - 0s 9ms/step - loss: 0.3197 - accuracy: 0.8499 - val_loss: 0.7782 - val_accuracy: 0.6277\n",
            "Epoch 6/10\n",
            "12/12 [==============================] - 0s 11ms/step - loss: 0.2591 - accuracy: 0.8928 - val_loss: 0.8922 - val_accuracy: 0.6383\n",
            "Epoch 7/10\n",
            "12/12 [==============================] - 0s 9ms/step - loss: 0.2237 - accuracy: 0.9196 - val_loss: 1.0621 - val_accuracy: 0.6383\n",
            "Epoch 8/10\n",
            "12/12 [==============================] - 0s 10ms/step - loss: 0.1918 - accuracy: 0.9276 - val_loss: 1.1182 - val_accuracy: 0.6596\n",
            "Epoch 9/10\n",
            "12/12 [==============================] - 0s 9ms/step - loss: 0.1553 - accuracy: 0.9491 - val_loss: 1.2384 - val_accuracy: 0.6489\n",
            "Epoch 10/10\n",
            "12/12 [==============================] - 0s 10ms/step - loss: 0.1296 - accuracy: 0.9651 - val_loss: 1.2483 - val_accuracy: 0.6596\n",
            "2/2 [==============================] - 0s 9ms/step - loss: 1.1994 - accuracy: 0.6667\n",
            "Test accuracy: 0.6666666865348816\n"
          ]
        }
      ]
    },
    {
      "cell_type": "code",
      "source": [],
      "metadata": {
        "id": "2wBj3boPxl6t"
      },
      "execution_count": null,
      "outputs": []
    },
    {
      "cell_type": "code",
      "source": [],
      "metadata": {
        "id": "kQ3KTyoaxl-Q"
      },
      "execution_count": null,
      "outputs": []
    },
    {
      "cell_type": "code",
      "source": [],
      "metadata": {
        "id": "JD7Qo7Aky1Mr"
      },
      "execution_count": null,
      "outputs": []
    }
  ]
}