{
  "cells": [
    {
      "cell_type": "markdown",
      "metadata": {
        "id": "view-in-github",
        "colab_type": "text"
      },
      "source": [
        "<a href=\"https://colab.research.google.com/github/yamini542/AppliedAI_Assignments/blob/main/ASS_3_ImageProcessing.ipynb\" target=\"_parent\"><img src=\"https://colab.research.google.com/assets/colab-badge.svg\" alt=\"Open In Colab\"/></a>"
      ]
    },
    {
      "cell_type": "code",
      "execution_count": 1,
      "metadata": {
        "id": "2oBUFbAR1Weu"
      },
      "outputs": [],
      "source": [
        "# import libraries\n",
        "import os\n",
        "import pandas as pd\n",
        "import numpy as np\n",
        "\n",
        "import cv2\n",
        "from skimage.feature import hog\n",
        "\n",
        "from sklearn.model_selection import train_test_split\n",
        "\n",
        "from sklearn.decomposition import PCA\n",
        "\n",
        "# libraries for data plotting\n",
        "import seaborn as sns\n",
        "import matplotlib.pyplot as plt \n",
        "\n",
        "# library for evaluation\n",
        "from sklearn import metrics\n",
        "\n",
        "# libraries for ML algorithms\n",
        "from sklearn import svm\n",
        "\n",
        "from random import randint\n",
        "from random import seed\n",
        "\n",
        "RANDOM_SEED = 100"
      ]
    },
    {
      "cell_type": "code",
      "execution_count": 2,
      "metadata": {
        "colab": {
          "base_uri": "https://localhost:8080/"
        },
        "id": "8YI3Vwl73NOi",
        "outputId": "843ec6f2-3c97-445c-cc15-2f3f12a94d48"
      },
      "outputs": [
        {
          "output_type": "stream",
          "name": "stdout",
          "text": [
            "Mounted at /content/drive\n"
          ]
        }
      ],
      "source": [
        "# mount your Google Drive\n",
        "from google.colab import drive\n",
        "drive.mount('/content/drive')"
      ]
    },
    {
      "cell_type": "code",
      "execution_count": 3,
      "metadata": {
        "id": "xFmhOyuS3RV6"
      },
      "outputs": [],
      "source": [
        "data_folder1 = '/content/drive/MyDrive/Applied_Ai'\n",
        "#data_folder2='/content/drive/MyDrive/Applied_Ai'\n"
      ]
    },
    {
      "cell_type": "code",
      "execution_count": 4,
      "metadata": {
        "colab": {
          "base_uri": "https://localhost:8080/",
          "height": 223
        },
        "id": "HP1FDYnD37MI",
        "outputId": "0a36ed28-710c-4845-a5d3-2ffb7e204917"
      },
      "outputs": [
        {
          "output_type": "stream",
          "name": "stdout",
          "text": [
            "Number of entries: 10000\n"
          ]
        },
        {
          "output_type": "execute_result",
          "data": {
            "text/plain": [
              "   id label\n",
              "0   1   cat\n",
              "1   2   dog\n",
              "2   3   cat\n",
              "3   4   cat\n",
              "4   5   cat"
            ],
            "text/html": [
              "\n",
              "  <div id=\"df-3af903c9-be38-48a5-b444-3b72a37196df\">\n",
              "    <div class=\"colab-df-container\">\n",
              "      <div>\n",
              "<style scoped>\n",
              "    .dataframe tbody tr th:only-of-type {\n",
              "        vertical-align: middle;\n",
              "    }\n",
              "\n",
              "    .dataframe tbody tr th {\n",
              "        vertical-align: top;\n",
              "    }\n",
              "\n",
              "    .dataframe thead th {\n",
              "        text-align: right;\n",
              "    }\n",
              "</style>\n",
              "<table border=\"1\" class=\"dataframe\">\n",
              "  <thead>\n",
              "    <tr style=\"text-align: right;\">\n",
              "      <th></th>\n",
              "      <th>id</th>\n",
              "      <th>label</th>\n",
              "    </tr>\n",
              "  </thead>\n",
              "  <tbody>\n",
              "    <tr>\n",
              "      <th>0</th>\n",
              "      <td>1</td>\n",
              "      <td>cat</td>\n",
              "    </tr>\n",
              "    <tr>\n",
              "      <th>1</th>\n",
              "      <td>2</td>\n",
              "      <td>dog</td>\n",
              "    </tr>\n",
              "    <tr>\n",
              "      <th>2</th>\n",
              "      <td>3</td>\n",
              "      <td>cat</td>\n",
              "    </tr>\n",
              "    <tr>\n",
              "      <th>3</th>\n",
              "      <td>4</td>\n",
              "      <td>cat</td>\n",
              "    </tr>\n",
              "    <tr>\n",
              "      <th>4</th>\n",
              "      <td>5</td>\n",
              "      <td>cat</td>\n",
              "    </tr>\n",
              "  </tbody>\n",
              "</table>\n",
              "</div>\n",
              "      <button class=\"colab-df-convert\" onclick=\"convertToInteractive('df-3af903c9-be38-48a5-b444-3b72a37196df')\"\n",
              "              title=\"Convert this dataframe to an interactive table.\"\n",
              "              style=\"display:none;\">\n",
              "        \n",
              "  <svg xmlns=\"http://www.w3.org/2000/svg\" height=\"24px\"viewBox=\"0 0 24 24\"\n",
              "       width=\"24px\">\n",
              "    <path d=\"M0 0h24v24H0V0z\" fill=\"none\"/>\n",
              "    <path d=\"M18.56 5.44l.94 2.06.94-2.06 2.06-.94-2.06-.94-.94-2.06-.94 2.06-2.06.94zm-11 1L8.5 8.5l.94-2.06 2.06-.94-2.06-.94L8.5 2.5l-.94 2.06-2.06.94zm10 10l.94 2.06.94-2.06 2.06-.94-2.06-.94-.94-2.06-.94 2.06-2.06.94z\"/><path d=\"M17.41 7.96l-1.37-1.37c-.4-.4-.92-.59-1.43-.59-.52 0-1.04.2-1.43.59L10.3 9.45l-7.72 7.72c-.78.78-.78 2.05 0 2.83L4 21.41c.39.39.9.59 1.41.59.51 0 1.02-.2 1.41-.59l7.78-7.78 2.81-2.81c.8-.78.8-2.07 0-2.86zM5.41 20L4 18.59l7.72-7.72 1.47 1.35L5.41 20z\"/>\n",
              "  </svg>\n",
              "      </button>\n",
              "      \n",
              "  <style>\n",
              "    .colab-df-container {\n",
              "      display:flex;\n",
              "      flex-wrap:wrap;\n",
              "      gap: 12px;\n",
              "    }\n",
              "\n",
              "    .colab-df-convert {\n",
              "      background-color: #E8F0FE;\n",
              "      border: none;\n",
              "      border-radius: 50%;\n",
              "      cursor: pointer;\n",
              "      display: none;\n",
              "      fill: #1967D2;\n",
              "      height: 32px;\n",
              "      padding: 0 0 0 0;\n",
              "      width: 32px;\n",
              "    }\n",
              "\n",
              "    .colab-df-convert:hover {\n",
              "      background-color: #E2EBFA;\n",
              "      box-shadow: 0px 1px 2px rgba(60, 64, 67, 0.3), 0px 1px 3px 1px rgba(60, 64, 67, 0.15);\n",
              "      fill: #174EA6;\n",
              "    }\n",
              "\n",
              "    [theme=dark] .colab-df-convert {\n",
              "      background-color: #3B4455;\n",
              "      fill: #D2E3FC;\n",
              "    }\n",
              "\n",
              "    [theme=dark] .colab-df-convert:hover {\n",
              "      background-color: #434B5C;\n",
              "      box-shadow: 0px 1px 3px 1px rgba(0, 0, 0, 0.15);\n",
              "      filter: drop-shadow(0px 1px 2px rgba(0, 0, 0, 0.3));\n",
              "      fill: #FFFFFF;\n",
              "    }\n",
              "  </style>\n",
              "\n",
              "      <script>\n",
              "        const buttonEl =\n",
              "          document.querySelector('#df-3af903c9-be38-48a5-b444-3b72a37196df button.colab-df-convert');\n",
              "        buttonEl.style.display =\n",
              "          google.colab.kernel.accessAllowed ? 'block' : 'none';\n",
              "\n",
              "        async function convertToInteractive(key) {\n",
              "          const element = document.querySelector('#df-3af903c9-be38-48a5-b444-3b72a37196df');\n",
              "          const dataTable =\n",
              "            await google.colab.kernel.invokeFunction('convertToInteractive',\n",
              "                                                     [key], {});\n",
              "          if (!dataTable) return;\n",
              "\n",
              "          const docLinkHtml = 'Like what you see? Visit the ' +\n",
              "            '<a target=\"_blank\" href=https://colab.research.google.com/notebooks/data_table.ipynb>data table notebook</a>'\n",
              "            + ' to learn more about interactive tables.';\n",
              "          element.innerHTML = '';\n",
              "          dataTable['output_type'] = 'display_data';\n",
              "          await google.colab.output.renderOutput(dataTable, element);\n",
              "          const docLink = document.createElement('div');\n",
              "          docLink.innerHTML = docLinkHtml;\n",
              "          element.appendChild(docLink);\n",
              "        }\n",
              "      </script>\n",
              "    </div>\n",
              "  </div>\n",
              "  "
            ]
          },
          "metadata": {},
          "execution_count": 4
        }
      ],
      "source": [
        "# load training data\n",
        "df_train = pd.read_csv(os.path.join(data_folder1, 'train.csv'))\n",
        "\n",
        "# summarise the details\n",
        "print(f'Number of entries: {len(df_train)}')\n",
        "df_train.head()\n",
        "     "
      ]
    },
    {
      "cell_type": "code",
      "execution_count": 5,
      "metadata": {
        "colab": {
          "base_uri": "https://localhost:8080/",
          "height": 223
        },
        "id": "UhLuTsVw4H6U",
        "outputId": "131b8336-f5fe-4b4e-d932-0d6f722b8d0f"
      },
      "outputs": [
        {
          "output_type": "stream",
          "name": "stdout",
          "text": [
            "Number of entries: 1000\n"
          ]
        },
        {
          "output_type": "execute_result",
          "data": {
            "text/plain": [
              "   id\n",
              "0   1\n",
              "1   2\n",
              "2   3\n",
              "3   4\n",
              "4   5"
            ],
            "text/html": [
              "\n",
              "  <div id=\"df-15b7315c-1e50-4e5d-a845-d410a7a955d4\">\n",
              "    <div class=\"colab-df-container\">\n",
              "      <div>\n",
              "<style scoped>\n",
              "    .dataframe tbody tr th:only-of-type {\n",
              "        vertical-align: middle;\n",
              "    }\n",
              "\n",
              "    .dataframe tbody tr th {\n",
              "        vertical-align: top;\n",
              "    }\n",
              "\n",
              "    .dataframe thead th {\n",
              "        text-align: right;\n",
              "    }\n",
              "</style>\n",
              "<table border=\"1\" class=\"dataframe\">\n",
              "  <thead>\n",
              "    <tr style=\"text-align: right;\">\n",
              "      <th></th>\n",
              "      <th>id</th>\n",
              "    </tr>\n",
              "  </thead>\n",
              "  <tbody>\n",
              "    <tr>\n",
              "      <th>0</th>\n",
              "      <td>1</td>\n",
              "    </tr>\n",
              "    <tr>\n",
              "      <th>1</th>\n",
              "      <td>2</td>\n",
              "    </tr>\n",
              "    <tr>\n",
              "      <th>2</th>\n",
              "      <td>3</td>\n",
              "    </tr>\n",
              "    <tr>\n",
              "      <th>3</th>\n",
              "      <td>4</td>\n",
              "    </tr>\n",
              "    <tr>\n",
              "      <th>4</th>\n",
              "      <td>5</td>\n",
              "    </tr>\n",
              "  </tbody>\n",
              "</table>\n",
              "</div>\n",
              "      <button class=\"colab-df-convert\" onclick=\"convertToInteractive('df-15b7315c-1e50-4e5d-a845-d410a7a955d4')\"\n",
              "              title=\"Convert this dataframe to an interactive table.\"\n",
              "              style=\"display:none;\">\n",
              "        \n",
              "  <svg xmlns=\"http://www.w3.org/2000/svg\" height=\"24px\"viewBox=\"0 0 24 24\"\n",
              "       width=\"24px\">\n",
              "    <path d=\"M0 0h24v24H0V0z\" fill=\"none\"/>\n",
              "    <path d=\"M18.56 5.44l.94 2.06.94-2.06 2.06-.94-2.06-.94-.94-2.06-.94 2.06-2.06.94zm-11 1L8.5 8.5l.94-2.06 2.06-.94-2.06-.94L8.5 2.5l-.94 2.06-2.06.94zm10 10l.94 2.06.94-2.06 2.06-.94-2.06-.94-.94-2.06-.94 2.06-2.06.94z\"/><path d=\"M17.41 7.96l-1.37-1.37c-.4-.4-.92-.59-1.43-.59-.52 0-1.04.2-1.43.59L10.3 9.45l-7.72 7.72c-.78.78-.78 2.05 0 2.83L4 21.41c.39.39.9.59 1.41.59.51 0 1.02-.2 1.41-.59l7.78-7.78 2.81-2.81c.8-.78.8-2.07 0-2.86zM5.41 20L4 18.59l7.72-7.72 1.47 1.35L5.41 20z\"/>\n",
              "  </svg>\n",
              "      </button>\n",
              "      \n",
              "  <style>\n",
              "    .colab-df-container {\n",
              "      display:flex;\n",
              "      flex-wrap:wrap;\n",
              "      gap: 12px;\n",
              "    }\n",
              "\n",
              "    .colab-df-convert {\n",
              "      background-color: #E8F0FE;\n",
              "      border: none;\n",
              "      border-radius: 50%;\n",
              "      cursor: pointer;\n",
              "      display: none;\n",
              "      fill: #1967D2;\n",
              "      height: 32px;\n",
              "      padding: 0 0 0 0;\n",
              "      width: 32px;\n",
              "    }\n",
              "\n",
              "    .colab-df-convert:hover {\n",
              "      background-color: #E2EBFA;\n",
              "      box-shadow: 0px 1px 2px rgba(60, 64, 67, 0.3), 0px 1px 3px 1px rgba(60, 64, 67, 0.15);\n",
              "      fill: #174EA6;\n",
              "    }\n",
              "\n",
              "    [theme=dark] .colab-df-convert {\n",
              "      background-color: #3B4455;\n",
              "      fill: #D2E3FC;\n",
              "    }\n",
              "\n",
              "    [theme=dark] .colab-df-convert:hover {\n",
              "      background-color: #434B5C;\n",
              "      box-shadow: 0px 1px 3px 1px rgba(0, 0, 0, 0.15);\n",
              "      filter: drop-shadow(0px 1px 2px rgba(0, 0, 0, 0.3));\n",
              "      fill: #FFFFFF;\n",
              "    }\n",
              "  </style>\n",
              "\n",
              "      <script>\n",
              "        const buttonEl =\n",
              "          document.querySelector('#df-15b7315c-1e50-4e5d-a845-d410a7a955d4 button.colab-df-convert');\n",
              "        buttonEl.style.display =\n",
              "          google.colab.kernel.accessAllowed ? 'block' : 'none';\n",
              "\n",
              "        async function convertToInteractive(key) {\n",
              "          const element = document.querySelector('#df-15b7315c-1e50-4e5d-a845-d410a7a955d4');\n",
              "          const dataTable =\n",
              "            await google.colab.kernel.invokeFunction('convertToInteractive',\n",
              "                                                     [key], {});\n",
              "          if (!dataTable) return;\n",
              "\n",
              "          const docLinkHtml = 'Like what you see? Visit the ' +\n",
              "            '<a target=\"_blank\" href=https://colab.research.google.com/notebooks/data_table.ipynb>data table notebook</a>'\n",
              "            + ' to learn more about interactive tables.';\n",
              "          element.innerHTML = '';\n",
              "          dataTable['output_type'] = 'display_data';\n",
              "          await google.colab.output.renderOutput(dataTable, element);\n",
              "          const docLink = document.createElement('div');\n",
              "          docLink.innerHTML = docLinkHtml;\n",
              "          element.appendChild(docLink);\n",
              "        }\n",
              "      </script>\n",
              "    </div>\n",
              "  </div>\n",
              "  "
            ]
          },
          "metadata": {},
          "execution_count": 5
        }
      ],
      "source": [
        "\n",
        "# load testing data\n",
        "df_test = pd.read_csv(os.path.join(data_folder1, 'test.csv'))\n",
        "\n",
        "# summarise the details\n",
        "print(f'Number of entries: {len(df_test)}')\n",
        "df_test.head()\n",
        "     "
      ]
    },
    {
      "cell_type": "code",
      "execution_count": 6,
      "metadata": {
        "colab": {
          "base_uri": "https://localhost:8080/",
          "height": 296
        },
        "id": "SxSGFkVi6TQY",
        "outputId": "313ede0c-446e-4fae-a909-6daac8e5500b"
      },
      "outputs": [
        {
          "output_type": "execute_result",
          "data": {
            "text/plain": [
              "<AxesSubplot:xlabel='label', ylabel='count'>"
            ]
          },
          "metadata": {},
          "execution_count": 6
        },
        {
          "output_type": "display_data",
          "data": {
            "text/plain": [
              "<Figure size 432x288 with 1 Axes>"
            ],
            "image/png": "[encoded data removed]"
          },
          "metadata": {
            "needs_background": "light"
          }
        }
      ],
      "source": [
        "\n",
        "# Summarise label details in training data\n",
        "sns.countplot(x=df_train['label'])"
      ]
    },
    {
      "cell_type": "code",
      "execution_count": 7,
      "metadata": {
        "id": "cc4Hdfp76gZL"
      },
      "outputs": [],
      "source": [
        "# parameters\n",
        "# ids - list of image ids\n",
        "# folder_path - path to image folder\n",
        "# dim - dimensions to resize images\n",
        "def load_images(ids, folder_path, dim):\n",
        "  images = []\n",
        "  for id in ids:\n",
        "    image_path = os.path.join(folder_path, f'{id}.jpg')\n",
        "    img = cv2.imread(image_path)\n",
        "\n",
        "    # Resize if necessary\n",
        "    if img.shape[0] != dim[1] or img.shape[1] != dim[0]:\n",
        "      img = cv2.resize(img, dim)\n",
        "    images.append(img)\n",
        "  return images"
      ]
    },
    {
      "cell_type": "code",
      "execution_count": 7,
      "metadata": {
        "id": "tF5coGOi5l8u"
      },
      "outputs": [],
      "source": []
    },
    {
      "cell_type": "code",
      "execution_count": 8,
      "metadata": {
        "id": "cQdtzpZL7gDj",
        "colab": {
          "base_uri": "https://localhost:8080/"
        },
        "outputId": "07af3ca9-5898-475b-db3c-627295ceac22"
      },
      "outputs": [
        {
          "output_type": "stream",
          "name": "stdout",
          "text": [
            "Number of training images loaded: 10000\n"
          ]
        }
      ],
      "source": [
        "base_dim = (200, 200)\n",
        "\n",
        "# load train images\n",
        "train_image_folder = os.path.join(data_folder1,'train_images')\n",
        "train_image = load_images(df_train['id'], train_image_folder, base_dim)\n",
        "print(f'Number of training images loaded: {len(train_image)}')\n",
        "\n",
        "# load test images\n",
        "# test_image_folder = os.path.join(data_folder2, 'test_images')\n",
        "# test_image = load_images(df_test['id'], test_image_folder, base_dim)\n",
        "# print(f'Number of testing images loaded: {len(test_image)}')"
      ]
    },
    {
      "cell_type": "code",
      "execution_count": null,
      "metadata": {
        "id": "FjQ708oyqruh"
      },
      "outputs": [],
      "source": []
    },
    {
      "cell_type": "code",
      "execution_count": 9,
      "metadata": {
        "colab": {
          "base_uri": "https://localhost:8080/",
          "height": 36
        },
        "id": "H06u8MWqqHY-",
        "outputId": "e5360e81-dd55-4e5e-c513-96c0bdbb761e"
      },
      "outputs": [
        {
          "output_type": "execute_result",
          "data": {
            "text/plain": [
              "'/content/drive/MyDrive/Applied_Ai/train_images'"
            ],
            "application/vnd.google.colaboratory.intrinsic+json": {
              "type": "string"
            }
          },
          "metadata": {},
          "execution_count": 9
        }
      ],
      "source": [
        "train_image_folder"
      ]
    },
    {
      "cell_type": "code",
      "execution_count": 10,
      "metadata": {
        "colab": {
          "base_uri": "https://localhost:8080/"
        },
        "id": "LOWsdr7hP3SB",
        "outputId": "5c59ad4d-8c0e-4df6-9a05-83a7efc6427d"
      },
      "outputs": [
        {
          "output_type": "execute_result",
          "data": {
            "text/plain": [
              "array([[[211, 216, 214],\n",
              "        [211, 216, 214],\n",
              "        [211, 216, 214],\n",
              "        ...,\n",
              "        [200, 194, 195],\n",
              "        [201, 196, 196],\n",
              "        [203, 198, 197]],\n",
              "\n",
              "       [[210, 215, 213],\n",
              "        [207, 212, 210],\n",
              "        [206, 211, 209],\n",
              "        ...,\n",
              "        [206, 200, 201],\n",
              "        [204, 199, 199],\n",
              "        [206, 201, 200]],\n",
              "\n",
              "       [[210, 215, 213],\n",
              "        [206, 211, 209],\n",
              "        [204, 209, 207],\n",
              "        ...,\n",
              "        [207, 201, 202],\n",
              "        [203, 198, 197],\n",
              "        [206, 200, 200]],\n",
              "\n",
              "       ...,\n",
              "\n",
              "       [[128, 104,  78],\n",
              "        [122,  98,  69],\n",
              "        [118,  92,  61],\n",
              "        ...,\n",
              "        [120, 129, 139],\n",
              "        [123, 132, 142],\n",
              "        [123, 132, 142]],\n",
              "\n",
              "       [[124, 103,  76],\n",
              "        [121,  97,  68],\n",
              "        [115,  87,  57],\n",
              "        ...,\n",
              "        [124, 133, 143],\n",
              "        [123, 132, 142],\n",
              "        [123, 132, 142]],\n",
              "\n",
              "       [[122, 101,  74],\n",
              "        [119,  96,  68],\n",
              "        [112,  84,  53],\n",
              "        ...,\n",
              "        [124, 133, 143],\n",
              "        [123, 132, 142],\n",
              "        [123, 132, 142]]], dtype=uint8)"
            ]
          },
          "metadata": {},
          "execution_count": 10
        }
      ],
      "source": [
        "train_image[0]"
      ]
    },
    {
      "cell_type": "code",
      "execution_count": 9,
      "metadata": {
        "id": "9Bhkoawg7w8g"
      },
      "outputs": [],
      "source": [
        "# method to plot confusion matrix\n",
        "def plot_confusion_matrix(matrix):\n",
        "    plt.clf()\n",
        "    plt.imshow(matrix, interpolation='nearest', cmap=plt.cm.Set2_r)\n",
        "    classNames = ['0', '1']\n",
        "    plt.title('Confusion Matrix')\n",
        "    plt.ylabel('Actual')\n",
        "    plt.xlabel('Predicted')\n",
        "    tick_marks = np.arange(len(classNames))\n",
        "    plt.xticks(tick_marks, classNames)\n",
        "    plt.yticks(tick_marks, classNames)\n",
        "    s = [['TN','FP'], ['FN', 'TP']]\n",
        "\n",
        "    for i in range(2):\n",
        "        for j in range(2):\n",
        "            plt.text(j,i, str(s[i][j])+\" = \"+str(matrix[i][j]))\n",
        "    plt.show()\n",
        "\n",
        "# method to calculate evaluation results\n",
        "def evaluate(actuals, predictions):\n",
        "  accuracy = metrics.accuracy_score(actuals, predictions)\n",
        "  confusion_matrix = metrics.confusion_matrix(actuals, predictions, labels=[0, 1])\n",
        "  return accuracy, confusion_matrix"
      ]
    },
    {
      "cell_type": "markdown",
      "metadata": {
        "id": "2ZKwyjn074fk"
      },
      "source": [
        "#Feature extraction and model generation"
      ]
    },
    {
      "cell_type": "code",
      "execution_count": 12,
      "metadata": {
        "id": "KJDYJtgw79if"
      },
      "outputs": [],
      "source": [
        "\n",
        "def build_svm_model(X_train, X_val, y_train, y_val):\n",
        "  # build model\n",
        "  clf = svm.SVC(kernel='linear', random_state=RANDOM_SEED) \n",
        "  clf.fit(X_train, y_train)\n",
        "  return clf"
      ]
    },
    {
      "cell_type": "code",
      "execution_count": 13,
      "metadata": {
        "id": "vdbGIYRbwxvs"
      },
      "outputs": [],
      "source": [
        "# method to get image features\n",
        "def get_features_m1(images):\n",
        "  features_list = []\n",
        "  for img in images:\n",
        "    # image preprocessing\n",
        "    img_grayscaled = cv2.cvtColor(img, cv2.COLOR_BGR2GRAY)\n",
        "\n",
        "    # vectorise/ feature extraction\n",
        "    features = img_grayscaled.flatten()\n",
        "\n",
        "    features_list.append(features)\n",
        "\n",
        "  features_list = np.array(features_list)\n",
        "  return features_list"
      ]
    },
    {
      "cell_type": "code",
      "execution_count": 14,
      "metadata": {
        "colab": {
          "base_uri": "https://localhost:8080/"
        },
        "id": "vTmydXv5w0nC",
        "outputId": "62aa3b47-234c-4574-a0d6-2b5655ed7d56"
      },
      "outputs": [
        {
          "output_type": "stream",
          "name": "stdout",
          "text": [
            "(10000, 40000)\n"
          ]
        }
      ],
      "source": [
        "# feature extraction\n",
        "features_train = get_features_m1(train_image)\n",
        "print(features_train.shape)"
      ]
    },
    {
      "cell_type": "code",
      "execution_count": 15,
      "metadata": {
        "id": "qC0Qdf-1w4zp"
      },
      "outputs": [],
      "source": [
        "# data split for train and validation\n",
        "X_train, X_val, y_train, y_val = train_test_split(features_train, df_train['label'], test_size=0.3, random_state=RANDOM_SEED)\n",
        "\n",
        "# train model\n",
        "m1 = build_svm_model(X_train, X_val, y_train, y_val)"
      ]
    },
    {
      "cell_type": "code",
      "execution_count": null,
      "metadata": {
        "colab": {
          "base_uri": "https://localhost:8080/"
        },
        "id": "26nyq0ADg0nX",
        "outputId": "f5688830-9500-421b-8ca6-3723b75e133e"
      },
      "outputs": [
        {
          "data": {
            "text/plain": [
              "array([0, 1, 0, 1, 1, 1, 1, 1, 0, 0, 0, 0, 1, 1, 0, 0, 0, 1, 1, 1, 0, 1,\n",
              "       0, 1, 1, 0, 0, 0, 1, 0, 1, 0, 0, 1, 1, 0, 0, 1, 1, 1, 0, 0, 0, 1,\n",
              "       0, 0, 0, 1, 0, 0, 0, 0, 1, 1, 0, 0, 1, 1, 1, 0, 1, 0, 0, 1, 0, 0,\n",
              "       0, 0, 0, 0, 1, 0, 1, 1, 0, 0, 1, 1, 0, 0, 0, 0, 1, 0, 0, 1, 1, 0,\n",
              "       0, 1, 0, 0, 1, 1, 0, 1, 0, 1, 0, 1, 1, 0, 0, 1, 1, 0, 1, 1, 1, 0,\n",
              "       1, 1, 0, 1, 1, 0, 1, 1, 0, 0, 0, 0, 0, 0, 0, 1, 0, 0, 0, 0, 0, 0,\n",
              "       0, 0, 0, 0, 0, 0, 1, 1, 0, 0, 1, 0, 1, 0, 1, 0, 1, 0, 1, 0, 0, 1,\n",
              "       0, 0, 0, 1, 0, 0, 0, 1, 1, 0, 1, 0, 0, 0, 1, 1, 1, 0, 1, 0, 1, 1,\n",
              "       0, 0, 0, 0, 0, 0, 1, 1, 0, 0, 1, 1, 1, 1, 0, 0, 1, 1, 0, 0, 0, 1,\n",
              "       0, 0, 0, 1, 1, 0, 0, 1, 0, 1, 1, 0, 0, 0, 0, 0, 0, 1, 0, 0, 0, 1,\n",
              "       0, 1, 0, 1, 0, 0, 1, 0, 1, 0, 0, 1, 1, 0, 1, 0, 0, 1, 0, 0, 0, 0,\n",
              "       0, 1, 1, 0, 1, 1, 1, 0, 0, 1, 0, 1, 0, 1, 0, 0, 1, 1, 0, 0, 0, 0,\n",
              "       0, 1, 0, 1, 0, 0, 1, 0, 0, 0, 0, 0, 0, 1, 0, 0, 1, 1, 1, 0, 0, 0,\n",
              "       1, 0, 1, 1, 1, 1, 1, 1, 0, 1, 1, 0, 1, 1])"
            ]
          },
          "execution_count": 19,
          "metadata": {},
          "output_type": "execute_result"
        }
      ],
      "source": [
        "y_val.map({'cat':0,'dog':1})\n",
        "np.where(y_pred=='dog',1,0)"
      ]
    },
    {
      "cell_type": "code",
      "execution_count": 16,
      "metadata": {
        "colab": {
          "base_uri": "https://localhost:8080/",
          "height": 312
        },
        "id": "y74-pBqIjArA",
        "outputId": "98dd9030-fd85-4411-9dc9-965863a4dbd6"
      },
      "outputs": [
        {
          "output_type": "stream",
          "name": "stdout",
          "text": [
            "Accuracy: 0.516\n"
          ]
        },
        {
          "output_type": "display_data",
          "data": {
            "text/plain": [
              "<Figure size 432x288 with 1 Axes>"
            ],
            "image/png": "[encoded data removed]"
          },
          "metadata": {
            "needs_background": "light"
          }
        }
      ],
      "source": [
        "# make predictions on validation data\n",
        "y_pred = m1.predict(X_val)\n",
        "\n",
        "# evaluate model\n",
        "accuracy, confusion_matrix = evaluate(y_val.map({'cat':0,'dog':1}),np.where(y_pred=='dog',1,0))\n",
        "print(f'Accuracy: {accuracy}')\n",
        "plot_confusion_matrix(confusion_matrix)\n"
      ]
    },
    {
      "cell_type": "code",
      "execution_count": null,
      "metadata": {
        "colab": {
          "base_uri": "https://localhost:8080/"
        },
        "id": "HeFreOOdYRHs",
        "outputId": "533570bc-51b3-4b40-eef3-ecda56ca1bc6"
      },
      "outputs": [
        {
          "data": {
            "text/plain": [
              "249    dog\n",
              "353    dog\n",
              "537    dog\n",
              "424    cat\n",
              "564    dog\n",
              "      ... \n",
              "193    cat\n",
              "838    dog\n",
              "974    dog\n",
              "203    dog\n",
              "425    dog\n",
              "Name: label, Length: 300, dtype: object"
            ]
          },
          "execution_count": 15,
          "metadata": {},
          "output_type": "execute_result"
        }
      ],
      "source": [
        "y_val"
      ]
    },
    {
      "cell_type": "code",
      "execution_count": null,
      "metadata": {
        "colab": {
          "base_uri": "https://localhost:8080/"
        },
        "id": "Kv1ltA5bYgEC",
        "outputId": "4978dd6e-df4f-4675-d28e-961da3829921"
      },
      "outputs": [
        {
          "data": {
            "text/plain": [
              "array(['cat', 'dog', 'cat', 'dog', 'dog', 'dog', 'dog', 'dog', 'cat',\n",
              "       'cat', 'cat', 'cat', 'dog', 'dog', 'cat', 'cat', 'cat', 'dog',\n",
              "       'dog', 'dog', 'cat', 'dog', 'cat', 'dog', 'dog', 'cat', 'cat',\n",
              "       'cat', 'dog', 'cat', 'dog', 'cat', 'cat', 'dog', 'dog', 'cat',\n",
              "       'cat', 'dog', 'dog', 'dog', 'cat', 'cat', 'cat', 'dog', 'cat',\n",
              "       'cat', 'cat', 'dog', 'cat', 'cat', 'cat', 'cat', 'dog', 'dog',\n",
              "       'cat', 'cat', 'dog', 'dog', 'dog', 'cat', 'dog', 'cat', 'cat',\n",
              "       'dog', 'cat', 'cat', 'cat', 'cat', 'cat', 'cat', 'dog', 'cat',\n",
              "       'dog', 'dog', 'cat', 'cat', 'dog', 'dog', 'cat', 'cat', 'cat',\n",
              "       'cat', 'dog', 'cat', 'cat', 'dog', 'dog', 'cat', 'cat', 'dog',\n",
              "       'cat', 'cat', 'dog', 'dog', 'cat', 'dog', 'cat', 'dog', 'cat',\n",
              "       'dog', 'dog', 'cat', 'cat', 'dog', 'dog', 'cat', 'dog', 'dog',\n",
              "       'dog', 'cat', 'dog', 'dog', 'cat', 'dog', 'dog', 'cat', 'dog',\n",
              "       'dog', 'cat', 'cat', 'cat', 'cat', 'cat', 'cat', 'cat', 'dog',\n",
              "       'cat', 'cat', 'cat', 'cat', 'cat', 'cat', 'cat', 'cat', 'cat',\n",
              "       'cat', 'cat', 'cat', 'dog', 'dog', 'cat', 'cat', 'dog', 'cat',\n",
              "       'dog', 'cat', 'dog', 'cat', 'dog', 'cat', 'dog', 'cat', 'cat',\n",
              "       'dog', 'cat', 'cat', 'cat', 'dog', 'cat', 'cat', 'cat', 'dog',\n",
              "       'dog', 'cat', 'dog', 'cat', 'cat', 'cat', 'dog', 'dog', 'dog',\n",
              "       'cat', 'dog', 'cat', 'dog', 'dog', 'cat', 'cat', 'cat', 'cat',\n",
              "       'cat', 'cat', 'dog', 'dog', 'cat', 'cat', 'dog', 'dog', 'dog',\n",
              "       'dog', 'cat', 'cat', 'dog', 'dog', 'cat', 'cat', 'cat', 'dog',\n",
              "       'cat', 'cat', 'cat', 'dog', 'dog', 'cat', 'cat', 'dog', 'cat',\n",
              "       'dog', 'dog', 'cat', 'cat', 'cat', 'cat', 'cat', 'cat', 'dog',\n",
              "       'cat', 'cat', 'cat', 'dog', 'cat', 'dog', 'cat', 'dog', 'cat',\n",
              "       'cat', 'dog', 'cat', 'dog', 'cat', 'cat', 'dog', 'dog', 'cat',\n",
              "       'dog', 'cat', 'cat', 'dog', 'cat', 'cat', 'cat', 'cat', 'cat',\n",
              "       'dog', 'dog', 'cat', 'dog', 'dog', 'dog', 'cat', 'cat', 'dog',\n",
              "       'cat', 'dog', 'cat', 'dog', 'cat', 'cat', 'dog', 'dog', 'cat',\n",
              "       'cat', 'cat', 'cat', 'cat', 'dog', 'cat', 'dog', 'cat', 'cat',\n",
              "       'dog', 'cat', 'cat', 'cat', 'cat', 'cat', 'cat', 'dog', 'cat',\n",
              "       'cat', 'dog', 'dog', 'dog', 'cat', 'cat', 'cat', 'dog', 'cat',\n",
              "       'dog', 'dog', 'dog', 'dog', 'dog', 'dog', 'cat', 'dog', 'dog',\n",
              "       'cat', 'dog', 'dog'], dtype=object)"
            ]
          },
          "execution_count": 16,
          "metadata": {},
          "output_type": "execute_result"
        }
      ],
      "source": [
        "y_pred"
      ]
    },
    {
      "cell_type": "code",
      "execution_count": null,
      "metadata": {
        "colab": {
          "base_uri": "https://localhost:8080/"
        },
        "id": "jNynd1CFaBTH",
        "outputId": "8e8a576d-9c72-4f6c-ce6d-d9d4aa3e664b"
      },
      "outputs": [
        {
          "data": {
            "text/plain": [
              "array([[120,  54,  58, ...,  13,  11,   4],\n",
              "       [201, 196, 198, ..., 196, 195, 194],\n",
              "       [179, 181, 180, ...,  70,  68,  70],\n",
              "       ...,\n",
              "       [175, 166, 193, ..., 189, 137, 151],\n",
              "       [ 42,  80, 115, ...,  63,  66,  72],\n",
              "       [116,  77, 134, ..., 137, 134, 141]], dtype=uint8)"
            ]
          },
          "execution_count": 17,
          "metadata": {},
          "output_type": "execute_result"
        }
      ],
      "source": [
        "X_val"
      ]
    },
    {
      "cell_type": "code",
      "execution_count": 17,
      "metadata": {
        "colab": {
          "base_uri": "https://localhost:8080/"
        },
        "id": "5cNXHOdhxFZ6",
        "outputId": "3e98c5ac-1500-4947-c706-4ebf04a2612f"
      },
      "outputs": [
        {
          "output_type": "stream",
          "name": "stdout",
          "text": [
            "Number of testing images loaded: 1000\n"
          ]
        }
      ],
      "source": [
        "# load test images\n",
        "test_image_folder = os.path.join(data_folder1, 'test_images')\n",
        "test_image = load_images(df_test['id'], test_image_folder, base_dim)\n",
        "print(f'Number of testing images loaded: {len(test_image)}')"
      ]
    },
    {
      "cell_type": "code",
      "execution_count": 18,
      "metadata": {
        "colab": {
          "base_uri": "https://localhost:8080/"
        },
        "id": "kPUYYjOOypLv",
        "outputId": "0fa2ba9b-836a-4906-a958-e686f075fd53"
      },
      "outputs": [
        {
          "output_type": "stream",
          "name": "stdout",
          "text": [
            "(1000, 40000)\n",
            "['cat' 'dog' 'cat' 'cat' 'cat' 'dog' 'dog' 'cat' 'cat' 'cat' 'cat' 'dog'\n",
            " 'cat' 'cat' 'cat' 'dog' 'dog' 'dog' 'dog' 'cat' 'dog' 'dog' 'dog' 'cat'\n",
            " 'dog' 'cat' 'dog' 'cat' 'dog' 'cat' 'cat' 'dog' 'dog' 'cat' 'cat' 'cat'\n",
            " 'dog' 'cat' 'dog' 'cat' 'dog' 'cat' 'cat' 'cat' 'cat' 'cat' 'dog' 'cat'\n",
            " 'cat' 'cat' 'dog' 'cat' 'cat' 'cat' 'dog' 'cat' 'dog' 'dog' 'cat' 'dog'\n",
            " 'cat' 'cat' 'cat' 'cat' 'dog' 'cat' 'dog' 'dog' 'dog' 'cat' 'cat' 'dog'\n",
            " 'dog' 'cat' 'cat' 'dog' 'cat' 'cat' 'cat' 'dog' 'dog' 'dog' 'dog' 'cat'\n",
            " 'cat' 'cat' 'dog' 'cat' 'cat' 'dog' 'cat' 'cat' 'cat' 'cat' 'dog' 'dog'\n",
            " 'cat' 'cat' 'dog' 'cat' 'dog' 'dog' 'cat' 'dog' 'cat' 'cat' 'cat' 'cat'\n",
            " 'cat' 'cat' 'dog' 'dog' 'dog' 'dog' 'dog' 'cat' 'dog' 'cat' 'cat' 'cat'\n",
            " 'dog' 'cat' 'dog' 'cat' 'cat' 'cat' 'cat' 'dog' 'dog' 'dog' 'dog' 'dog'\n",
            " 'cat' 'cat' 'cat' 'dog' 'dog' 'cat' 'cat' 'cat' 'cat' 'cat' 'dog' 'cat'\n",
            " 'dog' 'cat' 'cat' 'dog' 'cat' 'dog' 'dog' 'cat' 'dog' 'cat' 'dog' 'cat'\n",
            " 'dog' 'dog' 'dog' 'cat' 'cat' 'dog' 'cat' 'cat' 'dog' 'dog' 'dog' 'cat'\n",
            " 'cat' 'cat' 'dog' 'cat' 'dog' 'dog' 'dog' 'dog' 'cat' 'cat' 'cat' 'cat'\n",
            " 'cat' 'cat' 'dog' 'dog' 'dog' 'cat' 'cat' 'cat' 'cat' 'cat' 'dog' 'cat'\n",
            " 'cat' 'dog' 'dog' 'dog' 'dog' 'cat' 'cat' 'dog' 'dog' 'cat' 'dog' 'cat'\n",
            " 'cat' 'dog' 'dog' 'dog' 'cat' 'cat' 'cat' 'cat' 'cat' 'cat' 'dog' 'cat'\n",
            " 'dog' 'dog' 'dog' 'dog' 'dog' 'cat' 'dog' 'dog' 'dog' 'cat' 'cat' 'cat'\n",
            " 'cat' 'cat' 'cat' 'cat' 'cat' 'cat' 'dog' 'dog' 'dog' 'cat' 'cat' 'dog'\n",
            " 'cat' 'dog' 'cat' 'cat' 'cat' 'cat' 'dog' 'dog' 'cat' 'dog' 'dog' 'cat'\n",
            " 'cat' 'cat' 'cat' 'dog' 'dog' 'cat' 'dog' 'cat' 'cat' 'dog' 'cat' 'cat'\n",
            " 'cat' 'cat' 'cat' 'dog' 'cat' 'dog' 'cat' 'dog' 'cat' 'cat' 'cat' 'dog'\n",
            " 'cat' 'cat' 'dog' 'dog' 'cat' 'cat' 'dog' 'dog' 'dog' 'dog' 'cat' 'cat'\n",
            " 'dog' 'dog' 'dog' 'dog' 'dog' 'cat' 'dog' 'dog' 'cat' 'dog' 'cat' 'dog'\n",
            " 'dog' 'dog' 'dog' 'cat' 'cat' 'cat' 'cat' 'cat' 'dog' 'dog' 'dog' 'dog'\n",
            " 'cat' 'cat' 'dog' 'cat' 'cat' 'dog' 'dog' 'cat' 'cat' 'cat' 'cat' 'cat'\n",
            " 'cat' 'cat' 'cat' 'cat' 'cat' 'cat' 'cat' 'cat' 'dog' 'cat' 'cat' 'dog'\n",
            " 'dog' 'cat' 'cat' 'dog' 'cat' 'cat' 'dog' 'dog' 'dog' 'dog' 'cat' 'cat'\n",
            " 'dog' 'cat' 'cat' 'dog' 'dog' 'dog' 'cat' 'dog' 'dog' 'cat' 'dog' 'cat'\n",
            " 'dog' 'cat' 'cat' 'cat' 'dog' 'cat' 'cat' 'cat' 'dog' 'dog' 'dog' 'dog'\n",
            " 'dog' 'cat' 'cat' 'dog' 'dog' 'cat' 'dog' 'dog' 'cat' 'cat' 'cat' 'cat'\n",
            " 'cat' 'dog' 'cat' 'cat' 'dog' 'dog' 'dog' 'cat' 'dog' 'dog' 'cat' 'cat'\n",
            " 'dog' 'cat' 'dog' 'dog' 'dog' 'cat' 'cat' 'dog' 'cat' 'cat' 'cat' 'cat'\n",
            " 'cat' 'cat' 'cat' 'cat' 'dog' 'cat' 'cat' 'cat' 'dog' 'dog' 'cat' 'dog'\n",
            " 'cat' 'dog' 'cat' 'dog' 'cat' 'cat' 'cat' 'cat' 'cat' 'dog' 'cat' 'cat'\n",
            " 'cat' 'cat' 'dog' 'dog' 'dog' 'dog' 'dog' 'dog' 'cat' 'cat' 'cat' 'cat'\n",
            " 'cat' 'dog' 'cat' 'dog' 'cat' 'cat' 'cat' 'dog' 'cat' 'cat' 'cat' 'dog'\n",
            " 'cat' 'cat' 'dog' 'cat' 'dog' 'dog' 'dog' 'cat' 'dog' 'cat' 'cat' 'dog'\n",
            " 'cat' 'dog' 'cat' 'cat' 'dog' 'cat' 'dog' 'dog' 'dog' 'dog' 'dog' 'cat'\n",
            " 'cat' 'dog' 'cat' 'cat' 'dog' 'dog' 'dog' 'cat' 'cat' 'cat' 'cat' 'cat'\n",
            " 'dog' 'dog' 'dog' 'cat' 'cat' 'cat' 'dog' 'cat' 'dog' 'dog' 'cat' 'dog'\n",
            " 'cat' 'cat' 'dog' 'cat' 'cat' 'cat' 'dog' 'dog' 'dog' 'dog' 'cat' 'dog'\n",
            " 'cat' 'dog' 'dog' 'cat' 'dog' 'dog' 'cat' 'cat' 'cat' 'dog' 'cat' 'dog'\n",
            " 'cat' 'dog' 'dog' 'cat' 'dog' 'cat' 'cat' 'cat' 'cat' 'dog' 'cat' 'cat'\n",
            " 'dog' 'cat' 'dog' 'dog' 'dog' 'cat' 'dog' 'dog' 'cat' 'dog' 'cat' 'dog'\n",
            " 'cat' 'cat' 'cat' 'cat' 'dog' 'cat' 'dog' 'dog' 'dog' 'cat' 'cat' 'cat'\n",
            " 'cat' 'cat' 'dog' 'dog' 'cat' 'dog' 'cat' 'cat' 'dog' 'cat' 'dog' 'cat'\n",
            " 'dog' 'dog' 'dog' 'dog' 'cat' 'cat' 'cat' 'dog' 'cat' 'dog' 'cat' 'cat'\n",
            " 'dog' 'cat' 'cat' 'cat' 'cat' 'cat' 'dog' 'cat' 'dog' 'cat' 'cat' 'dog'\n",
            " 'cat' 'cat' 'cat' 'cat' 'cat' 'dog' 'cat' 'cat' 'dog' 'dog' 'cat' 'cat'\n",
            " 'cat' 'cat' 'cat' 'cat' 'cat' 'dog' 'cat' 'dog' 'dog' 'cat' 'dog' 'cat'\n",
            " 'dog' 'dog' 'dog' 'dog' 'dog' 'dog' 'dog' 'cat' 'cat' 'cat' 'dog' 'dog'\n",
            " 'cat' 'dog' 'dog' 'dog' 'cat' 'cat' 'dog' 'dog' 'cat' 'cat' 'cat' 'cat'\n",
            " 'cat' 'dog' 'cat' 'cat' 'dog' 'cat' 'cat' 'cat' 'dog' 'dog' 'cat' 'dog'\n",
            " 'cat' 'cat' 'cat' 'dog' 'dog' 'cat' 'cat' 'cat' 'cat' 'cat' 'dog' 'cat'\n",
            " 'dog' 'dog' 'cat' 'cat' 'dog' 'cat' 'cat' 'dog' 'dog' 'dog' 'cat' 'cat'\n",
            " 'cat' 'cat' 'cat' 'dog' 'cat' 'dog' 'dog' 'cat' 'dog' 'cat' 'dog' 'dog'\n",
            " 'dog' 'cat' 'cat' 'cat' 'dog' 'cat' 'cat' 'dog' 'dog' 'dog' 'cat' 'dog'\n",
            " 'dog' 'cat' 'dog' 'dog' 'cat' 'cat' 'cat' 'cat' 'dog' 'cat' 'cat' 'dog'\n",
            " 'cat' 'cat' 'cat' 'dog' 'dog' 'dog' 'cat' 'dog' 'dog' 'cat' 'cat' 'cat'\n",
            " 'cat' 'dog' 'dog' 'dog' 'cat' 'cat' 'cat' 'cat' 'dog' 'dog' 'cat' 'dog'\n",
            " 'cat' 'dog' 'cat' 'cat' 'cat' 'cat' 'cat' 'cat' 'dog' 'cat' 'cat' 'dog'\n",
            " 'cat' 'dog' 'cat' 'dog' 'cat' 'cat' 'dog' 'cat' 'cat' 'cat' 'cat' 'cat'\n",
            " 'dog' 'cat' 'dog' 'cat' 'dog' 'cat' 'cat' 'cat' 'cat' 'dog' 'dog' 'cat'\n",
            " 'dog' 'cat' 'cat' 'dog' 'dog' 'cat' 'dog' 'cat' 'cat' 'cat' 'dog' 'cat'\n",
            " 'dog' 'dog' 'cat' 'cat' 'cat' 'dog' 'cat' 'cat' 'cat' 'dog' 'dog' 'dog'\n",
            " 'cat' 'dog' 'cat' 'dog' 'cat' 'cat' 'cat' 'cat' 'dog' 'dog' 'cat' 'cat'\n",
            " 'cat' 'cat' 'dog' 'cat' 'dog' 'dog' 'dog' 'dog' 'dog' 'cat' 'cat' 'dog'\n",
            " 'dog' 'cat' 'cat' 'dog' 'cat' 'cat' 'cat' 'cat' 'cat' 'cat' 'cat' 'dog'\n",
            " 'dog' 'cat' 'dog' 'cat' 'dog' 'dog' 'cat' 'cat' 'cat' 'cat' 'dog' 'cat'\n",
            " 'dog' 'cat' 'cat' 'dog' 'cat' 'cat' 'cat' 'dog' 'cat' 'cat' 'cat' 'dog'\n",
            " 'cat' 'cat' 'cat' 'cat' 'dog' 'cat' 'dog' 'cat' 'dog' 'cat' 'cat' 'cat'\n",
            " 'cat' 'dog' 'dog' 'cat' 'cat' 'cat' 'cat' 'dog' 'cat' 'dog' 'dog' 'cat'\n",
            " 'dog' 'cat' 'dog' 'cat' 'dog' 'cat' 'dog' 'cat' 'dog' 'cat' 'cat' 'dog'\n",
            " 'cat' 'dog' 'dog' 'dog' 'cat' 'dog' 'cat' 'cat' 'dog' 'dog' 'cat' 'cat'\n",
            " 'dog' 'dog' 'cat' 'dog' 'cat' 'dog' 'cat' 'cat' 'cat' 'cat' 'cat' 'dog'\n",
            " 'cat' 'cat' 'cat' 'dog' 'cat' 'cat' 'cat' 'cat' 'cat' 'dog' 'cat' 'cat'\n",
            " 'cat' 'cat' 'cat' 'dog' 'cat' 'dog' 'cat' 'cat' 'cat' 'dog' 'dog' 'dog'\n",
            " 'cat' 'dog' 'cat' 'dog' 'cat' 'dog' 'cat' 'cat' 'cat' 'dog' 'cat' 'dog'\n",
            " 'cat' 'cat' 'dog' 'cat' 'dog' 'dog' 'cat' 'cat' 'cat' 'dog' 'cat' 'cat'\n",
            " 'cat' 'cat' 'cat' 'dog' 'dog' 'dog' 'cat' 'cat' 'cat' 'cat' 'dog' 'dog'\n",
            " 'cat' 'cat' 'dog' 'cat' 'dog' 'dog' 'cat' 'dog' 'dog' 'dog' 'dog' 'cat'\n",
            " 'cat' 'cat' 'cat' 'cat']\n"
          ]
        }
      ],
      "source": [
        "# feature extraction - test data\n",
        "features_test = get_features_m1(test_image)\n",
        "print(features_test.shape)\n",
        "\n",
        "# get model predictions\n",
        "predictions = m1.predict(features_test)\n",
        "print(predictions)\n",
        "     "
      ]
    },
    {
      "cell_type": "code",
      "execution_count": null,
      "metadata": {
        "id": "LIR4f6Y0jQ1E"
      },
      "outputs": [],
      "source": []
    },
    {
      "cell_type": "markdown",
      "metadata": {
        "id": "DhSPrqZB0kuk"
      },
      "source": [
        "Model M2\n",
        "Preprocessing - gray scaling, smoothing\n",
        "Features - image vector\n",
        "Algorithm - SVM"
      ]
    },
    {
      "cell_type": "code",
      "execution_count": null,
      "metadata": {
        "id": "oa5kP23j0lYo"
      },
      "outputs": [],
      "source": [
        "# method to get image features\n",
        "def get_features_m2(images):\n",
        "  features_list = []\n",
        "  for img in images:\n",
        "    # image preprocessing\n",
        "    img_grayscaled = cv2.cvtColor(img, cv2.COLOR_BGR2GRAY)\n",
        "    #grey s ale with edge and hog\n",
        "    img_blurred = cv2.GaussianBlur(img_grayscaled,(3,3), 2)\n",
        "\n",
        "    # vectorise/ feature extraction\n",
        "    features = img_blurred.flatten()\n",
        "\n",
        "    features_list.append(features)\n",
        "\n",
        "  features_list = np.array(features_list)\n",
        "  return features_list"
      ]
    },
    {
      "cell_type": "code",
      "execution_count": null,
      "metadata": {
        "colab": {
          "base_uri": "https://localhost:8080/"
        },
        "id": "VOLeMfX50tal",
        "outputId": "0ac7194b-d28d-4941-c971-655cb76ded98"
      },
      "outputs": [
        {
          "name": "stdout",
          "output_type": "stream",
          "text": [
            "(10000, 10000)\n"
          ]
        }
      ],
      "source": [
        "\n",
        "# feature extraction\n",
        "features_train = get_features_m2(train_image)\n",
        "print(features_train.shape)"
      ]
    },
    {
      "cell_type": "code",
      "execution_count": null,
      "metadata": {
        "id": "SgjUImx1A9tY"
      },
      "outputs": [],
      "source": [
        "#data split for train and validation\n",
        "X_train, X_val, y_train, y_val = train_test_split(features_train, df_train['label'], test_size=0.3, random_state=RANDOM_SEED)\n",
        "\n",
        "#train model\n",
        "m2 = build_svm_model(X_train, X_val, y_train, y_val)"
      ]
    },
    {
      "cell_type": "code",
      "execution_count": null,
      "metadata": {
        "colab": {
          "base_uri": "https://localhost:8080/",
          "height": 312
        },
        "id": "iDj9GNZp22MY",
        "outputId": "4aca795b-76b0-4dc9-e60d-7a8873097432"
      },
      "outputs": [
        {
          "name": "stdout",
          "output_type": "stream",
          "text": [
            "Accuracy: 0.506\n"
          ]
        },
        {
          "data": {
            "image/png": "[encoded data removed]",
            "text/plain": [
              "<Figure size 432x288 with 1 Axes>"
            ]
          },
          "metadata": {},
          "output_type": "display_data"
        }
      ],
      "source": [
        "\n",
        "# make predictions on validation data\n",
        "y_pred = m2.predict(X_val)\n",
        "\n",
        "# evaluate model\n",
        "accuracy, confusion_matrix = evaluate(y_val.map({'cat':0,'dog':1}),np.where(y_pred=='dog',1,0))\n",
        "print(f'Accuracy: {accuracy}')\n",
        "plot_confusion_matrix(confusion_matrix)\n"
      ]
    },
    {
      "cell_type": "code",
      "execution_count": null,
      "metadata": {
        "id": "Aq9B_Df_26LT"
      },
      "outputs": [],
      "source": [
        "# feature extraction - test data\n",
        "features_test = get_features_m2(test_image)\n",
        "print(features_test.shape)\n",
        "\n",
        "# get model predictions\n",
        "predictions = m2.predict(features_test)\n",
        "\n",
        "print(predictions)"
      ]
    },
    {
      "cell_type": "code",
      "execution_count": null,
      "metadata": {
        "id": "5R5N6XkL3Pwj"
      },
      "outputs": [],
      "source": []
    },
    {
      "cell_type": "markdown",
      "metadata": {
        "id": "PuYbhvQc3Qx-"
      },
      "source": [
        "Model M3\n",
        "Preprocessing - gray scaling\n",
        "Features - edge map to vector\n",
        "Algorithm - SVM"
      ]
    },
    {
      "cell_type": "code",
      "execution_count": null,
      "metadata": {
        "id": "B1SWxNNP01Y2"
      },
      "outputs": [],
      "source": [
        "# method to get image features\n",
        "def get_features_m3(images):\n",
        "  features_list = []\n",
        "  for img in images:\n",
        "    # image preprocessing\n",
        "    img_grayscaled = cv2.cvtColor(img, cv2.COLOR_BGR2GRAY)\n",
        "\n",
        "    # feature extraction\n",
        "    edges_canny = cv2.Canny(img_grayscaled, 100, 200) \n",
        "    features = edges_canny.flatten()\n",
        "\n",
        "    features_list.append(features)\n",
        "\n",
        "  features_list = np.array(features_list)\n",
        "  return features_list"
      ]
    },
    {
      "cell_type": "markdown",
      "metadata": {
        "id": "RK2vbKj70_Ae"
      },
      "source": [
        "train and validate model\n"
      ]
    },
    {
      "cell_type": "code",
      "execution_count": null,
      "metadata": {
        "id": "10ht9IOb0_k1"
      },
      "outputs": [],
      "source": [
        "# feature extraction\n",
        "features_train = get_features_m3(train_image)\n",
        "print(features_train.shape)"
      ]
    },
    {
      "cell_type": "code",
      "execution_count": null,
      "metadata": {
        "id": "t2cq5-ZO1C49"
      },
      "outputs": [],
      "source": [
        "# data split for train and validation\n",
        "X_train, X_val, y_train, y_val = train_test_split(features_train, df_train['label'], test_size=0.3, random_state=RANDOM_SEED)\n",
        "\n",
        "# train model\n",
        "m3 = build_svm_model(X_train, X_val, y_train, y_val)"
      ]
    },
    {
      "cell_type": "code",
      "execution_count": null,
      "metadata": {
        "id": "2VQkSI021FsB"
      },
      "outputs": [],
      "source": [
        "\n",
        "# make predictions on validation data\n",
        "y_pred = m3.predict(X_val)\n",
        "\n",
        "# evaluate model\n",
        "accuracy, confusion_matrix = evaluate(y_val, y_pred)\n",
        "print(f'Accuracy: {accuracy}')\n",
        "plot_confusion_matrix(confusion_matrix)"
      ]
    },
    {
      "cell_type": "markdown",
      "metadata": {
        "id": "CFvtmJi98Z4E"
      },
      "source": [
        "make predictions on test-images"
      ]
    },
    {
      "cell_type": "code",
      "execution_count": null,
      "metadata": {
        "id": "rq_haaXM8Y_c"
      },
      "outputs": [],
      "source": [
        "# feature extraction - test data\n",
        "features_test = get_features_m3(test_image)\n",
        "print(features_test.shape)\n",
        "\n",
        "# get model predictions\n",
        "predictions = m3.predict(features_test)\n",
        "\n",
        "print(predictions)"
      ]
    },
    {
      "cell_type": "markdown",
      "metadata": {
        "id": "L1DIuotL8fPA"
      },
      "source": [
        "MOdel-4\n",
        "Preprocessing - gray scaling\n",
        "Features - HOG features\n",
        "Algorithm - SVM"
      ]
    },
    {
      "cell_type": "code",
      "execution_count": null,
      "metadata": {
        "id": "RutG5-168dzz"
      },
      "outputs": [],
      "source": [
        "# method to get image features\n",
        "def get_features_m4(images):\n",
        "  features_list = []\n",
        "  for img in images:\n",
        "    # image preprocessing\n",
        "    img_grayscaled = cv2.cvtColor(img, cv2.COLOR_BGR2GRAY)\n",
        "\n",
        "    # Resize image if necessary\n",
        "    img_resized = cv2.resize(img_grayscaled, (64, 128))\n",
        "\n",
        "    # feature extraction\n",
        "    features, hog_image = hog(img_resized, orientations=9, pixels_per_cell=(8, 8), \n",
        "                    cells_per_block=(2, 2), visualize=True)\n",
        "\n",
        "    features_list.append(features)\n",
        "\n",
        "  features_list = np.array(features_list)\n",
        "  return features_list\n",
        "     "
      ]
    },
    {
      "cell_type": "code",
      "execution_count": null,
      "metadata": {
        "colab": {
          "base_uri": "https://localhost:8080/"
        },
        "id": "D-FTukXrCPEW",
        "outputId": "fb49afab-b7cc-4560-a77b-19c6a1471450"
      },
      "outputs": [
        {
          "name": "stdout",
          "output_type": "stream",
          "text": [
            "(10000, 3780)\n"
          ]
        }
      ],
      "source": [
        "# feature extraction\n",
        "features_train_4 = get_features_m4(train_image)\n",
        "print(features_train.shape)"
      ]
    },
    {
      "cell_type": "code",
      "execution_count": null,
      "metadata": {
        "id": "Do8h3YEJCSQd"
      },
      "outputs": [],
      "source": [
        "X_train, X_val, y_train, y_val = train_test_split(features_train_4, df_train['label'], test_size=0.3, random_state=RANDOM_SEED)\n",
        "\n",
        "# train model\n",
        "m4 = build_svm_model(X_train, X_val, y_train, y_val)"
      ]
    },
    {
      "cell_type": "code",
      "execution_count": null,
      "metadata": {
        "colab": {
          "base_uri": "https://localhost:8080/",
          "height": 312
        },
        "id": "1D9VgNGwCe-S",
        "outputId": "12f83626-bc31-49f3-d8b8-77da9a5f0069"
      },
      "outputs": [
        {
          "name": "stdout",
          "output_type": "stream",
          "text": [
            "Accuracy: 0.513\n"
          ]
        },
        {
          "data": {
            "image/png": "[encoded data removed]",
            "text/plain": [
              "<Figure size 432x288 with 1 Axes>"
            ]
          },
          "metadata": {},
          "output_type": "display_data"
        }
      ],
      "source": [
        "\n",
        "# make predictions on validation data\n",
        "y_pred = m4.predict(X_val)\n",
        "\n",
        "# evaluate model\n",
        "accuracy, confusion_matrix = evaluate(y_val.map({'cat':0,'dog':1}),np.where(y_pred=='dog',1,0))\n",
        "print(f'Accuracy: {accuracy}')\n",
        "plot_confusion_matrix(confusion_matrix)\n"
      ]
    },
    {
      "cell_type": "code",
      "execution_count": null,
      "metadata": {
        "id": "K6sx7tJeJ0KN"
      },
      "outputs": [],
      "source": []
    },
    {
      "cell_type": "code",
      "execution_count": null,
      "metadata": {
        "id": "lDZPIOd4N0sT"
      },
      "outputs": [],
      "source": []
    },
    {
      "cell_type": "markdown",
      "metadata": {
        "id": "Hl5pXaU_N1Wj"
      },
      "source": [
        "preprocessing:\n",
        "grayscale resize \n",
        "SVM"
      ]
    },
    {
      "cell_type": "code",
      "execution_count": null,
      "metadata": {
        "id": "e7BQGueHZhLw"
      },
      "outputs": [],
      "source": [
        "import cv2\n",
        "from skimage.feature import hog\n",
        "\n",
        "# method to get image features\n",
        "def get_features_m5(images, size=(128, 128)):\n",
        "  features_list = []\n",
        "  for img in images:\n",
        "    # image preprocessing\n",
        "    img_resized = cv2.resize(img, size)\n",
        "    img_grayscaled = cv2.cvtColor(img_resized, cv2.COLOR_BGR2GRAY)\n",
        "\n",
        "    # HOG feature extraction\n",
        "    hog_features = hog(img_grayscaled, orientations=9, pixels_per_cell=(8, 8), cells_per_block=(2, 2), block_norm='L2-Hys')\n",
        "\n",
        "    # vectorise/ feature extraction\n",
        "    features = np.concatenate((img_grayscaled.flatten(), hog_features))\n",
        "\n",
        "    features_list.append(features)\n",
        "\n",
        "  features_list = np.array(features_list)\n",
        "  return features_list\n"
      ]
    },
    {
      "cell_type": "code",
      "execution_count": null,
      "metadata": {
        "colab": {
          "base_uri": "https://localhost:8080/"
        },
        "id": "5MATsGo2cKYh",
        "outputId": "1106bea7-2148-4562-bb6f-c793779a4910"
      },
      "outputs": [
        {
          "name": "stdout",
          "output_type": "stream",
          "text": [
            "(10000, 10000)\n"
          ]
        }
      ],
      "source": [
        "\n",
        "# feature extraction\n",
        "features_train5 = get_features_m5(train_image)\n",
        "print(features_train.shape)"
      ]
    },
    {
      "cell_type": "code",
      "execution_count": null,
      "metadata": {
        "id": "14oQk74ecQ7z"
      },
      "outputs": [],
      "source": [
        "#data split for train and validation\n",
        "X_train, X_val, y_train, y_val = train_test_split(features_train5, df_train['label'], test_size=0.3, random_state=RANDOM_SEED)\n",
        "\n",
        "#train model\n",
        "m5 = build_svm_model(X_train, X_val, y_train, y_val)"
      ]
    },
    {
      "cell_type": "code",
      "execution_count": null,
      "metadata": {
        "colab": {
          "base_uri": "https://localhost:8080/",
          "height": 312
        },
        "id": "_ZectOuqcWEI",
        "outputId": "53580642-8509-4f0f-b2b5-3583207abc6c"
      },
      "outputs": [
        {
          "name": "stdout",
          "output_type": "stream",
          "text": [
            "Accuracy: 0.505\n"
          ]
        },
        {
          "data": {
            "image/png": "[encoded data removed]",
            "text/plain": [
              "<Figure size 432x288 with 1 Axes>"
            ]
          },
          "metadata": {},
          "output_type": "display_data"
        }
      ],
      "source": [
        "\n",
        "# make predictions on validation data\n",
        "y_pred = m5.predict(X_val)\n",
        "\n",
        "# evaluate model\n",
        "accuracy, confusion_matrix = evaluate(y_val.map({'cat':0,'dog':1}),np.where(y_pred=='dog',1,0))\n",
        "print(f'Accuracy: {accuracy}')\n",
        "plot_confusion_matrix(confusion_matrix)\n"
      ]
    },
    {
      "cell_type": "code",
      "execution_count": null,
      "metadata": {
        "id": "5x_MoShBdxGb"
      },
      "outputs": [],
      "source": []
    },
    {
      "cell_type": "code",
      "execution_count": null,
      "metadata": {
        "id": "tRkOjoU4d5xR"
      },
      "outputs": [],
      "source": []
    },
    {
      "cell_type": "markdown",
      "metadata": {
        "id": "Vel27JCOd5_V"
      },
      "source": [
        "Grayscale\n",
        "Hog"
      ]
    },
    {
      "cell_type": "markdown",
      "metadata": {
        "id": "SoTUX4dMdxtQ"
      },
      "source": []
    },
    {
      "cell_type": "code",
      "execution_count": null,
      "metadata": {
        "id": "pRLx2BZKdyum"
      },
      "outputs": [],
      "source": [
        "# method to get image features\n",
        "def get_features_m6(images):\n",
        "  features_list = []\n",
        "  for img in images:\n",
        "    # image preprocessing\n",
        "    img_grayscaled = cv2.cvtColor(img, cv2.COLOR_BGR2GRAY)\n",
        "    # gray scale with edge and hog\n",
        "    img_blurred = cv2.GaussianBlur(img_grayscaled,(3,3), 2)\n",
        "    hog_feature = hog(img_blurred)\n",
        "\n",
        "    # vectorize/ feature extraction\n",
        "    features = np.hstack([img_blurred.flatten(), hog_feature])\n",
        "\n",
        "    features_list.append(features)\n",
        "\n",
        "  features_list = np.array(features_list)\n",
        "  return features_list\n",
        "\n",
        "# call the method to extract features\n",
        "features_train6 = get_features_m6(train_image)\n"
      ]
    },
    {
      "cell_type": "code",
      "execution_count": null,
      "metadata": {
        "id": "p-pF-JAmeHrR"
      },
      "outputs": [],
      "source": [
        "#data split for train and validation\n",
        "X_train, X_val, y_train, y_val = train_test_split(features_train6, df_train['label'], test_size=0.3, random_state=RANDOM_SEED)\n",
        "\n",
        "#train model\n",
        "m6 = build_svm_model(X_train, X_val, y_train, y_val)"
      ]
    },
    {
      "cell_type": "code",
      "execution_count": null,
      "metadata": {
        "id": "3D_0LGL2eL4h"
      },
      "outputs": [],
      "source": [
        "\n",
        "# make predictions on validation data\n",
        "y_pred = m6.predict(X_val)\n",
        "\n",
        "# evaluate model\n",
        "accuracy, confusion_matrix = evaluate(y_val.map({'cat':0,'dog':1}),np.where(y_pred=='dog',1,0))\n",
        "print(f'Accuracy: {accuracy}')\n",
        "plot_confusion_matrix(confusion_matrix)\n"
      ]
    },
    {
      "cell_type": "code",
      "execution_count": null,
      "metadata": {
        "id": "7rIU4AbredWb"
      },
      "outputs": [],
      "source": []
    },
    {
      "cell_type": "code",
      "execution_count": null,
      "metadata": {
        "id": "f1wFlQPVed4i"
      },
      "outputs": [],
      "source": []
    },
    {
      "cell_type": "markdown",
      "metadata": {
        "id": "WbP0iP7befa0"
      },
      "source": [
        "Grayscale + Resize + SIFT"
      ]
    },
    {
      "cell_type": "code",
      "execution_count": null,
      "metadata": {
        "id": "j39UFINveebO"
      },
      "outputs": [],
      "source": [
        "# method to get image features\n",
        "def get_features_m4(images, resized_dim=(128, 128)):\n",
        "  features_list = []\n",
        "  sift = cv2.xfeatures2d.SIFT_create()\n",
        "  for img in images:\n",
        "    # image preprocessing\n",
        "    img_grayscaled = cv2.cvtColor(img, cv2.COLOR_BGR2GRAY)\n",
        "    img_resized = cv2.resize(img_grayscaled, resized_dim)\n",
        "\n",
        "    # feature extraction\n",
        "    kp, des = sift.detectAndCompute(img_resized,None)\n",
        "    if des is None:\n",
        "      des = np.zeros((1,128))\n",
        "    features = des.flatten()\n",
        "\n",
        "    features_list.append(features)\n",
        "\n",
        "  features_list = np.array(features_list)\n",
        "  return features_list\n",
        "\n",
        "# call the method to extract features\n",
        "features_train = get_features_m4(train_image)\n"
      ]
    },
    {
      "cell_type": "code",
      "execution_count": null,
      "metadata": {
        "id": "8VZNPDX7fnfv"
      },
      "outputs": [],
      "source": []
    },
    {
      "cell_type": "code",
      "execution_count": null,
      "metadata": {
        "id": "ftUj22gvfnq5"
      },
      "outputs": [],
      "source": []
    },
    {
      "cell_type": "markdown",
      "source": [
        "#model-2"
      ],
      "metadata": {
        "id": "TnsJPseu_sKM"
      }
    },
    {
      "cell_type": "markdown",
      "metadata": {
        "id": "6P2F0Piwfn6I"
      },
      "source": [
        "Random Forest Classifer\n",
        "Gray scale"
      ]
    },
    {
      "cell_type": "code",
      "execution_count": 10,
      "metadata": {
        "id": "i28Ov4rffr_6"
      },
      "outputs": [],
      "source": [
        "from sklearn.ensemble import RandomForestClassifier\n",
        "\n",
        "def build_rf_model(X_train, X_val, y_train, y_val):\n",
        "    # build model\n",
        "    clf = RandomForestClassifier(n_estimators=100, random_state=RANDOM_SEED)\n",
        "    clf.fit(X_train, y_train)\n",
        "    return clf"
      ]
    },
    {
      "cell_type": "code",
      "execution_count": 20,
      "metadata": {
        "id": "0QiEBzNbf0rO"
      },
      "outputs": [],
      "source": [
        "# method to get image features\n",
        "def get_features_m1_r(images):\n",
        "  features_list = []\n",
        "  for img in images:\n",
        "    # image preprocessing\n",
        "    img_grayscaled = cv2.cvtColor(img, cv2.COLOR_BGR2GRAY)\n",
        "\n",
        "    # vectorise/ feature extraction\n",
        "    features = img_grayscaled.flatten()\n",
        "\n",
        "    features_list.append(features)\n",
        "\n",
        "  features_list = np.array(features_list)\n",
        "  return features_list"
      ]
    },
    {
      "cell_type": "code",
      "execution_count": 21,
      "metadata": {
        "colab": {
          "base_uri": "https://localhost:8080/"
        },
        "id": "5qnt3oaZf1pJ",
        "outputId": "c07709ee-004e-42b0-e5e4-0356c469c35b"
      },
      "outputs": [
        {
          "output_type": "stream",
          "name": "stdout",
          "text": [
            "(10000, 40000)\n"
          ]
        }
      ],
      "source": [
        "# feature extraction\n",
        "features_train_r = get_features_m1_r(train_image)\n",
        "print(features_train_r.shape)"
      ]
    },
    {
      "cell_type": "code",
      "execution_count": 22,
      "metadata": {
        "id": "VMtaV9OugFpL"
      },
      "outputs": [],
      "source": [
        "X_train, X_val, y_train, y_val = train_test_split(features_train_r, df_train['label'], test_size=0.3, random_state=RANDOM_SEED)\n",
        "\n",
        "# train model\n",
        "m1_r = build_rf_model(X_train, X_val, y_train, y_val)"
      ]
    },
    {
      "cell_type": "code",
      "execution_count": 23,
      "metadata": {
        "colab": {
          "base_uri": "https://localhost:8080/",
          "height": 312
        },
        "id": "cAJ9D603ga8f",
        "outputId": "2f74015f-3c51-4609-cd12-1b101a26d759"
      },
      "outputs": [
        {
          "output_type": "stream",
          "name": "stdout",
          "text": [
            "Accuracy: 0.6073333333333333\n"
          ]
        },
        {
          "output_type": "display_data",
          "data": {
            "text/plain": [
              "<Figure size 432x288 with 1 Axes>"
            ],
            "image/png": "[encoded data removed]"
          },
          "metadata": {
            "needs_background": "light"
          }
        }
      ],
      "source": [
        "\n",
        "# make predictions on validation data\n",
        "y_pred_1r = m1_r.predict(X_val)\n",
        "\n",
        "# evaluate model\n",
        "accuracy, confusion_matrix = evaluate(y_val.map({'cat':0,'dog':1}),np.where(y_pred_1r=='dog',1,0))\n",
        "print(f'Accuracy: {accuracy}')\n",
        "plot_confusion_matrix(confusion_matrix)\n"
      ]
    },
    {
      "cell_type": "code",
      "execution_count": null,
      "metadata": {
        "id": "Ke0jbwU8FL82"
      },
      "outputs": [],
      "source": []
    },
    {
      "cell_type": "markdown",
      "metadata": {
        "id": "0ItqZIIcFMpq"
      },
      "source": [
        "Model: Random Forest Classifer\n",
        "Feature: Gray Scale and Hog"
      ]
    },
    {
      "cell_type": "code",
      "execution_count": 24,
      "metadata": {
        "id": "hjy04RPAkqpH"
      },
      "outputs": [],
      "source": [
        "# method to get image features\n",
        "def get_features_r1(images):\n",
        "  features_list = []\n",
        "  for img in images:\n",
        "    # image preprocessing\n",
        "    img_grayscaled = cv2.cvtColor(img, cv2.COLOR_BGR2GRAY)\n",
        "    # gray scale with edge and hog\n",
        "    img_blurred = cv2.GaussianBlur(img_grayscaled,(3,3), 2)\n",
        "    hog_feature = hog(img_blurred)\n",
        "\n",
        "    # vectorize/ feature extraction\n",
        "    features = np.hstack([img_blurred.flatten(), hog_feature])\n",
        "\n",
        "    features_list.append(features)\n",
        "\n",
        "  features_list = np.array(features_list)\n",
        "  return features_list\n",
        "\n",
        "\n"
      ]
    },
    {
      "cell_type": "code",
      "execution_count": null,
      "metadata": {
        "id": "tHLbhFJpF2j2"
      },
      "outputs": [],
      "source": [
        "# feature extraction\n",
        "# call the method to extract features\n",
        "#features_train_r1 = get_features_r1(train_image)\n",
        "features_train_r1 = get_features_r1(train_image)\n",
        "print(features_train_r1.shape)"
      ]
    },
    {
      "cell_type": "code",
      "execution_count": null,
      "metadata": {
        "id": "dWD7ZKwgGIN3"
      },
      "outputs": [],
      "source": [
        "X_train, X_val, y_train, y_val = train_test_split(features_train_r1, df_train['label'], test_size=0.3, random_state=RANDOM_SEED)\n",
        "\n",
        "# train model\n",
        "m1_r1 = build_rf_model(X_train, X_val, y_train, y_val)"
      ]
    },
    {
      "cell_type": "code",
      "execution_count": null,
      "metadata": {
        "id": "ehMBoHWhGOCB"
      },
      "outputs": [],
      "source": [
        "\n",
        "# make predictions on validation data\n",
        "y_pred_r1 = m1_r1.predict(X_val)\n",
        "\n",
        "# evaluate model\n",
        "accuracy, confusion_matrix = evaluate(y_val.map({'cat':0,'dog':1}),np.where(y_pred_1r=='dog',1,0))\n",
        "print(f'Accuracy: {accuracy}')\n",
        "plot_confusion_matrix(confusion_matrix)\n"
      ]
    },
    {
      "cell_type": "markdown",
      "source": [
        "Model: Random Forest\n",
        "Process:\n",
        "Grayscale Resize"
      ],
      "metadata": {
        "id": "FV_U3NXHd1B-"
      }
    },
    {
      "cell_type": "code",
      "source": [
        "import cv2\n",
        "from skimage.feature import hog\n",
        "\n",
        "# method to get image features\n",
        "def get_features_r2(images, size=(128, 128)):\n",
        "  features_list = []\n",
        "  for img in images:\n",
        "    # image preprocessing\n",
        "    img_resized = cv2.resize(img, size)\n",
        "    img_grayscaled = cv2.cvtColor(img_resized, cv2.COLOR_BGR2GRAY)\n",
        "\n",
        "    # HOG feature extraction\n",
        "    hog_features = hog(img_grayscaled, orientations=9, pixels_per_cell=(8, 8), cells_per_block=(2, 2), block_norm='L2-Hys')\n",
        "\n",
        "    # vectorise/ feature extraction\n",
        "    features = np.concatenate((img_grayscaled.flatten(), hog_features))\n",
        "\n",
        "    features_list.append(features)\n",
        "\n",
        "  features_list = np.array(features_list)\n",
        "  return features_list\n"
      ],
      "metadata": {
        "id": "jgbWK2RieJx2"
      },
      "execution_count": 11,
      "outputs": []
    },
    {
      "cell_type": "code",
      "source": [
        "\n",
        "# feature extraction\n",
        "features_train_r2 = get_features_r2(train_image)\n",
        "print(features_train_r2.shape)"
      ],
      "metadata": {
        "colab": {
          "base_uri": "https://localhost:8080/"
        },
        "id": "k2ZecGUmeRyM",
        "outputId": "3440d481-ddb3-4b67-facf-b679e131aaa5"
      },
      "execution_count": 12,
      "outputs": [
        {
          "output_type": "stream",
          "name": "stdout",
          "text": [
            "(10000, 24484)\n"
          ]
        }
      ]
    },
    {
      "cell_type": "code",
      "source": [
        "X_train, X_val, y_train, y_val = train_test_split(features_train_r2, df_train['label'], test_size=0.3, random_state=RANDOM_SEED)\n",
        "\n",
        "# train model\n",
        "m1_r2 = build_rf_model(X_train, X_val, y_train, y_val)"
      ],
      "metadata": {
        "id": "QPBt0gSdecJ2"
      },
      "execution_count": 13,
      "outputs": []
    },
    {
      "cell_type": "code",
      "source": [
        "\n",
        "# make predictions on validation data\n",
        "y_pred_r2 = m1_r2.predict(X_val)\n",
        "\n",
        "# evaluate model\n",
        "accuracy, confusion_matrix = evaluate(y_val.map({'cat':0,'dog':1}),np.where(y_pred_r2=='dog',1,0))\n",
        "print(f'Accuracy: {accuracy}')\n",
        "plot_confusion_matrix(confusion_matrix)\n"
      ],
      "metadata": {
        "colab": {
          "base_uri": "https://localhost:8080/",
          "height": 312
        },
        "id": "AHiJuZzxelHF",
        "outputId": "a554584f-e25e-43bd-af34-c70a53a85aad"
      },
      "execution_count": 14,
      "outputs": [
        {
          "output_type": "stream",
          "name": "stdout",
          "text": [
            "Accuracy: 0.681\n"
          ]
        },
        {
          "output_type": "display_data",
          "data": {
            "text/plain": [
              "<Figure size 432x288 with 1 Axes>"
            ],
            "image/png": "[encoded data removed]"
          },
          "metadata": {
            "needs_background": "light"
          }
        }
      ]
    },
    {
      "cell_type": "code",
      "source": [
        "# feature extraction - test data\n",
        "features_test_r2 = get_features_r2(test_image)\n",
        "print(features_test_r2.shape)\n",
        "\n",
        "# get model predictions\n",
        "predictions_r2 = m1_r2.predict(features_test_r2)\n",
        "print(predictions_r2)\n",
        "     "
      ],
      "metadata": {
        "colab": {
          "base_uri": "https://localhost:8080/"
        },
        "id": "3gnglOM_7GWi",
        "outputId": "66046046-32dd-4015-db93-a4977e864b4e"
      },
      "execution_count": 18,
      "outputs": [
        {
          "output_type": "stream",
          "name": "stdout",
          "text": [
            "(1000, 24484)\n",
            "['dog' 'cat' 'cat' 'cat' 'dog' 'dog' 'dog' 'cat' 'dog' 'dog' 'cat' 'dog'\n",
            " 'dog' 'cat' 'dog' 'dog' 'cat' 'dog' 'dog' 'cat' 'cat' 'dog' 'dog' 'cat'\n",
            " 'cat' 'cat' 'cat' 'dog' 'cat' 'dog' 'dog' 'dog' 'dog' 'cat' 'cat' 'cat'\n",
            " 'cat' 'dog' 'cat' 'cat' 'dog' 'cat' 'cat' 'dog' 'cat' 'cat' 'dog' 'cat'\n",
            " 'cat' 'dog' 'cat' 'cat' 'cat' 'dog' 'dog' 'cat' 'dog' 'cat' 'cat' 'cat'\n",
            " 'dog' 'cat' 'cat' 'dog' 'dog' 'cat' 'dog' 'dog' 'cat' 'cat' 'cat' 'cat'\n",
            " 'cat' 'cat' 'dog' 'cat' 'cat' 'dog' 'dog' 'cat' 'dog' 'dog' 'cat' 'cat'\n",
            " 'cat' 'dog' 'cat' 'cat' 'cat' 'cat' 'dog' 'dog' 'cat' 'dog' 'dog' 'cat'\n",
            " 'cat' 'cat' 'cat' 'cat' 'cat' 'dog' 'cat' 'dog' 'dog' 'cat' 'dog' 'dog'\n",
            " 'dog' 'dog' 'cat' 'dog' 'dog' 'cat' 'cat' 'cat' 'dog' 'dog' 'dog' 'cat'\n",
            " 'cat' 'dog' 'cat' 'dog' 'cat' 'cat' 'cat' 'cat' 'dog' 'cat' 'cat' 'cat'\n",
            " 'dog' 'dog' 'dog' 'cat' 'dog' 'cat' 'cat' 'cat' 'dog' 'cat' 'dog' 'cat'\n",
            " 'cat' 'cat' 'dog' 'dog' 'cat' 'dog' 'cat' 'dog' 'dog' 'dog' 'cat' 'dog'\n",
            " 'cat' 'cat' 'dog' 'cat' 'dog' 'cat' 'cat' 'dog' 'cat' 'cat' 'cat' 'dog'\n",
            " 'cat' 'dog' 'dog' 'cat' 'cat' 'dog' 'cat' 'cat' 'cat' 'cat' 'cat' 'cat'\n",
            " 'dog' 'cat' 'cat' 'cat' 'cat' 'cat' 'dog' 'dog' 'dog' 'cat' 'cat' 'cat'\n",
            " 'dog' 'cat' 'dog' 'cat' 'dog' 'cat' 'cat' 'cat' 'dog' 'dog' 'cat' 'cat'\n",
            " 'cat' 'dog' 'dog' 'cat' 'cat' 'cat' 'dog' 'dog' 'dog' 'dog' 'cat' 'cat'\n",
            " 'cat' 'cat' 'cat' 'dog' 'cat' 'cat' 'cat' 'cat' 'cat' 'dog' 'cat' 'cat'\n",
            " 'cat' 'dog' 'cat' 'dog' 'cat' 'cat' 'dog' 'cat' 'cat' 'cat' 'cat' 'cat'\n",
            " 'cat' 'dog' 'dog' 'dog' 'dog' 'cat' 'cat' 'cat' 'dog' 'cat' 'dog' 'cat'\n",
            " 'dog' 'dog' 'cat' 'dog' 'cat' 'cat' 'dog' 'cat' 'dog' 'cat' 'dog' 'cat'\n",
            " 'dog' 'dog' 'cat' 'dog' 'dog' 'cat' 'dog' 'cat' 'cat' 'dog' 'cat' 'cat'\n",
            " 'dog' 'dog' 'cat' 'cat' 'dog' 'dog' 'dog' 'cat' 'cat' 'dog' 'dog' 'cat'\n",
            " 'cat' 'dog' 'cat' 'dog' 'dog' 'cat' 'dog' 'dog' 'cat' 'dog' 'dog' 'cat'\n",
            " 'cat' 'cat' 'cat' 'cat' 'dog' 'dog' 'cat' 'cat' 'cat' 'dog' 'cat' 'cat'\n",
            " 'cat' 'cat' 'dog' 'dog' 'cat' 'dog' 'cat' 'cat' 'cat' 'cat' 'dog' 'cat'\n",
            " 'cat' 'dog' 'cat' 'dog' 'cat' 'dog' 'dog' 'cat' 'cat' 'dog' 'cat' 'dog'\n",
            " 'cat' 'cat' 'cat' 'cat' 'dog' 'dog' 'dog' 'cat' 'cat' 'dog' 'cat' 'dog'\n",
            " 'cat' 'dog' 'cat' 'dog' 'dog' 'dog' 'dog' 'cat' 'dog' 'cat' 'cat' 'cat'\n",
            " 'dog' 'cat' 'dog' 'cat' 'cat' 'cat' 'cat' 'cat' 'dog' 'dog' 'cat' 'cat'\n",
            " 'cat' 'cat' 'cat' 'cat' 'cat' 'cat' 'cat' 'dog' 'cat' 'cat' 'dog' 'cat'\n",
            " 'cat' 'dog' 'dog' 'cat' 'cat' 'dog' 'cat' 'cat' 'dog' 'cat' 'cat' 'dog'\n",
            " 'cat' 'cat' 'dog' 'cat' 'cat' 'dog' 'cat' 'cat' 'dog' 'cat' 'cat' 'dog'\n",
            " 'dog' 'dog' 'cat' 'cat' 'cat' 'dog' 'dog' 'cat' 'cat' 'dog' 'cat' 'cat'\n",
            " 'cat' 'cat' 'cat' 'cat' 'cat' 'cat' 'dog' 'cat' 'cat' 'dog' 'dog' 'cat'\n",
            " 'cat' 'dog' 'cat' 'cat' 'cat' 'dog' 'cat' 'dog' 'dog' 'cat' 'dog' 'cat'\n",
            " 'dog' 'cat' 'dog' 'cat' 'cat' 'dog' 'dog' 'cat' 'dog' 'cat' 'dog' 'cat'\n",
            " 'cat' 'cat' 'dog' 'cat' 'cat' 'dog' 'cat' 'dog' 'dog' 'dog' 'dog' 'dog'\n",
            " 'cat' 'dog' 'cat' 'cat' 'dog' 'cat' 'cat' 'cat' 'dog' 'cat' 'cat' 'cat'\n",
            " 'cat' 'cat' 'cat' 'cat' 'cat' 'dog' 'dog' 'cat' 'cat' 'dog' 'dog' 'dog'\n",
            " 'cat' 'cat' 'cat' 'cat' 'cat' 'cat' 'dog' 'cat' 'cat' 'cat' 'dog' 'dog'\n",
            " 'cat' 'dog' 'cat' 'cat' 'dog' 'dog' 'cat' 'cat' 'cat' 'dog' 'dog' 'cat'\n",
            " 'dog' 'cat' 'cat' 'cat' 'cat' 'dog' 'cat' 'dog' 'dog' 'cat' 'dog' 'cat'\n",
            " 'dog' 'dog' 'dog' 'cat' 'cat' 'cat' 'cat' 'dog' 'dog' 'cat' 'dog' 'cat'\n",
            " 'cat' 'dog' 'cat' 'cat' 'cat' 'cat' 'dog' 'dog' 'cat' 'dog' 'cat' 'cat'\n",
            " 'cat' 'dog' 'cat' 'dog' 'dog' 'dog' 'dog' 'cat' 'cat' 'cat' 'cat' 'cat'\n",
            " 'cat' 'cat' 'cat' 'dog' 'cat' 'cat' 'dog' 'cat' 'dog' 'dog' 'dog' 'cat'\n",
            " 'cat' 'dog' 'dog' 'cat' 'cat' 'cat' 'cat' 'cat' 'cat' 'cat' 'cat' 'dog'\n",
            " 'dog' 'dog' 'cat' 'dog' 'cat' 'dog' 'dog' 'cat' 'dog' 'cat' 'cat' 'dog'\n",
            " 'cat' 'cat' 'cat' 'cat' 'dog' 'cat' 'cat' 'dog' 'dog' 'cat' 'dog' 'cat'\n",
            " 'dog' 'cat' 'cat' 'cat' 'dog' 'dog' 'cat' 'dog' 'cat' 'cat' 'dog' 'cat'\n",
            " 'dog' 'cat' 'cat' 'dog' 'cat' 'cat' 'cat' 'dog' 'cat' 'dog' 'cat' 'cat'\n",
            " 'cat' 'cat' 'cat' 'dog' 'cat' 'cat' 'cat' 'cat' 'dog' 'cat' 'cat' 'cat'\n",
            " 'dog' 'dog' 'cat' 'cat' 'dog' 'cat' 'cat' 'dog' 'cat' 'cat' 'cat' 'dog'\n",
            " 'cat' 'cat' 'cat' 'dog' 'dog' 'cat' 'cat' 'dog' 'cat' 'dog' 'dog' 'cat'\n",
            " 'cat' 'cat' 'dog' 'cat' 'dog' 'cat' 'cat' 'dog' 'dog' 'cat' 'cat' 'cat'\n",
            " 'cat' 'cat' 'dog' 'dog' 'cat' 'dog' 'cat' 'cat' 'cat' 'cat' 'cat' 'dog'\n",
            " 'cat' 'cat' 'cat' 'dog' 'cat' 'cat' 'dog' 'dog' 'cat' 'dog' 'dog' 'cat'\n",
            " 'dog' 'dog' 'dog' 'dog' 'cat' 'cat' 'cat' 'cat' 'cat' 'dog' 'cat' 'cat'\n",
            " 'cat' 'cat' 'dog' 'cat' 'dog' 'cat' 'dog' 'cat' 'dog' 'dog' 'cat' 'cat'\n",
            " 'cat' 'cat' 'cat' 'dog' 'cat' 'cat' 'dog' 'cat' 'cat' 'dog' 'cat' 'dog'\n",
            " 'dog' 'dog' 'cat' 'cat' 'cat' 'cat' 'dog' 'cat' 'cat' 'cat' 'cat' 'cat'\n",
            " 'dog' 'dog' 'cat' 'dog' 'dog' 'cat' 'dog' 'cat' 'dog' 'cat' 'cat' 'cat'\n",
            " 'cat' 'cat' 'cat' 'cat' 'cat' 'cat' 'dog' 'dog' 'cat' 'cat' 'cat' 'dog'\n",
            " 'dog' 'cat' 'dog' 'dog' 'cat' 'dog' 'cat' 'dog' 'cat' 'dog' 'dog' 'cat'\n",
            " 'cat' 'dog' 'dog' 'dog' 'dog' 'cat' 'cat' 'cat' 'cat' 'cat' 'cat' 'dog'\n",
            " 'cat' 'dog' 'cat' 'dog' 'dog' 'cat' 'dog' 'cat' 'dog' 'cat' 'cat' 'cat'\n",
            " 'dog' 'dog' 'cat' 'cat' 'cat' 'dog' 'cat' 'cat' 'cat' 'cat' 'cat' 'cat'\n",
            " 'dog' 'cat' 'dog' 'dog' 'dog' 'dog' 'cat' 'dog' 'cat' 'cat' 'cat' 'cat'\n",
            " 'dog' 'cat' 'dog' 'dog' 'cat' 'dog' 'cat' 'dog' 'dog' 'cat' 'cat' 'cat'\n",
            " 'cat' 'dog' 'dog' 'cat' 'cat' 'cat' 'dog' 'cat' 'cat' 'dog' 'dog' 'dog'\n",
            " 'cat' 'cat' 'cat' 'cat' 'dog' 'cat' 'dog' 'cat' 'dog' 'cat' 'dog' 'cat'\n",
            " 'dog' 'dog' 'dog' 'dog' 'cat' 'dog' 'cat' 'dog' 'dog' 'cat' 'cat' 'cat'\n",
            " 'cat' 'dog' 'cat' 'cat' 'dog' 'dog' 'cat' 'cat' 'dog' 'dog' 'cat' 'cat'\n",
            " 'cat' 'dog' 'cat' 'cat' 'dog' 'cat' 'cat' 'dog' 'dog' 'cat' 'cat' 'dog'\n",
            " 'cat' 'dog' 'dog' 'dog' 'dog' 'cat' 'cat' 'cat' 'cat' 'dog' 'cat' 'cat'\n",
            " 'dog' 'cat' 'cat' 'cat' 'cat' 'cat' 'cat' 'dog' 'cat' 'cat' 'cat' 'cat'\n",
            " 'dog' 'cat' 'dog' 'dog' 'dog' 'dog' 'dog' 'dog' 'cat' 'dog' 'dog' 'cat'\n",
            " 'dog' 'cat' 'dog' 'cat' 'cat' 'cat' 'cat' 'cat' 'cat' 'cat' 'cat' 'cat'\n",
            " 'cat' 'cat' 'dog' 'cat' 'dog' 'cat' 'dog' 'dog' 'cat' 'cat' 'dog' 'dog'\n",
            " 'cat' 'cat' 'cat' 'cat' 'dog' 'dog' 'dog' 'cat' 'dog' 'dog' 'cat' 'cat'\n",
            " 'cat' 'dog' 'dog' 'dog' 'cat' 'cat' 'cat' 'cat' 'cat' 'dog' 'cat' 'dog'\n",
            " 'dog' 'cat' 'cat' 'cat']\n"
          ]
        }
      ]
    },
    {
      "cell_type": "markdown",
      "source": [
        "#import predictions to the json file"
      ],
      "metadata": {
        "id": "1YHeAV4v7HkV"
      }
    },
    {
      "cell_type": "code",
      "source": [
        "df_test['prediction_r2']=predictions_r2\n",
        "\n",
        "# Save the predictions to a .csv file\n",
        "df_test.to_csv('test-predictions.csv', index=False)\n"
      ],
      "metadata": {
        "id": "GYezGYZf7qY3"
      },
      "execution_count": 20,
      "outputs": []
    },
    {
      "cell_type": "code",
      "source": [
        "df_test"
      ],
      "metadata": {
        "colab": {
          "base_uri": "https://localhost:8080/",
          "height": 423
        },
        "id": "nwjVLpkaOHPK",
        "outputId": "808c9851-a25e-46ca-fd7b-4a27bd2dee7e"
      },
      "execution_count": 22,
      "outputs": [
        {
          "output_type": "execute_result",
          "data": {
            "text/plain": [
              "       id prediction_r2\n",
              "0       1           dog\n",
              "1       2           cat\n",
              "2       3           cat\n",
              "3       4           cat\n",
              "4       5           dog\n",
              "..    ...           ...\n",
              "995   996           dog\n",
              "996   997           dog\n",
              "997   998           cat\n",
              "998   999           cat\n",
              "999  1000           cat\n",
              "\n",
              "[1000 rows x 2 columns]"
            ],
            "text/html": [
              "\n",
              "  <div id=\"df-75a155dc-2fde-4d3d-8b3e-e0f5473a0be0\">\n",
              "    <div class=\"colab-df-container\">\n",
              "      <div>\n",
              "<style scoped>\n",
              "    .dataframe tbody tr th:only-of-type {\n",
              "        vertical-align: middle;\n",
              "    }\n",
              "\n",
              "    .dataframe tbody tr th {\n",
              "        vertical-align: top;\n",
              "    }\n",
              "\n",
              "    .dataframe thead th {\n",
              "        text-align: right;\n",
              "    }\n",
              "</style>\n",
              "<table border=\"1\" class=\"dataframe\">\n",
              "  <thead>\n",
              "    <tr style=\"text-align: right;\">\n",
              "      <th></th>\n",
              "      <th>id</th>\n",
              "      <th>prediction_r2</th>\n",
              "    </tr>\n",
              "  </thead>\n",
              "  <tbody>\n",
              "    <tr>\n",
              "      <th>0</th>\n",
              "      <td>1</td>\n",
              "      <td>dog</td>\n",
              "    </tr>\n",
              "    <tr>\n",
              "      <th>1</th>\n",
              "      <td>2</td>\n",
              "      <td>cat</td>\n",
              "    </tr>\n",
              "    <tr>\n",
              "      <th>2</th>\n",
              "      <td>3</td>\n",
              "      <td>cat</td>\n",
              "    </tr>\n",
              "    <tr>\n",
              "      <th>3</th>\n",
              "      <td>4</td>\n",
              "      <td>cat</td>\n",
              "    </tr>\n",
              "    <tr>\n",
              "      <th>4</th>\n",
              "      <td>5</td>\n",
              "      <td>dog</td>\n",
              "    </tr>\n",
              "    <tr>\n",
              "      <th>...</th>\n",
              "      <td>...</td>\n",
              "      <td>...</td>\n",
              "    </tr>\n",
              "    <tr>\n",
              "      <th>995</th>\n",
              "      <td>996</td>\n",
              "      <td>dog</td>\n",
              "    </tr>\n",
              "    <tr>\n",
              "      <th>996</th>\n",
              "      <td>997</td>\n",
              "      <td>dog</td>\n",
              "    </tr>\n",
              "    <tr>\n",
              "      <th>997</th>\n",
              "      <td>998</td>\n",
              "      <td>cat</td>\n",
              "    </tr>\n",
              "    <tr>\n",
              "      <th>998</th>\n",
              "      <td>999</td>\n",
              "      <td>cat</td>\n",
              "    </tr>\n",
              "    <tr>\n",
              "      <th>999</th>\n",
              "      <td>1000</td>\n",
              "      <td>cat</td>\n",
              "    </tr>\n",
              "  </tbody>\n",
              "</table>\n",
              "<p>1000 rows × 2 columns</p>\n",
              "</div>\n",
              "      <button class=\"colab-df-convert\" onclick=\"convertToInteractive('df-75a155dc-2fde-4d3d-8b3e-e0f5473a0be0')\"\n",
              "              title=\"Convert this dataframe to an interactive table.\"\n",
              "              style=\"display:none;\">\n",
              "        \n",
              "  <svg xmlns=\"http://www.w3.org/2000/svg\" height=\"24px\"viewBox=\"0 0 24 24\"\n",
              "       width=\"24px\">\n",
              "    <path d=\"M0 0h24v24H0V0z\" fill=\"none\"/>\n",
              "    <path d=\"M18.56 5.44l.94 2.06.94-2.06 2.06-.94-2.06-.94-.94-2.06-.94 2.06-2.06.94zm-11 1L8.5 8.5l.94-2.06 2.06-.94-2.06-.94L8.5 2.5l-.94 2.06-2.06.94zm10 10l.94 2.06.94-2.06 2.06-.94-2.06-.94-.94-2.06-.94 2.06-2.06.94z\"/><path d=\"M17.41 7.96l-1.37-1.37c-.4-.4-.92-.59-1.43-.59-.52 0-1.04.2-1.43.59L10.3 9.45l-7.72 7.72c-.78.78-.78 2.05 0 2.83L4 21.41c.39.39.9.59 1.41.59.51 0 1.02-.2 1.41-.59l7.78-7.78 2.81-2.81c.8-.78.8-2.07 0-2.86zM5.41 20L4 18.59l7.72-7.72 1.47 1.35L5.41 20z\"/>\n",
              "  </svg>\n",
              "      </button>\n",
              "      \n",
              "  <style>\n",
              "    .colab-df-container {\n",
              "      display:flex;\n",
              "      flex-wrap:wrap;\n",
              "      gap: 12px;\n",
              "    }\n",
              "\n",
              "    .colab-df-convert {\n",
              "      background-color: #E8F0FE;\n",
              "      border: none;\n",
              "      border-radius: 50%;\n",
              "      cursor: pointer;\n",
              "      display: none;\n",
              "      fill: #1967D2;\n",
              "      height: 32px;\n",
              "      padding: 0 0 0 0;\n",
              "      width: 32px;\n",
              "    }\n",
              "\n",
              "    .colab-df-convert:hover {\n",
              "      background-color: #E2EBFA;\n",
              "      box-shadow: 0px 1px 2px rgba(60, 64, 67, 0.3), 0px 1px 3px 1px rgba(60, 64, 67, 0.15);\n",
              "      fill: #174EA6;\n",
              "    }\n",
              "\n",
              "    [theme=dark] .colab-df-convert {\n",
              "      background-color: #3B4455;\n",
              "      fill: #D2E3FC;\n",
              "    }\n",
              "\n",
              "    [theme=dark] .colab-df-convert:hover {\n",
              "      background-color: #434B5C;\n",
              "      box-shadow: 0px 1px 3px 1px rgba(0, 0, 0, 0.15);\n",
              "      filter: drop-shadow(0px 1px 2px rgba(0, 0, 0, 0.3));\n",
              "      fill: #FFFFFF;\n",
              "    }\n",
              "  </style>\n",
              "\n",
              "      <script>\n",
              "        const buttonEl =\n",
              "          document.querySelector('#df-75a155dc-2fde-4d3d-8b3e-e0f5473a0be0 button.colab-df-convert');\n",
              "        buttonEl.style.display =\n",
              "          google.colab.kernel.accessAllowed ? 'block' : 'none';\n",
              "\n",
              "        async function convertToInteractive(key) {\n",
              "          const element = document.querySelector('#df-75a155dc-2fde-4d3d-8b3e-e0f5473a0be0');\n",
              "          const dataTable =\n",
              "            await google.colab.kernel.invokeFunction('convertToInteractive',\n",
              "                                                     [key], {});\n",
              "          if (!dataTable) return;\n",
              "\n",
              "          const docLinkHtml = 'Like what you see? Visit the ' +\n",
              "            '<a target=\"_blank\" href=https://colab.research.google.com/notebooks/data_table.ipynb>data table notebook</a>'\n",
              "            + ' to learn more about interactive tables.';\n",
              "          element.innerHTML = '';\n",
              "          dataTable['output_type'] = 'display_data';\n",
              "          await google.colab.output.renderOutput(dataTable, element);\n",
              "          const docLink = document.createElement('div');\n",
              "          docLink.innerHTML = docLinkHtml;\n",
              "          element.appendChild(docLink);\n",
              "        }\n",
              "      </script>\n",
              "    </div>\n",
              "  </div>\n",
              "  "
            ]
          },
          "metadata": {},
          "execution_count": 22
        }
      ]
    },
    {
      "cell_type": "code",
      "source": [
        "import json\n",
        "import pandas as pd\n",
        "\n",
        "test_file_path = \"/content/test-predictions.csv\"\n",
        "df_test2 = pd.read_csv(test_file_path)\n",
        "df_test2 = df_test2[[\"id\", \"prediction_r2\"]]\n",
        "\n",
        "data = []\n",
        "for index, row in df_test2.iterrows():\n",
        "    data.append({'id': row['id'], 'prediction': row['prediction_r2']})\n",
        "\n",
        "submission_file_path = \"submission.json\"\n",
        "with open(submission_file_path, 'w') as fp:\n",
        "    for item in data:\n",
        "        fp.write(json.dumps(item) + '\\n')\n"
      ],
      "metadata": {
        "id": "vrGP_Oy17Gc3"
      },
      "execution_count": 23,
      "outputs": []
    },
    {
      "cell_type": "code",
      "source": [],
      "metadata": {
        "id": "kMtLwILVN7jt"
      },
      "execution_count": null,
      "outputs": []
    }
  ],
  "metadata": {
    "colab": {
      "provenance": [],
      "authorship_tag": "ABX9TyMsMBXQZFGU6hcLTF8xhtYI",
      "include_colab_link": true
    },
    "kernelspec": {
      "display_name": "Python 3",
      "name": "python3"
    },
    "language_info": {
      "name": "python"
    }
  },
  "nbformat": 4,
  "nbformat_minor": 0
}